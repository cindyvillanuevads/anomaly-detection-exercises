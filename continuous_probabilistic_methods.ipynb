{
 "cells": [
  {
   "cell_type": "markdown",
   "metadata": {},
   "source": [
    "# Exercises"
   ]
  },
  {
   "cell_type": "code",
   "execution_count": 1,
   "metadata": {},
   "outputs": [],
   "source": [
    "import numpy as np\n",
    "import pandas as pd\n",
    "import seaborn as sns\n",
    "import matplotlib.pyplot as plt\n",
    "\n",
    "# turn off pink warning boxes\n",
    "import warnings\n",
    "warnings.filterwarnings(\"ignore\")"
   ]
  },
  {
   "cell_type": "markdown",
   "metadata": {},
   "source": [
    "**Define a function named get_lower_and_upper_bounds that has two arguments. The first argument is a pandas Series. The second argument is the multiplier, which should have a default argument of 1.5.**"
   ]
  },
  {
   "cell_type": "markdown",
   "metadata": {},
   "source": [
    "**1. Using lemonade.csv dataset and focusing on continuous variables:**"
   ]
  },
  {
   "cell_type": "code",
   "execution_count": 2,
   "metadata": {},
   "outputs": [],
   "source": [
    "df = pd.read_csv('https://gist.githubusercontent.com/ryanorsinger/19bc7eccd6279661bd13307026628ace/raw/e4b5d6787015a4782f96cad6d1d62a8bdbac54c7/lemonade.csv')"
   ]
  },
  {
   "cell_type": "code",
   "execution_count": 3,
   "metadata": {
    "scrolled": false
   },
   "outputs": [
    {
     "data": {
      "text/html": [
       "<div>\n",
       "<style scoped>\n",
       "    .dataframe tbody tr th:only-of-type {\n",
       "        vertical-align: middle;\n",
       "    }\n",
       "\n",
       "    .dataframe tbody tr th {\n",
       "        vertical-align: top;\n",
       "    }\n",
       "\n",
       "    .dataframe thead th {\n",
       "        text-align: right;\n",
       "    }\n",
       "</style>\n",
       "<table border=\"1\" class=\"dataframe\">\n",
       "  <thead>\n",
       "    <tr style=\"text-align: right;\">\n",
       "      <th></th>\n",
       "      <th>Date</th>\n",
       "      <th>Day</th>\n",
       "      <th>Temperature</th>\n",
       "      <th>Rainfall</th>\n",
       "      <th>Flyers</th>\n",
       "      <th>Price</th>\n",
       "      <th>Sales</th>\n",
       "    </tr>\n",
       "  </thead>\n",
       "  <tbody>\n",
       "    <tr>\n",
       "      <th>0</th>\n",
       "      <td>1/1/17</td>\n",
       "      <td>Sunday</td>\n",
       "      <td>27.0</td>\n",
       "      <td>2.00</td>\n",
       "      <td>15</td>\n",
       "      <td>0.5</td>\n",
       "      <td>10</td>\n",
       "    </tr>\n",
       "    <tr>\n",
       "      <th>1</th>\n",
       "      <td>1/2/17</td>\n",
       "      <td>Monday</td>\n",
       "      <td>28.9</td>\n",
       "      <td>1.33</td>\n",
       "      <td>15</td>\n",
       "      <td>0.5</td>\n",
       "      <td>13</td>\n",
       "    </tr>\n",
       "    <tr>\n",
       "      <th>2</th>\n",
       "      <td>1/3/17</td>\n",
       "      <td>Tuesday</td>\n",
       "      <td>34.5</td>\n",
       "      <td>1.33</td>\n",
       "      <td>27</td>\n",
       "      <td>0.5</td>\n",
       "      <td>15</td>\n",
       "    </tr>\n",
       "    <tr>\n",
       "      <th>3</th>\n",
       "      <td>1/4/17</td>\n",
       "      <td>Wednesday</td>\n",
       "      <td>44.1</td>\n",
       "      <td>1.05</td>\n",
       "      <td>28</td>\n",
       "      <td>0.5</td>\n",
       "      <td>17</td>\n",
       "    </tr>\n",
       "    <tr>\n",
       "      <th>4</th>\n",
       "      <td>1/5/17</td>\n",
       "      <td>Thursday</td>\n",
       "      <td>42.4</td>\n",
       "      <td>1.00</td>\n",
       "      <td>33</td>\n",
       "      <td>0.5</td>\n",
       "      <td>18</td>\n",
       "    </tr>\n",
       "  </tbody>\n",
       "</table>\n",
       "</div>"
      ],
      "text/plain": [
       "     Date        Day  Temperature  Rainfall  Flyers  Price  Sales\n",
       "0  1/1/17     Sunday         27.0      2.00      15    0.5     10\n",
       "1  1/2/17     Monday         28.9      1.33      15    0.5     13\n",
       "2  1/3/17    Tuesday         34.5      1.33      27    0.5     15\n",
       "3  1/4/17  Wednesday         44.1      1.05      28    0.5     17\n",
       "4  1/5/17   Thursday         42.4      1.00      33    0.5     18"
      ]
     },
     "execution_count": 3,
     "metadata": {},
     "output_type": "execute_result"
    }
   ],
   "source": [
    "df.head()"
   ]
  },
  {
   "cell_type": "code",
   "execution_count": 4,
   "metadata": {
    "scrolled": true
   },
   "outputs": [
    {
     "name": "stdout",
     "output_type": "stream",
     "text": [
      "<class 'pandas.core.frame.DataFrame'>\n",
      "RangeIndex: 365 entries, 0 to 364\n",
      "Data columns (total 7 columns):\n",
      " #   Column       Non-Null Count  Dtype  \n",
      "---  ------       --------------  -----  \n",
      " 0   Date         365 non-null    object \n",
      " 1   Day          365 non-null    object \n",
      " 2   Temperature  365 non-null    float64\n",
      " 3   Rainfall     365 non-null    float64\n",
      " 4   Flyers       365 non-null    int64  \n",
      " 5   Price        365 non-null    float64\n",
      " 6   Sales        365 non-null    int64  \n",
      "dtypes: float64(3), int64(2), object(2)\n",
      "memory usage: 20.1+ KB\n"
     ]
    }
   ],
   "source": [
    "df.info()"
   ]
  },
  {
   "cell_type": "code",
   "execution_count": 5,
   "metadata": {
    "scrolled": true
   },
   "outputs": [
    {
     "data": {
      "text/html": [
       "<div>\n",
       "<style scoped>\n",
       "    .dataframe tbody tr th:only-of-type {\n",
       "        vertical-align: middle;\n",
       "    }\n",
       "\n",
       "    .dataframe tbody tr th {\n",
       "        vertical-align: top;\n",
       "    }\n",
       "\n",
       "    .dataframe thead th {\n",
       "        text-align: right;\n",
       "    }\n",
       "</style>\n",
       "<table border=\"1\" class=\"dataframe\">\n",
       "  <thead>\n",
       "    <tr style=\"text-align: right;\">\n",
       "      <th></th>\n",
       "      <th>count</th>\n",
       "      <th>mean</th>\n",
       "      <th>std</th>\n",
       "      <th>min</th>\n",
       "      <th>25%</th>\n",
       "      <th>50%</th>\n",
       "      <th>75%</th>\n",
       "      <th>max</th>\n",
       "    </tr>\n",
       "  </thead>\n",
       "  <tbody>\n",
       "    <tr>\n",
       "      <th>Temperature</th>\n",
       "      <td>365.0</td>\n",
       "      <td>61.224658</td>\n",
       "      <td>18.085892</td>\n",
       "      <td>15.1</td>\n",
       "      <td>49.70</td>\n",
       "      <td>61.10</td>\n",
       "      <td>71.70</td>\n",
       "      <td>212.0</td>\n",
       "    </tr>\n",
       "    <tr>\n",
       "      <th>Rainfall</th>\n",
       "      <td>365.0</td>\n",
       "      <td>0.825973</td>\n",
       "      <td>0.273890</td>\n",
       "      <td>0.4</td>\n",
       "      <td>0.65</td>\n",
       "      <td>0.74</td>\n",
       "      <td>0.91</td>\n",
       "      <td>2.5</td>\n",
       "    </tr>\n",
       "    <tr>\n",
       "      <th>Flyers</th>\n",
       "      <td>365.0</td>\n",
       "      <td>40.104110</td>\n",
       "      <td>13.786445</td>\n",
       "      <td>-38.0</td>\n",
       "      <td>31.00</td>\n",
       "      <td>39.00</td>\n",
       "      <td>49.00</td>\n",
       "      <td>80.0</td>\n",
       "    </tr>\n",
       "    <tr>\n",
       "      <th>Price</th>\n",
       "      <td>365.0</td>\n",
       "      <td>0.500000</td>\n",
       "      <td>0.000000</td>\n",
       "      <td>0.5</td>\n",
       "      <td>0.50</td>\n",
       "      <td>0.50</td>\n",
       "      <td>0.50</td>\n",
       "      <td>0.5</td>\n",
       "    </tr>\n",
       "    <tr>\n",
       "      <th>Sales</th>\n",
       "      <td>365.0</td>\n",
       "      <td>27.865753</td>\n",
       "      <td>30.948132</td>\n",
       "      <td>7.0</td>\n",
       "      <td>20.00</td>\n",
       "      <td>25.00</td>\n",
       "      <td>30.00</td>\n",
       "      <td>534.0</td>\n",
       "    </tr>\n",
       "  </tbody>\n",
       "</table>\n",
       "</div>"
      ],
      "text/plain": [
       "             count       mean        std   min    25%    50%    75%    max\n",
       "Temperature  365.0  61.224658  18.085892  15.1  49.70  61.10  71.70  212.0\n",
       "Rainfall     365.0   0.825973   0.273890   0.4   0.65   0.74   0.91    2.5\n",
       "Flyers       365.0  40.104110  13.786445 -38.0  31.00  39.00  49.00   80.0\n",
       "Price        365.0   0.500000   0.000000   0.5   0.50   0.50   0.50    0.5\n",
       "Sales        365.0  27.865753  30.948132   7.0  20.00  25.00  30.00  534.0"
      ]
     },
     "execution_count": 5,
     "metadata": {},
     "output_type": "execute_result"
    }
   ],
   "source": [
    "df.describe().T"
   ]
  },
  {
   "cell_type": "code",
   "execution_count": 6,
   "metadata": {},
   "outputs": [
    {
     "data": {
      "text/plain": [
       "<seaborn.axisgrid.PairGrid at 0x7f8b7f3e2ee0>"
      ]
     },
     "execution_count": 6,
     "metadata": {},
     "output_type": "execute_result"
    },
    {
     "data": {
      "image/png": "[encoded data removed]",
      "text/plain": [
       "<Figure size 900x900 with 30 Axes>"
      ]
     },
     "metadata": {
      "needs_background": "light"
     },
     "output_type": "display_data"
    }
   ],
   "source": [
    "sns.pairplot(df)"
   ]
  },
  {
   "cell_type": "code",
   "execution_count": 7,
   "metadata": {
    "scrolled": false
   },
   "outputs": [
    {
     "name": "stdout",
     "output_type": "stream",
     "text": [
      "Date\n"
     ]
    },
    {
     "data": {
      "image/png": "[encoded data removed]",
      "text/plain": [
       "<Figure size 432x288 with 1 Axes>"
      ]
     },
     "metadata": {
      "needs_background": "light"
     },
     "output_type": "display_data"
    },
    {
     "name": "stdout",
     "output_type": "stream",
     "text": [
      "Day\n"
     ]
    },
    {
     "data": {
      "image/png": "[encoded data removed]",
      "text/plain": [
       "<Figure size 432x288 with 1 Axes>"
      ]
     },
     "metadata": {
      "needs_background": "light"
     },
     "output_type": "display_data"
    },
    {
     "name": "stdout",
     "output_type": "stream",
     "text": [
      "Temperature\n"
     ]
    },
    {
     "data": {
      "image/png": "[encoded data removed]",
      "text/plain": [
       "<Figure size 432x288 with 1 Axes>"
      ]
     },
     "metadata": {
      "needs_background": "light"
     },
     "output_type": "display_data"
    },
    {
     "name": "stdout",
     "output_type": "stream",
     "text": [
      "Rainfall\n"
     ]
    },
    {
     "data": {
      "image/png": "[encoded data removed]",
      "text/plain": [
       "<Figure size 432x288 with 1 Axes>"
      ]
     },
     "metadata": {
      "needs_background": "light"
     },
     "output_type": "display_data"
    },
    {
     "name": "stdout",
     "output_type": "stream",
     "text": [
      "Flyers\n"
     ]
    },
    {
     "data": {
      "image/png": "[encoded data removed]",
      "text/plain": [
       "<Figure size 432x288 with 1 Axes>"
      ]
     },
     "metadata": {
      "needs_background": "light"
     },
     "output_type": "display_data"
    },
    {
     "name": "stdout",
     "output_type": "stream",
     "text": [
      "Price\n"
     ]
    },
    {
     "data": {
      "image/png": "[encoded data removed]",
      "text/plain": [
       "<Figure size 432x288 with 1 Axes>"
      ]
     },
     "metadata": {
      "needs_background": "light"
     },
     "output_type": "display_data"
    },
    {
     "name": "stdout",
     "output_type": "stream",
     "text": [
      "Sales\n"
     ]
    },
    {
     "data": {
      "image/png": "[encoded data removed]",
      "text/plain": [
       "<Figure size 432x288 with 1 Axes>"
      ]
     },
     "metadata": {
      "needs_background": "light"
     },
     "output_type": "display_data"
    }
   ],
   "source": [
    "for col in df.columns:\n",
    "    print(col)\n",
    "    plt.hist(df[col])\n",
    "    plt.xticks(rotation = 90)\n",
    "    plt.show()"
   ]
  },
  {
   "cell_type": "code",
   "execution_count": 8,
   "metadata": {},
   "outputs": [],
   "source": [
    "def get_low_and_up_bounds_df(df, k=1.5):\n",
    "    '''\n",
    "    This function takes in a pandas dataframe, list of columns, and k value, and will print out upper and lower bounds for each column.\n",
    "    It takes in a default argument of the col_list being all numeric columns, and the k value=1.5\n",
    "    '''\n",
    "    from IPython.display import display, display_html\n",
    "    col_list=list(df.select_dtypes(include=['int', 'float'], exclude='O'))\n",
    "    for col in col_list:\n",
    "        # Find the lower and upper quartiles\n",
    "        q_25, q_75 = df[col].quantile([0.25, 0.75])\n",
    "        # Find the Inner Quartile Range\n",
    "        q_iqr = q_75 - q_25\n",
    "        # Find the Upper Bound\n",
    "        q_upper = q_75 + (k * q_iqr)\n",
    "        # Find the Lower Bound\n",
    "        q_lower = q_25 - (k * q_iqr)\n",
    "        # Identify outliers\n",
    "        outliers_lower = df[df[col] < q_lower]\n",
    "        outliers_upper = df[df[col] > q_upper]\n",
    "        # outliers_all = pd.concat([outliers_lower, outliers_upper], axis=0)\n",
    "        print('')\n",
    "        print(col)\n",
    "        print(f'K: {k}')\n",
    "        print(f'Lower Fence: {q_lower}')\n",
    "        print(f'Upper Fence: {q_upper}')\n",
    "        print('')\n",
    "        print(f'Lower Outliers in {col}')\n",
    "        print('')\n",
    "        display(outliers_lower)\n",
    "        print('')\n",
    "        print(f'Upper Outliers in {col}')\n",
    "        print('')\n",
    "        display (outliers_upper)\n",
    "        print('')\n",
    "        plt.figure(figsize=(16,4))\n",
    "        plt.subplot(1, 2, 1)\n",
    "        sns.histplot(data = df, x = col, kde=True)\n",
    "        plt.axvline(x = q_lower, color = 'orange')\n",
    "        plt.axvline(x = q_upper, color= 'orange')\n",
    "        plt.title(col)\n",
    "        plt.subplot(1, 2, 2)\n",
    "        sns.boxplot(x=col, data=df, whis = k)\n",
    "        plt.title(col)\n",
    "        plt.show()\n",
    "        print('-------------------------------------------------------------------')"
   ]
  },
  {
   "cell_type": "code",
   "execution_count": 9,
   "metadata": {
    "scrolled": false
   },
   "outputs": [
    {
     "name": "stdout",
     "output_type": "stream",
     "text": [
      "\n",
      "Temperature\n",
      "K: 1.5\n",
      "Lower Fence: 16.700000000000003\n",
      "Upper Fence: 104.7\n",
      "\n",
      "Lower Outliers in Temperature\n",
      "\n"
     ]
    },
    {
     "data": {
      "text/html": [
       "<div>\n",
       "<style scoped>\n",
       "    .dataframe tbody tr th:only-of-type {\n",
       "        vertical-align: middle;\n",
       "    }\n",
       "\n",
       "    .dataframe tbody tr th {\n",
       "        vertical-align: top;\n",
       "    }\n",
       "\n",
       "    .dataframe thead th {\n",
       "        text-align: right;\n",
       "    }\n",
       "</style>\n",
       "<table border=\"1\" class=\"dataframe\">\n",
       "  <thead>\n",
       "    <tr style=\"text-align: right;\">\n",
       "      <th></th>\n",
       "      <th>Date</th>\n",
       "      <th>Day</th>\n",
       "      <th>Temperature</th>\n",
       "      <th>Rainfall</th>\n",
       "      <th>Flyers</th>\n",
       "      <th>Price</th>\n",
       "      <th>Sales</th>\n",
       "    </tr>\n",
       "  </thead>\n",
       "  <tbody>\n",
       "    <tr>\n",
       "      <th>364</th>\n",
       "      <td>12/31/17</td>\n",
       "      <td>Sunday</td>\n",
       "      <td>15.1</td>\n",
       "      <td>2.5</td>\n",
       "      <td>9</td>\n",
       "      <td>0.5</td>\n",
       "      <td>7</td>\n",
       "    </tr>\n",
       "  </tbody>\n",
       "</table>\n",
       "</div>"
      ],
      "text/plain": [
       "         Date     Day  Temperature  Rainfall  Flyers  Price  Sales\n",
       "364  12/31/17  Sunday         15.1       2.5       9    0.5      7"
      ]
     },
     "metadata": {},
     "output_type": "display_data"
    },
    {
     "name": "stdout",
     "output_type": "stream",
     "text": [
      "\n",
      "Upper Outliers in Temperature\n",
      "\n"
     ]
    },
    {
     "data": {
      "text/html": [
       "<div>\n",
       "<style scoped>\n",
       "    .dataframe tbody tr th:only-of-type {\n",
       "        vertical-align: middle;\n",
       "    }\n",
       "\n",
       "    .dataframe tbody tr th {\n",
       "        vertical-align: top;\n",
       "    }\n",
       "\n",
       "    .dataframe thead th {\n",
       "        text-align: right;\n",
       "    }\n",
       "</style>\n",
       "<table border=\"1\" class=\"dataframe\">\n",
       "  <thead>\n",
       "    <tr style=\"text-align: right;\">\n",
       "      <th></th>\n",
       "      <th>Date</th>\n",
       "      <th>Day</th>\n",
       "      <th>Temperature</th>\n",
       "      <th>Rainfall</th>\n",
       "      <th>Flyers</th>\n",
       "      <th>Price</th>\n",
       "      <th>Sales</th>\n",
       "    </tr>\n",
       "  </thead>\n",
       "  <tbody>\n",
       "    <tr>\n",
       "      <th>41</th>\n",
       "      <td>2/11/17</td>\n",
       "      <td>Saturday</td>\n",
       "      <td>212.0</td>\n",
       "      <td>0.91</td>\n",
       "      <td>35</td>\n",
       "      <td>0.5</td>\n",
       "      <td>21</td>\n",
       "    </tr>\n",
       "  </tbody>\n",
       "</table>\n",
       "</div>"
      ],
      "text/plain": [
       "       Date       Day  Temperature  Rainfall  Flyers  Price  Sales\n",
       "41  2/11/17  Saturday        212.0      0.91      35    0.5     21"
      ]
     },
     "metadata": {},
     "output_type": "display_data"
    },
    {
     "name": "stdout",
     "output_type": "stream",
     "text": [
      "\n"
     ]
    },
    {
     "data": {
      "image/png": "[encoded data removed]",
      "text/plain": [
       "<Figure size 1152x288 with 2 Axes>"
      ]
     },
     "metadata": {
      "needs_background": "light"
     },
     "output_type": "display_data"
    },
    {
     "name": "stdout",
     "output_type": "stream",
     "text": [
      "-------------------------------------------------------------------\n",
      "\n",
      "Rainfall\n",
      "K: 1.5\n",
      "Lower Fence: 0.26\n",
      "Upper Fence: 1.3\n",
      "\n",
      "Lower Outliers in Rainfall\n",
      "\n"
     ]
    },
    {
     "data": {
      "text/html": [
       "<div>\n",
       "<style scoped>\n",
       "    .dataframe tbody tr th:only-of-type {\n",
       "        vertical-align: middle;\n",
       "    }\n",
       "\n",
       "    .dataframe tbody tr th {\n",
       "        vertical-align: top;\n",
       "    }\n",
       "\n",
       "    .dataframe thead th {\n",
       "        text-align: right;\n",
       "    }\n",
       "</style>\n",
       "<table border=\"1\" class=\"dataframe\">\n",
       "  <thead>\n",
       "    <tr style=\"text-align: right;\">\n",
       "      <th></th>\n",
       "      <th>Date</th>\n",
       "      <th>Day</th>\n",
       "      <th>Temperature</th>\n",
       "      <th>Rainfall</th>\n",
       "      <th>Flyers</th>\n",
       "      <th>Price</th>\n",
       "      <th>Sales</th>\n",
       "    </tr>\n",
       "  </thead>\n",
       "  <tbody>\n",
       "  </tbody>\n",
       "</table>\n",
       "</div>"
      ],
      "text/plain": [
       "Empty DataFrame\n",
       "Columns: [Date, Day, Temperature, Rainfall, Flyers, Price, Sales]\n",
       "Index: []"
      ]
     },
     "metadata": {},
     "output_type": "display_data"
    },
    {
     "name": "stdout",
     "output_type": "stream",
     "text": [
      "\n",
      "Upper Outliers in Rainfall\n",
      "\n"
     ]
    },
    {
     "data": {
      "text/html": [
       "<div>\n",
       "<style scoped>\n",
       "    .dataframe tbody tr th:only-of-type {\n",
       "        vertical-align: middle;\n",
       "    }\n",
       "\n",
       "    .dataframe tbody tr th {\n",
       "        vertical-align: top;\n",
       "    }\n",
       "\n",
       "    .dataframe thead th {\n",
       "        text-align: right;\n",
       "    }\n",
       "</style>\n",
       "<table border=\"1\" class=\"dataframe\">\n",
       "  <thead>\n",
       "    <tr style=\"text-align: right;\">\n",
       "      <th></th>\n",
       "      <th>Date</th>\n",
       "      <th>Day</th>\n",
       "      <th>Temperature</th>\n",
       "      <th>Rainfall</th>\n",
       "      <th>Flyers</th>\n",
       "      <th>Price</th>\n",
       "      <th>Sales</th>\n",
       "    </tr>\n",
       "  </thead>\n",
       "  <tbody>\n",
       "    <tr>\n",
       "      <th>0</th>\n",
       "      <td>1/1/17</td>\n",
       "      <td>Sunday</td>\n",
       "      <td>27.0</td>\n",
       "      <td>2.00</td>\n",
       "      <td>15</td>\n",
       "      <td>0.5</td>\n",
       "      <td>10</td>\n",
       "    </tr>\n",
       "    <tr>\n",
       "      <th>1</th>\n",
       "      <td>1/2/17</td>\n",
       "      <td>Monday</td>\n",
       "      <td>28.9</td>\n",
       "      <td>1.33</td>\n",
       "      <td>15</td>\n",
       "      <td>0.5</td>\n",
       "      <td>13</td>\n",
       "    </tr>\n",
       "    <tr>\n",
       "      <th>2</th>\n",
       "      <td>1/3/17</td>\n",
       "      <td>Tuesday</td>\n",
       "      <td>34.5</td>\n",
       "      <td>1.33</td>\n",
       "      <td>27</td>\n",
       "      <td>0.5</td>\n",
       "      <td>15</td>\n",
       "    </tr>\n",
       "    <tr>\n",
       "      <th>5</th>\n",
       "      <td>1/6/17</td>\n",
       "      <td>Friday</td>\n",
       "      <td>25.3</td>\n",
       "      <td>1.54</td>\n",
       "      <td>23</td>\n",
       "      <td>0.5</td>\n",
       "      <td>11</td>\n",
       "    </tr>\n",
       "    <tr>\n",
       "      <th>6</th>\n",
       "      <td>1/7/17</td>\n",
       "      <td>Saturday</td>\n",
       "      <td>32.9</td>\n",
       "      <td>1.54</td>\n",
       "      <td>19</td>\n",
       "      <td>0.5</td>\n",
       "      <td>13</td>\n",
       "    </tr>\n",
       "    <tr>\n",
       "      <th>10</th>\n",
       "      <td>1/11/17</td>\n",
       "      <td>Wednesday</td>\n",
       "      <td>32.6</td>\n",
       "      <td>1.54</td>\n",
       "      <td>23</td>\n",
       "      <td>0.5</td>\n",
       "      <td>12</td>\n",
       "    </tr>\n",
       "    <tr>\n",
       "      <th>11</th>\n",
       "      <td>1/12/17</td>\n",
       "      <td>Thursday</td>\n",
       "      <td>38.2</td>\n",
       "      <td>1.33</td>\n",
       "      <td>16</td>\n",
       "      <td>0.5</td>\n",
       "      <td>14</td>\n",
       "    </tr>\n",
       "    <tr>\n",
       "      <th>12</th>\n",
       "      <td>1/13/17</td>\n",
       "      <td>Friday</td>\n",
       "      <td>37.5</td>\n",
       "      <td>1.33</td>\n",
       "      <td>19</td>\n",
       "      <td>0.5</td>\n",
       "      <td>15</td>\n",
       "    </tr>\n",
       "    <tr>\n",
       "      <th>15</th>\n",
       "      <td>1/16/17</td>\n",
       "      <td>Monday</td>\n",
       "      <td>30.6</td>\n",
       "      <td>1.67</td>\n",
       "      <td>24</td>\n",
       "      <td>0.5</td>\n",
       "      <td>12</td>\n",
       "    </tr>\n",
       "    <tr>\n",
       "      <th>16</th>\n",
       "      <td>1/17/17</td>\n",
       "      <td>Tuesday</td>\n",
       "      <td>32.2</td>\n",
       "      <td>1.43</td>\n",
       "      <td>26</td>\n",
       "      <td>0.5</td>\n",
       "      <td>14</td>\n",
       "    </tr>\n",
       "    <tr>\n",
       "      <th>19</th>\n",
       "      <td>1/20/17</td>\n",
       "      <td>Friday</td>\n",
       "      <td>31.6</td>\n",
       "      <td>1.43</td>\n",
       "      <td>20</td>\n",
       "      <td>0.5</td>\n",
       "      <td>12</td>\n",
       "    </tr>\n",
       "    <tr>\n",
       "      <th>23</th>\n",
       "      <td>1/24/17</td>\n",
       "      <td>Tuesday</td>\n",
       "      <td>28.6</td>\n",
       "      <td>1.54</td>\n",
       "      <td>20</td>\n",
       "      <td>0.5</td>\n",
       "      <td>12</td>\n",
       "    </tr>\n",
       "    <tr>\n",
       "      <th>27</th>\n",
       "      <td>1/28/17</td>\n",
       "      <td>Saturday</td>\n",
       "      <td>34.9</td>\n",
       "      <td>1.33</td>\n",
       "      <td>15</td>\n",
       "      <td>0.5</td>\n",
       "      <td>13</td>\n",
       "    </tr>\n",
       "    <tr>\n",
       "      <th>28</th>\n",
       "      <td>1/29/17</td>\n",
       "      <td>Sunday</td>\n",
       "      <td>35.2</td>\n",
       "      <td>1.33</td>\n",
       "      <td>27</td>\n",
       "      <td>0.5</td>\n",
       "      <td>14</td>\n",
       "    </tr>\n",
       "    <tr>\n",
       "      <th>337</th>\n",
       "      <td>12/4/17</td>\n",
       "      <td>Monday</td>\n",
       "      <td>34.9</td>\n",
       "      <td>1.54</td>\n",
       "      <td>16</td>\n",
       "      <td>0.5</td>\n",
       "      <td>13</td>\n",
       "    </tr>\n",
       "    <tr>\n",
       "      <th>338</th>\n",
       "      <td>12/5/17</td>\n",
       "      <td>Tuesday</td>\n",
       "      <td>22.0</td>\n",
       "      <td>1.82</td>\n",
       "      <td>11</td>\n",
       "      <td>0.5</td>\n",
       "      <td>10</td>\n",
       "    </tr>\n",
       "    <tr>\n",
       "      <th>342</th>\n",
       "      <td>12/9/17</td>\n",
       "      <td>Saturday</td>\n",
       "      <td>31.2</td>\n",
       "      <td>1.43</td>\n",
       "      <td>19</td>\n",
       "      <td>0.5</td>\n",
       "      <td>14</td>\n",
       "    </tr>\n",
       "    <tr>\n",
       "      <th>343</th>\n",
       "      <td>12/10/17</td>\n",
       "      <td>Sunday</td>\n",
       "      <td>31.3</td>\n",
       "      <td>1.82</td>\n",
       "      <td>15</td>\n",
       "      <td>0.5</td>\n",
       "      <td>11</td>\n",
       "    </tr>\n",
       "    <tr>\n",
       "      <th>345</th>\n",
       "      <td>12/12/17</td>\n",
       "      <td>Tuesday</td>\n",
       "      <td>33.5</td>\n",
       "      <td>1.33</td>\n",
       "      <td>22</td>\n",
       "      <td>0.5</td>\n",
       "      <td>15</td>\n",
       "    </tr>\n",
       "    <tr>\n",
       "      <th>346</th>\n",
       "      <td>12/13/17</td>\n",
       "      <td>Wednesday</td>\n",
       "      <td>32.2</td>\n",
       "      <td>1.43</td>\n",
       "      <td>26</td>\n",
       "      <td>0.5</td>\n",
       "      <td>14</td>\n",
       "    </tr>\n",
       "    <tr>\n",
       "      <th>347</th>\n",
       "      <td>12/14/17</td>\n",
       "      <td>Thursday</td>\n",
       "      <td>31.9</td>\n",
       "      <td>1.54</td>\n",
       "      <td>24</td>\n",
       "      <td>0.5</td>\n",
       "      <td>13</td>\n",
       "    </tr>\n",
       "    <tr>\n",
       "      <th>350</th>\n",
       "      <td>12/17/17</td>\n",
       "      <td>Sunday</td>\n",
       "      <td>32.2</td>\n",
       "      <td>1.33</td>\n",
       "      <td>16</td>\n",
       "      <td>0.5</td>\n",
       "      <td>14</td>\n",
       "    </tr>\n",
       "    <tr>\n",
       "      <th>351</th>\n",
       "      <td>12/18/17</td>\n",
       "      <td>Monday</td>\n",
       "      <td>30.9</td>\n",
       "      <td>1.43</td>\n",
       "      <td>27</td>\n",
       "      <td>0.5</td>\n",
       "      <td>13</td>\n",
       "    </tr>\n",
       "    <tr>\n",
       "      <th>354</th>\n",
       "      <td>12/21/17</td>\n",
       "      <td>Thursday</td>\n",
       "      <td>40.5</td>\n",
       "      <td>1.33</td>\n",
       "      <td>23</td>\n",
       "      <td>0.5</td>\n",
       "      <td>15</td>\n",
       "    </tr>\n",
       "    <tr>\n",
       "      <th>355</th>\n",
       "      <td>12/22/17</td>\n",
       "      <td>Friday</td>\n",
       "      <td>30.9</td>\n",
       "      <td>1.54</td>\n",
       "      <td>17</td>\n",
       "      <td>0.5</td>\n",
       "      <td>13</td>\n",
       "    </tr>\n",
       "    <tr>\n",
       "      <th>359</th>\n",
       "      <td>12/26/17</td>\n",
       "      <td>Tuesday</td>\n",
       "      <td>28.9</td>\n",
       "      <td>1.43</td>\n",
       "      <td>23</td>\n",
       "      <td>0.5</td>\n",
       "      <td>13</td>\n",
       "    </tr>\n",
       "    <tr>\n",
       "      <th>363</th>\n",
       "      <td>12/30/17</td>\n",
       "      <td>Saturday</td>\n",
       "      <td>30.9</td>\n",
       "      <td>1.43</td>\n",
       "      <td>22</td>\n",
       "      <td>0.5</td>\n",
       "      <td>13</td>\n",
       "    </tr>\n",
       "    <tr>\n",
       "      <th>364</th>\n",
       "      <td>12/31/17</td>\n",
       "      <td>Sunday</td>\n",
       "      <td>15.1</td>\n",
       "      <td>2.50</td>\n",
       "      <td>9</td>\n",
       "      <td>0.5</td>\n",
       "      <td>7</td>\n",
       "    </tr>\n",
       "  </tbody>\n",
       "</table>\n",
       "</div>"
      ],
      "text/plain": [
       "         Date        Day  Temperature  Rainfall  Flyers  Price  Sales\n",
       "0      1/1/17     Sunday         27.0      2.00      15    0.5     10\n",
       "1      1/2/17     Monday         28.9      1.33      15    0.5     13\n",
       "2      1/3/17    Tuesday         34.5      1.33      27    0.5     15\n",
       "5      1/6/17     Friday         25.3      1.54      23    0.5     11\n",
       "6      1/7/17   Saturday         32.9      1.54      19    0.5     13\n",
       "10    1/11/17  Wednesday         32.6      1.54      23    0.5     12\n",
       "11    1/12/17   Thursday         38.2      1.33      16    0.5     14\n",
       "12    1/13/17     Friday         37.5      1.33      19    0.5     15\n",
       "15    1/16/17     Monday         30.6      1.67      24    0.5     12\n",
       "16    1/17/17    Tuesday         32.2      1.43      26    0.5     14\n",
       "19    1/20/17     Friday         31.6      1.43      20    0.5     12\n",
       "23    1/24/17    Tuesday         28.6      1.54      20    0.5     12\n",
       "27    1/28/17   Saturday         34.9      1.33      15    0.5     13\n",
       "28    1/29/17     Sunday         35.2      1.33      27    0.5     14\n",
       "337   12/4/17     Monday         34.9      1.54      16    0.5     13\n",
       "338   12/5/17    Tuesday         22.0      1.82      11    0.5     10\n",
       "342   12/9/17   Saturday         31.2      1.43      19    0.5     14\n",
       "343  12/10/17     Sunday         31.3      1.82      15    0.5     11\n",
       "345  12/12/17    Tuesday         33.5      1.33      22    0.5     15\n",
       "346  12/13/17  Wednesday         32.2      1.43      26    0.5     14\n",
       "347  12/14/17   Thursday         31.9      1.54      24    0.5     13\n",
       "350  12/17/17     Sunday         32.2      1.33      16    0.5     14\n",
       "351  12/18/17     Monday         30.9      1.43      27    0.5     13\n",
       "354  12/21/17   Thursday         40.5      1.33      23    0.5     15\n",
       "355  12/22/17     Friday         30.9      1.54      17    0.5     13\n",
       "359  12/26/17    Tuesday         28.9      1.43      23    0.5     13\n",
       "363  12/30/17   Saturday         30.9      1.43      22    0.5     13\n",
       "364  12/31/17     Sunday         15.1      2.50       9    0.5      7"
      ]
     },
     "metadata": {},
     "output_type": "display_data"
    },
    {
     "name": "stdout",
     "output_type": "stream",
     "text": [
      "\n"
     ]
    },
    {
     "data": {
      "image/png": "[encoded data removed]",
      "text/plain": [
       "<Figure size 1152x288 with 2 Axes>"
      ]
     },
     "metadata": {
      "needs_background": "light"
     },
     "output_type": "display_data"
    },
    {
     "name": "stdout",
     "output_type": "stream",
     "text": [
      "-------------------------------------------------------------------\n",
      "\n",
      "Flyers\n",
      "K: 1.5\n",
      "Lower Fence: 4.0\n",
      "Upper Fence: 76.0\n",
      "\n",
      "Lower Outliers in Flyers\n",
      "\n"
     ]
    },
    {
     "data": {
      "text/html": [
       "<div>\n",
       "<style scoped>\n",
       "    .dataframe tbody tr th:only-of-type {\n",
       "        vertical-align: middle;\n",
       "    }\n",
       "\n",
       "    .dataframe tbody tr th {\n",
       "        vertical-align: top;\n",
       "    }\n",
       "\n",
       "    .dataframe thead th {\n",
       "        text-align: right;\n",
       "    }\n",
       "</style>\n",
       "<table border=\"1\" class=\"dataframe\">\n",
       "  <thead>\n",
       "    <tr style=\"text-align: right;\">\n",
       "      <th></th>\n",
       "      <th>Date</th>\n",
       "      <th>Day</th>\n",
       "      <th>Temperature</th>\n",
       "      <th>Rainfall</th>\n",
       "      <th>Flyers</th>\n",
       "      <th>Price</th>\n",
       "      <th>Sales</th>\n",
       "    </tr>\n",
       "  </thead>\n",
       "  <tbody>\n",
       "    <tr>\n",
       "      <th>324</th>\n",
       "      <td>11/21/17</td>\n",
       "      <td>Tuesday</td>\n",
       "      <td>47.0</td>\n",
       "      <td>0.95</td>\n",
       "      <td>-38</td>\n",
       "      <td>0.5</td>\n",
       "      <td>20</td>\n",
       "    </tr>\n",
       "  </tbody>\n",
       "</table>\n",
       "</div>"
      ],
      "text/plain": [
       "         Date      Day  Temperature  Rainfall  Flyers  Price  Sales\n",
       "324  11/21/17  Tuesday         47.0      0.95     -38    0.5     20"
      ]
     },
     "metadata": {},
     "output_type": "display_data"
    },
    {
     "name": "stdout",
     "output_type": "stream",
     "text": [
      "\n",
      "Upper Outliers in Flyers\n",
      "\n"
     ]
    },
    {
     "data": {
      "text/html": [
       "<div>\n",
       "<style scoped>\n",
       "    .dataframe tbody tr th:only-of-type {\n",
       "        vertical-align: middle;\n",
       "    }\n",
       "\n",
       "    .dataframe tbody tr th {\n",
       "        vertical-align: top;\n",
       "    }\n",
       "\n",
       "    .dataframe thead th {\n",
       "        text-align: right;\n",
       "    }\n",
       "</style>\n",
       "<table border=\"1\" class=\"dataframe\">\n",
       "  <thead>\n",
       "    <tr style=\"text-align: right;\">\n",
       "      <th></th>\n",
       "      <th>Date</th>\n",
       "      <th>Day</th>\n",
       "      <th>Temperature</th>\n",
       "      <th>Rainfall</th>\n",
       "      <th>Flyers</th>\n",
       "      <th>Price</th>\n",
       "      <th>Sales</th>\n",
       "    </tr>\n",
       "  </thead>\n",
       "  <tbody>\n",
       "    <tr>\n",
       "      <th>166</th>\n",
       "      <td>6/16/17</td>\n",
       "      <td>Friday</td>\n",
       "      <td>99.3</td>\n",
       "      <td>0.47</td>\n",
       "      <td>77</td>\n",
       "      <td>0.5</td>\n",
       "      <td>41</td>\n",
       "    </tr>\n",
       "    <tr>\n",
       "      <th>194</th>\n",
       "      <td>7/14/17</td>\n",
       "      <td>Friday</td>\n",
       "      <td>92.0</td>\n",
       "      <td>0.50</td>\n",
       "      <td>80</td>\n",
       "      <td>0.5</td>\n",
       "      <td>40</td>\n",
       "    </tr>\n",
       "  </tbody>\n",
       "</table>\n",
       "</div>"
      ],
      "text/plain": [
       "        Date     Day  Temperature  Rainfall  Flyers  Price  Sales\n",
       "166  6/16/17  Friday         99.3      0.47      77    0.5     41\n",
       "194  7/14/17  Friday         92.0      0.50      80    0.5     40"
      ]
     },
     "metadata": {},
     "output_type": "display_data"
    },
    {
     "name": "stdout",
     "output_type": "stream",
     "text": [
      "\n"
     ]
    },
    {
     "data": {
      "image/png": "[encoded data removed]",
      "text/plain": [
       "<Figure size 1152x288 with 2 Axes>"
      ]
     },
     "metadata": {
      "needs_background": "light"
     },
     "output_type": "display_data"
    },
    {
     "name": "stdout",
     "output_type": "stream",
     "text": [
      "-------------------------------------------------------------------\n",
      "\n",
      "Price\n",
      "K: 1.5\n",
      "Lower Fence: 0.5\n",
      "Upper Fence: 0.5\n",
      "\n",
      "Lower Outliers in Price\n",
      "\n"
     ]
    },
    {
     "data": {
      "text/html": [
       "<div>\n",
       "<style scoped>\n",
       "    .dataframe tbody tr th:only-of-type {\n",
       "        vertical-align: middle;\n",
       "    }\n",
       "\n",
       "    .dataframe tbody tr th {\n",
       "        vertical-align: top;\n",
       "    }\n",
       "\n",
       "    .dataframe thead th {\n",
       "        text-align: right;\n",
       "    }\n",
       "</style>\n",
       "<table border=\"1\" class=\"dataframe\">\n",
       "  <thead>\n",
       "    <tr style=\"text-align: right;\">\n",
       "      <th></th>\n",
       "      <th>Date</th>\n",
       "      <th>Day</th>\n",
       "      <th>Temperature</th>\n",
       "      <th>Rainfall</th>\n",
       "      <th>Flyers</th>\n",
       "      <th>Price</th>\n",
       "      <th>Sales</th>\n",
       "    </tr>\n",
       "  </thead>\n",
       "  <tbody>\n",
       "  </tbody>\n",
       "</table>\n",
       "</div>"
      ],
      "text/plain": [
       "Empty DataFrame\n",
       "Columns: [Date, Day, Temperature, Rainfall, Flyers, Price, Sales]\n",
       "Index: []"
      ]
     },
     "metadata": {},
     "output_type": "display_data"
    },
    {
     "name": "stdout",
     "output_type": "stream",
     "text": [
      "\n",
      "Upper Outliers in Price\n",
      "\n"
     ]
    },
    {
     "data": {
      "text/html": [
       "<div>\n",
       "<style scoped>\n",
       "    .dataframe tbody tr th:only-of-type {\n",
       "        vertical-align: middle;\n",
       "    }\n",
       "\n",
       "    .dataframe tbody tr th {\n",
       "        vertical-align: top;\n",
       "    }\n",
       "\n",
       "    .dataframe thead th {\n",
       "        text-align: right;\n",
       "    }\n",
       "</style>\n",
       "<table border=\"1\" class=\"dataframe\">\n",
       "  <thead>\n",
       "    <tr style=\"text-align: right;\">\n",
       "      <th></th>\n",
       "      <th>Date</th>\n",
       "      <th>Day</th>\n",
       "      <th>Temperature</th>\n",
       "      <th>Rainfall</th>\n",
       "      <th>Flyers</th>\n",
       "      <th>Price</th>\n",
       "      <th>Sales</th>\n",
       "    </tr>\n",
       "  </thead>\n",
       "  <tbody>\n",
       "  </tbody>\n",
       "</table>\n",
       "</div>"
      ],
      "text/plain": [
       "Empty DataFrame\n",
       "Columns: [Date, Day, Temperature, Rainfall, Flyers, Price, Sales]\n",
       "Index: []"
      ]
     },
     "metadata": {},
     "output_type": "display_data"
    },
    {
     "name": "stdout",
     "output_type": "stream",
     "text": [
      "\n"
     ]
    },
    {
     "data": {
      "image/png": "[encoded data removed]",
      "text/plain": [
       "<Figure size 1152x288 with 2 Axes>"
      ]
     },
     "metadata": {
      "needs_background": "light"
     },
     "output_type": "display_data"
    },
    {
     "name": "stdout",
     "output_type": "stream",
     "text": [
      "-------------------------------------------------------------------\n",
      "\n",
      "Sales\n",
      "K: 1.5\n",
      "Lower Fence: 5.0\n",
      "Upper Fence: 45.0\n",
      "\n",
      "Lower Outliers in Sales\n",
      "\n"
     ]
    },
    {
     "data": {
      "text/html": [
       "<div>\n",
       "<style scoped>\n",
       "    .dataframe tbody tr th:only-of-type {\n",
       "        vertical-align: middle;\n",
       "    }\n",
       "\n",
       "    .dataframe tbody tr th {\n",
       "        vertical-align: top;\n",
       "    }\n",
       "\n",
       "    .dataframe thead th {\n",
       "        text-align: right;\n",
       "    }\n",
       "</style>\n",
       "<table border=\"1\" class=\"dataframe\">\n",
       "  <thead>\n",
       "    <tr style=\"text-align: right;\">\n",
       "      <th></th>\n",
       "      <th>Date</th>\n",
       "      <th>Day</th>\n",
       "      <th>Temperature</th>\n",
       "      <th>Rainfall</th>\n",
       "      <th>Flyers</th>\n",
       "      <th>Price</th>\n",
       "      <th>Sales</th>\n",
       "    </tr>\n",
       "  </thead>\n",
       "  <tbody>\n",
       "  </tbody>\n",
       "</table>\n",
       "</div>"
      ],
      "text/plain": [
       "Empty DataFrame\n",
       "Columns: [Date, Day, Temperature, Rainfall, Flyers, Price, Sales]\n",
       "Index: []"
      ]
     },
     "metadata": {},
     "output_type": "display_data"
    },
    {
     "name": "stdout",
     "output_type": "stream",
     "text": [
      "\n",
      "Upper Outliers in Sales\n",
      "\n"
     ]
    },
    {
     "data": {
      "text/html": [
       "<div>\n",
       "<style scoped>\n",
       "    .dataframe tbody tr th:only-of-type {\n",
       "        vertical-align: middle;\n",
       "    }\n",
       "\n",
       "    .dataframe tbody tr th {\n",
       "        vertical-align: top;\n",
       "    }\n",
       "\n",
       "    .dataframe thead th {\n",
       "        text-align: right;\n",
       "    }\n",
       "</style>\n",
       "<table border=\"1\" class=\"dataframe\">\n",
       "  <thead>\n",
       "    <tr style=\"text-align: right;\">\n",
       "      <th></th>\n",
       "      <th>Date</th>\n",
       "      <th>Day</th>\n",
       "      <th>Temperature</th>\n",
       "      <th>Rainfall</th>\n",
       "      <th>Flyers</th>\n",
       "      <th>Price</th>\n",
       "      <th>Sales</th>\n",
       "    </tr>\n",
       "  </thead>\n",
       "  <tbody>\n",
       "    <tr>\n",
       "      <th>181</th>\n",
       "      <td>7/1/17</td>\n",
       "      <td>Saturday</td>\n",
       "      <td>102.9</td>\n",
       "      <td>0.47</td>\n",
       "      <td>59</td>\n",
       "      <td>0.5</td>\n",
       "      <td>143</td>\n",
       "    </tr>\n",
       "    <tr>\n",
       "      <th>182</th>\n",
       "      <td>7/2/17</td>\n",
       "      <td>Sunday</td>\n",
       "      <td>93.4</td>\n",
       "      <td>0.51</td>\n",
       "      <td>68</td>\n",
       "      <td>0.5</td>\n",
       "      <td>158</td>\n",
       "    </tr>\n",
       "    <tr>\n",
       "      <th>183</th>\n",
       "      <td>7/3/17</td>\n",
       "      <td>Monday</td>\n",
       "      <td>81.5</td>\n",
       "      <td>0.54</td>\n",
       "      <td>68</td>\n",
       "      <td>0.5</td>\n",
       "      <td>235</td>\n",
       "    </tr>\n",
       "    <tr>\n",
       "      <th>184</th>\n",
       "      <td>7/4/17</td>\n",
       "      <td>Tuesday</td>\n",
       "      <td>84.2</td>\n",
       "      <td>0.59</td>\n",
       "      <td>49</td>\n",
       "      <td>0.5</td>\n",
       "      <td>534</td>\n",
       "    </tr>\n",
       "  </tbody>\n",
       "</table>\n",
       "</div>"
      ],
      "text/plain": [
       "       Date       Day  Temperature  Rainfall  Flyers  Price  Sales\n",
       "181  7/1/17  Saturday        102.9      0.47      59    0.5    143\n",
       "182  7/2/17    Sunday         93.4      0.51      68    0.5    158\n",
       "183  7/3/17    Monday         81.5      0.54      68    0.5    235\n",
       "184  7/4/17   Tuesday         84.2      0.59      49    0.5    534"
      ]
     },
     "metadata": {},
     "output_type": "display_data"
    },
    {
     "name": "stdout",
     "output_type": "stream",
     "text": [
      "\n"
     ]
    },
    {
     "data": {
      "image/png": "[encoded data removed]",
      "text/plain": [
       "<Figure size 1152x288 with 2 Axes>"
      ]
     },
     "metadata": {
      "needs_background": "light"
     },
     "output_type": "display_data"
    },
    {
     "name": "stdout",
     "output_type": "stream",
     "text": [
      "-------------------------------------------------------------------\n"
     ]
    }
   ],
   "source": [
    "get_low_and_up_bounds_df(df)"
   ]
  },
  {
   "cell_type": "markdown",
   "metadata": {},
   "source": [
    "    - Use the IQR Range Rule and the upper and lower bounds to identify the lower outliers of each column of lemonade.csv, using the multiplier of 1.5. Do these lower outliers make sense?Which outliers should be kept?"
   ]
  },
  {
   "cell_type": "markdown",
   "metadata": {},
   "source": [
    "- Use the IQR Range Rule and the upper and lower bounds to identify the upper outliers of each column of lemonade.csv, using the multiplier of 1.5. Do these lower outliers make sense?Which outliers should be kept?"
   ]
  },
  {
   "cell_type": "code",
   "execution_count": 10,
   "metadata": {
    "scrolled": true
   },
   "outputs": [
    {
     "data": {
      "text/html": [
       "<div>\n",
       "<style scoped>\n",
       "    .dataframe tbody tr th:only-of-type {\n",
       "        vertical-align: middle;\n",
       "    }\n",
       "\n",
       "    .dataframe tbody tr th {\n",
       "        vertical-align: top;\n",
       "    }\n",
       "\n",
       "    .dataframe thead th {\n",
       "        text-align: right;\n",
       "    }\n",
       "</style>\n",
       "<table border=\"1\" class=\"dataframe\">\n",
       "  <thead>\n",
       "    <tr style=\"text-align: right;\">\n",
       "      <th></th>\n",
       "      <th>Date</th>\n",
       "      <th>Day</th>\n",
       "      <th>Temperature</th>\n",
       "      <th>Rainfall</th>\n",
       "      <th>Flyers</th>\n",
       "      <th>Price</th>\n",
       "      <th>Sales</th>\n",
       "    </tr>\n",
       "  </thead>\n",
       "  <tbody>\n",
       "    <tr>\n",
       "      <th>0</th>\n",
       "      <td>1/1/17</td>\n",
       "      <td>Sunday</td>\n",
       "      <td>27.0</td>\n",
       "      <td>2.0</td>\n",
       "      <td>15</td>\n",
       "      <td>0.5</td>\n",
       "      <td>10</td>\n",
       "    </tr>\n",
       "  </tbody>\n",
       "</table>\n",
       "</div>"
      ],
      "text/plain": [
       "     Date     Day  Temperature  Rainfall  Flyers  Price  Sales\n",
       "0  1/1/17  Sunday         27.0       2.0      15    0.5     10"
      ]
     },
     "execution_count": 10,
     "metadata": {},
     "output_type": "execute_result"
    }
   ],
   "source": [
    "df.head(1)"
   ]
  },
  {
   "cell_type": "code",
   "execution_count": 11,
   "metadata": {
    "scrolled": false
   },
   "outputs": [
    {
     "name": "stdout",
     "output_type": "stream",
     "text": [
      "\n",
      "Temperature\n",
      "K: 1.5\n",
      "Lower Fence: 16.700000000000003\n",
      "Upper Fence: 104.7\n",
      "\n",
      "Lower Outliers in Temperature\n",
      "\n"
     ]
    },
    {
     "data": {
      "text/html": [
       "<div>\n",
       "<style scoped>\n",
       "    .dataframe tbody tr th:only-of-type {\n",
       "        vertical-align: middle;\n",
       "    }\n",
       "\n",
       "    .dataframe tbody tr th {\n",
       "        vertical-align: top;\n",
       "    }\n",
       "\n",
       "    .dataframe thead th {\n",
       "        text-align: right;\n",
       "    }\n",
       "</style>\n",
       "<table border=\"1\" class=\"dataframe\">\n",
       "  <thead>\n",
       "    <tr style=\"text-align: right;\">\n",
       "      <th></th>\n",
       "      <th>Temperature</th>\n",
       "    </tr>\n",
       "  </thead>\n",
       "  <tbody>\n",
       "    <tr>\n",
       "      <th>364</th>\n",
       "      <td>15.1</td>\n",
       "    </tr>\n",
       "  </tbody>\n",
       "</table>\n",
       "</div>"
      ],
      "text/plain": [
       "     Temperature\n",
       "364         15.1"
      ]
     },
     "metadata": {},
     "output_type": "display_data"
    },
    {
     "name": "stdout",
     "output_type": "stream",
     "text": [
      "\n",
      "Upper Outliers in Temperature\n",
      "\n"
     ]
    },
    {
     "data": {
      "text/html": [
       "<div>\n",
       "<style scoped>\n",
       "    .dataframe tbody tr th:only-of-type {\n",
       "        vertical-align: middle;\n",
       "    }\n",
       "\n",
       "    .dataframe tbody tr th {\n",
       "        vertical-align: top;\n",
       "    }\n",
       "\n",
       "    .dataframe thead th {\n",
       "        text-align: right;\n",
       "    }\n",
       "</style>\n",
       "<table border=\"1\" class=\"dataframe\">\n",
       "  <thead>\n",
       "    <tr style=\"text-align: right;\">\n",
       "      <th></th>\n",
       "      <th>Temperature</th>\n",
       "    </tr>\n",
       "  </thead>\n",
       "  <tbody>\n",
       "    <tr>\n",
       "      <th>41</th>\n",
       "      <td>212.0</td>\n",
       "    </tr>\n",
       "  </tbody>\n",
       "</table>\n",
       "</div>"
      ],
      "text/plain": [
       "    Temperature\n",
       "41        212.0"
      ]
     },
     "metadata": {},
     "output_type": "display_data"
    },
    {
     "name": "stdout",
     "output_type": "stream",
     "text": [
      "\n"
     ]
    },
    {
     "data": {
      "image/png": "[encoded data removed]",
      "text/plain": [
       "<Figure size 1152x288 with 2 Axes>"
      ]
     },
     "metadata": {
      "needs_background": "light"
     },
     "output_type": "display_data"
    },
    {
     "name": "stdout",
     "output_type": "stream",
     "text": [
      "-------------------------------------------------------------------\n"
     ]
    }
   ],
   "source": [
    "get_low_and_up_bounds_df(df[['Temperature']])"
   ]
  },
  {
   "cell_type": "markdown",
   "metadata": {},
   "source": [
    "**temperature**\n",
    "-I should keep the lower outliers, it does not make sense to keep the upper outlier"
   ]
  },
  {
   "cell_type": "code",
   "execution_count": 12,
   "metadata": {
    "scrolled": false
   },
   "outputs": [
    {
     "name": "stdout",
     "output_type": "stream",
     "text": [
      "\n",
      "Rainfall\n",
      "K: 1.5\n",
      "Lower Fence: 0.26\n",
      "Upper Fence: 1.3\n",
      "\n",
      "Lower Outliers in Rainfall\n",
      "\n"
     ]
    },
    {
     "data": {
      "text/html": [
       "<div>\n",
       "<style scoped>\n",
       "    .dataframe tbody tr th:only-of-type {\n",
       "        vertical-align: middle;\n",
       "    }\n",
       "\n",
       "    .dataframe tbody tr th {\n",
       "        vertical-align: top;\n",
       "    }\n",
       "\n",
       "    .dataframe thead th {\n",
       "        text-align: right;\n",
       "    }\n",
       "</style>\n",
       "<table border=\"1\" class=\"dataframe\">\n",
       "  <thead>\n",
       "    <tr style=\"text-align: right;\">\n",
       "      <th></th>\n",
       "      <th>Rainfall</th>\n",
       "    </tr>\n",
       "  </thead>\n",
       "  <tbody>\n",
       "  </tbody>\n",
       "</table>\n",
       "</div>"
      ],
      "text/plain": [
       "Empty DataFrame\n",
       "Columns: [Rainfall]\n",
       "Index: []"
      ]
     },
     "metadata": {},
     "output_type": "display_data"
    },
    {
     "name": "stdout",
     "output_type": "stream",
     "text": [
      "\n",
      "Upper Outliers in Rainfall\n",
      "\n"
     ]
    },
    {
     "data": {
      "text/html": [
       "<div>\n",
       "<style scoped>\n",
       "    .dataframe tbody tr th:only-of-type {\n",
       "        vertical-align: middle;\n",
       "    }\n",
       "\n",
       "    .dataframe tbody tr th {\n",
       "        vertical-align: top;\n",
       "    }\n",
       "\n",
       "    .dataframe thead th {\n",
       "        text-align: right;\n",
       "    }\n",
       "</style>\n",
       "<table border=\"1\" class=\"dataframe\">\n",
       "  <thead>\n",
       "    <tr style=\"text-align: right;\">\n",
       "      <th></th>\n",
       "      <th>Rainfall</th>\n",
       "    </tr>\n",
       "  </thead>\n",
       "  <tbody>\n",
       "    <tr>\n",
       "      <th>0</th>\n",
       "      <td>2.00</td>\n",
       "    </tr>\n",
       "    <tr>\n",
       "      <th>1</th>\n",
       "      <td>1.33</td>\n",
       "    </tr>\n",
       "    <tr>\n",
       "      <th>2</th>\n",
       "      <td>1.33</td>\n",
       "    </tr>\n",
       "    <tr>\n",
       "      <th>5</th>\n",
       "      <td>1.54</td>\n",
       "    </tr>\n",
       "    <tr>\n",
       "      <th>6</th>\n",
       "      <td>1.54</td>\n",
       "    </tr>\n",
       "    <tr>\n",
       "      <th>10</th>\n",
       "      <td>1.54</td>\n",
       "    </tr>\n",
       "    <tr>\n",
       "      <th>11</th>\n",
       "      <td>1.33</td>\n",
       "    </tr>\n",
       "    <tr>\n",
       "      <th>12</th>\n",
       "      <td>1.33</td>\n",
       "    </tr>\n",
       "    <tr>\n",
       "      <th>15</th>\n",
       "      <td>1.67</td>\n",
       "    </tr>\n",
       "    <tr>\n",
       "      <th>16</th>\n",
       "      <td>1.43</td>\n",
       "    </tr>\n",
       "    <tr>\n",
       "      <th>19</th>\n",
       "      <td>1.43</td>\n",
       "    </tr>\n",
       "    <tr>\n",
       "      <th>23</th>\n",
       "      <td>1.54</td>\n",
       "    </tr>\n",
       "    <tr>\n",
       "      <th>27</th>\n",
       "      <td>1.33</td>\n",
       "    </tr>\n",
       "    <tr>\n",
       "      <th>28</th>\n",
       "      <td>1.33</td>\n",
       "    </tr>\n",
       "    <tr>\n",
       "      <th>337</th>\n",
       "      <td>1.54</td>\n",
       "    </tr>\n",
       "    <tr>\n",
       "      <th>338</th>\n",
       "      <td>1.82</td>\n",
       "    </tr>\n",
       "    <tr>\n",
       "      <th>342</th>\n",
       "      <td>1.43</td>\n",
       "    </tr>\n",
       "    <tr>\n",
       "      <th>343</th>\n",
       "      <td>1.82</td>\n",
       "    </tr>\n",
       "    <tr>\n",
       "      <th>345</th>\n",
       "      <td>1.33</td>\n",
       "    </tr>\n",
       "    <tr>\n",
       "      <th>346</th>\n",
       "      <td>1.43</td>\n",
       "    </tr>\n",
       "    <tr>\n",
       "      <th>347</th>\n",
       "      <td>1.54</td>\n",
       "    </tr>\n",
       "    <tr>\n",
       "      <th>350</th>\n",
       "      <td>1.33</td>\n",
       "    </tr>\n",
       "    <tr>\n",
       "      <th>351</th>\n",
       "      <td>1.43</td>\n",
       "    </tr>\n",
       "    <tr>\n",
       "      <th>354</th>\n",
       "      <td>1.33</td>\n",
       "    </tr>\n",
       "    <tr>\n",
       "      <th>355</th>\n",
       "      <td>1.54</td>\n",
       "    </tr>\n",
       "    <tr>\n",
       "      <th>359</th>\n",
       "      <td>1.43</td>\n",
       "    </tr>\n",
       "    <tr>\n",
       "      <th>363</th>\n",
       "      <td>1.43</td>\n",
       "    </tr>\n",
       "    <tr>\n",
       "      <th>364</th>\n",
       "      <td>2.50</td>\n",
       "    </tr>\n",
       "  </tbody>\n",
       "</table>\n",
       "</div>"
      ],
      "text/plain": [
       "     Rainfall\n",
       "0        2.00\n",
       "1        1.33\n",
       "2        1.33\n",
       "5        1.54\n",
       "6        1.54\n",
       "10       1.54\n",
       "11       1.33\n",
       "12       1.33\n",
       "15       1.67\n",
       "16       1.43\n",
       "19       1.43\n",
       "23       1.54\n",
       "27       1.33\n",
       "28       1.33\n",
       "337      1.54\n",
       "338      1.82\n",
       "342      1.43\n",
       "343      1.82\n",
       "345      1.33\n",
       "346      1.43\n",
       "347      1.54\n",
       "350      1.33\n",
       "351      1.43\n",
       "354      1.33\n",
       "355      1.54\n",
       "359      1.43\n",
       "363      1.43\n",
       "364      2.50"
      ]
     },
     "metadata": {},
     "output_type": "display_data"
    },
    {
     "name": "stdout",
     "output_type": "stream",
     "text": [
      "\n"
     ]
    },
    {
     "data": {
      "image/png": "[encoded data removed]",
      "text/plain": [
       "<Figure size 1152x288 with 2 Axes>"
      ]
     },
     "metadata": {
      "needs_background": "light"
     },
     "output_type": "display_data"
    },
    {
     "name": "stdout",
     "output_type": "stream",
     "text": [
      "-------------------------------------------------------------------\n"
     ]
    }
   ],
   "source": [
    "get_low_and_up_bounds_df(df[['Rainfall']])"
   ]
  },
  {
   "cell_type": "markdown",
   "metadata": {},
   "source": [
    "**Rainfall**\n",
    "- ther is not lower outliers\n",
    "- there is a value about 2.5"
   ]
  },
  {
   "cell_type": "code",
   "execution_count": 13,
   "metadata": {
    "scrolled": true
   },
   "outputs": [
    {
     "name": "stdout",
     "output_type": "stream",
     "text": [
      "\n",
      "Flyers\n",
      "K: 1.5\n",
      "Lower Fence: 4.0\n",
      "Upper Fence: 76.0\n",
      "\n",
      "Lower Outliers in Flyers\n",
      "\n"
     ]
    },
    {
     "data": {
      "text/html": [
       "<div>\n",
       "<style scoped>\n",
       "    .dataframe tbody tr th:only-of-type {\n",
       "        vertical-align: middle;\n",
       "    }\n",
       "\n",
       "    .dataframe tbody tr th {\n",
       "        vertical-align: top;\n",
       "    }\n",
       "\n",
       "    .dataframe thead th {\n",
       "        text-align: right;\n",
       "    }\n",
       "</style>\n",
       "<table border=\"1\" class=\"dataframe\">\n",
       "  <thead>\n",
       "    <tr style=\"text-align: right;\">\n",
       "      <th></th>\n",
       "      <th>Flyers</th>\n",
       "    </tr>\n",
       "  </thead>\n",
       "  <tbody>\n",
       "    <tr>\n",
       "      <th>324</th>\n",
       "      <td>-38</td>\n",
       "    </tr>\n",
       "  </tbody>\n",
       "</table>\n",
       "</div>"
      ],
      "text/plain": [
       "     Flyers\n",
       "324     -38"
      ]
     },
     "metadata": {},
     "output_type": "display_data"
    },
    {
     "name": "stdout",
     "output_type": "stream",
     "text": [
      "\n",
      "Upper Outliers in Flyers\n",
      "\n"
     ]
    },
    {
     "data": {
      "text/html": [
       "<div>\n",
       "<style scoped>\n",
       "    .dataframe tbody tr th:only-of-type {\n",
       "        vertical-align: middle;\n",
       "    }\n",
       "\n",
       "    .dataframe tbody tr th {\n",
       "        vertical-align: top;\n",
       "    }\n",
       "\n",
       "    .dataframe thead th {\n",
       "        text-align: right;\n",
       "    }\n",
       "</style>\n",
       "<table border=\"1\" class=\"dataframe\">\n",
       "  <thead>\n",
       "    <tr style=\"text-align: right;\">\n",
       "      <th></th>\n",
       "      <th>Flyers</th>\n",
       "    </tr>\n",
       "  </thead>\n",
       "  <tbody>\n",
       "    <tr>\n",
       "      <th>166</th>\n",
       "      <td>77</td>\n",
       "    </tr>\n",
       "    <tr>\n",
       "      <th>194</th>\n",
       "      <td>80</td>\n",
       "    </tr>\n",
       "  </tbody>\n",
       "</table>\n",
       "</div>"
      ],
      "text/plain": [
       "     Flyers\n",
       "166      77\n",
       "194      80"
      ]
     },
     "metadata": {},
     "output_type": "display_data"
    },
    {
     "name": "stdout",
     "output_type": "stream",
     "text": [
      "\n"
     ]
    },
    {
     "data": {
      "image/png": "[encoded data removed]",
      "text/plain": [
       "<Figure size 1152x288 with 2 Axes>"
      ]
     },
     "metadata": {
      "needs_background": "light"
     },
     "output_type": "display_data"
    },
    {
     "name": "stdout",
     "output_type": "stream",
     "text": [
      "-------------------------------------------------------------------\n"
     ]
    }
   ],
   "source": [
    "get_low_and_up_bounds_df(df[['Flyers']])"
   ]
  },
  {
   "cell_type": "markdown",
   "metadata": {},
   "source": [
    "**Flyers: -38 value it does not make sense**"
   ]
  },
  {
   "cell_type": "code",
   "execution_count": 14,
   "metadata": {
    "scrolled": true
   },
   "outputs": [
    {
     "name": "stdout",
     "output_type": "stream",
     "text": [
      "\n",
      "Price\n",
      "K: 1.5\n",
      "Lower Fence: 0.5\n",
      "Upper Fence: 0.5\n",
      "\n",
      "Lower Outliers in Price\n",
      "\n"
     ]
    },
    {
     "data": {
      "text/html": [
       "<div>\n",
       "<style scoped>\n",
       "    .dataframe tbody tr th:only-of-type {\n",
       "        vertical-align: middle;\n",
       "    }\n",
       "\n",
       "    .dataframe tbody tr th {\n",
       "        vertical-align: top;\n",
       "    }\n",
       "\n",
       "    .dataframe thead th {\n",
       "        text-align: right;\n",
       "    }\n",
       "</style>\n",
       "<table border=\"1\" class=\"dataframe\">\n",
       "  <thead>\n",
       "    <tr style=\"text-align: right;\">\n",
       "      <th></th>\n",
       "      <th>Price</th>\n",
       "    </tr>\n",
       "  </thead>\n",
       "  <tbody>\n",
       "  </tbody>\n",
       "</table>\n",
       "</div>"
      ],
      "text/plain": [
       "Empty DataFrame\n",
       "Columns: [Price]\n",
       "Index: []"
      ]
     },
     "metadata": {},
     "output_type": "display_data"
    },
    {
     "name": "stdout",
     "output_type": "stream",
     "text": [
      "\n",
      "Upper Outliers in Price\n",
      "\n"
     ]
    },
    {
     "data": {
      "text/html": [
       "<div>\n",
       "<style scoped>\n",
       "    .dataframe tbody tr th:only-of-type {\n",
       "        vertical-align: middle;\n",
       "    }\n",
       "\n",
       "    .dataframe tbody tr th {\n",
       "        vertical-align: top;\n",
       "    }\n",
       "\n",
       "    .dataframe thead th {\n",
       "        text-align: right;\n",
       "    }\n",
       "</style>\n",
       "<table border=\"1\" class=\"dataframe\">\n",
       "  <thead>\n",
       "    <tr style=\"text-align: right;\">\n",
       "      <th></th>\n",
       "      <th>Price</th>\n",
       "    </tr>\n",
       "  </thead>\n",
       "  <tbody>\n",
       "  </tbody>\n",
       "</table>\n",
       "</div>"
      ],
      "text/plain": [
       "Empty DataFrame\n",
       "Columns: [Price]\n",
       "Index: []"
      ]
     },
     "metadata": {},
     "output_type": "display_data"
    },
    {
     "name": "stdout",
     "output_type": "stream",
     "text": [
      "\n"
     ]
    },
    {
     "data": {
      "image/png": "[encoded data removed]",
      "text/plain": [
       "<Figure size 1152x288 with 2 Axes>"
      ]
     },
     "metadata": {
      "needs_background": "light"
     },
     "output_type": "display_data"
    },
    {
     "name": "stdout",
     "output_type": "stream",
     "text": [
      "-------------------------------------------------------------------\n"
     ]
    }
   ],
   "source": [
    "get_low_and_up_bounds_df(df[['Price']])"
   ]
  },
  {
   "cell_type": "markdown",
   "metadata": {},
   "source": [
    "**Note: no outliers in Price**"
   ]
  },
  {
   "cell_type": "code",
   "execution_count": 15,
   "metadata": {},
   "outputs": [
    {
     "name": "stdout",
     "output_type": "stream",
     "text": [
      "\n",
      "Sales\n",
      "K: 1.5\n",
      "Lower Fence: 5.0\n",
      "Upper Fence: 45.0\n",
      "\n",
      "Lower Outliers in Sales\n",
      "\n"
     ]
    },
    {
     "data": {
      "text/html": [
       "<div>\n",
       "<style scoped>\n",
       "    .dataframe tbody tr th:only-of-type {\n",
       "        vertical-align: middle;\n",
       "    }\n",
       "\n",
       "    .dataframe tbody tr th {\n",
       "        vertical-align: top;\n",
       "    }\n",
       "\n",
       "    .dataframe thead th {\n",
       "        text-align: right;\n",
       "    }\n",
       "</style>\n",
       "<table border=\"1\" class=\"dataframe\">\n",
       "  <thead>\n",
       "    <tr style=\"text-align: right;\">\n",
       "      <th></th>\n",
       "      <th>Sales</th>\n",
       "    </tr>\n",
       "  </thead>\n",
       "  <tbody>\n",
       "  </tbody>\n",
       "</table>\n",
       "</div>"
      ],
      "text/plain": [
       "Empty DataFrame\n",
       "Columns: [Sales]\n",
       "Index: []"
      ]
     },
     "metadata": {},
     "output_type": "display_data"
    },
    {
     "name": "stdout",
     "output_type": "stream",
     "text": [
      "\n",
      "Upper Outliers in Sales\n",
      "\n"
     ]
    },
    {
     "data": {
      "text/html": [
       "<div>\n",
       "<style scoped>\n",
       "    .dataframe tbody tr th:only-of-type {\n",
       "        vertical-align: middle;\n",
       "    }\n",
       "\n",
       "    .dataframe tbody tr th {\n",
       "        vertical-align: top;\n",
       "    }\n",
       "\n",
       "    .dataframe thead th {\n",
       "        text-align: right;\n",
       "    }\n",
       "</style>\n",
       "<table border=\"1\" class=\"dataframe\">\n",
       "  <thead>\n",
       "    <tr style=\"text-align: right;\">\n",
       "      <th></th>\n",
       "      <th>Sales</th>\n",
       "    </tr>\n",
       "  </thead>\n",
       "  <tbody>\n",
       "    <tr>\n",
       "      <th>181</th>\n",
       "      <td>143</td>\n",
       "    </tr>\n",
       "    <tr>\n",
       "      <th>182</th>\n",
       "      <td>158</td>\n",
       "    </tr>\n",
       "    <tr>\n",
       "      <th>183</th>\n",
       "      <td>235</td>\n",
       "    </tr>\n",
       "    <tr>\n",
       "      <th>184</th>\n",
       "      <td>534</td>\n",
       "    </tr>\n",
       "  </tbody>\n",
       "</table>\n",
       "</div>"
      ],
      "text/plain": [
       "     Sales\n",
       "181    143\n",
       "182    158\n",
       "183    235\n",
       "184    534"
      ]
     },
     "metadata": {},
     "output_type": "display_data"
    },
    {
     "name": "stdout",
     "output_type": "stream",
     "text": [
      "\n"
     ]
    },
    {
     "data": {
      "image/png": "[encoded data removed]",
      "text/plain": [
       "<Figure size 1152x288 with 2 Axes>"
      ]
     },
     "metadata": {
      "needs_background": "light"
     },
     "output_type": "display_data"
    },
    {
     "name": "stdout",
     "output_type": "stream",
     "text": [
      "-------------------------------------------------------------------\n"
     ]
    }
   ],
   "source": [
    "get_low_and_up_bounds_df(df[['Sales']])"
   ]
  },
  {
   "cell_type": "markdown",
   "metadata": {},
   "source": [
    "**Note: no lower outliers but there are upper outliers. aupper outlier > 500 ??**"
   ]
  },
  {
   "cell_type": "code",
   "execution_count": 16,
   "metadata": {},
   "outputs": [],
   "source": [
    "##practicing functions"
   ]
  },
  {
   "cell_type": "code",
   "execution_count": 17,
   "metadata": {},
   "outputs": [
    {
     "data": {
      "image/png": "[encoded data removed]",
      "text/plain": [
       "<Figure size 432x288 with 1 Axes>"
      ]
     },
     "metadata": {
      "needs_background": "light"
     },
     "output_type": "display_data"
    },
    {
     "data": {
      "image/png": "[encoded data removed]",
      "text/plain": [
       "<Figure size 432x288 with 1 Axes>"
      ]
     },
     "metadata": {
      "needs_background": "light"
     },
     "output_type": "display_data"
    },
    {
     "data": {
      "image/png": "[encoded data removed]",
      "text/plain": [
       "<Figure size 432x288 with 1 Axes>"
      ]
     },
     "metadata": {
      "needs_background": "light"
     },
     "output_type": "display_data"
    },
    {
     "data": {
      "image/png": "[encoded data removed]",
      "text/plain": [
       "<Figure size 432x288 with 1 Axes>"
      ]
     },
     "metadata": {
      "needs_background": "light"
     },
     "output_type": "display_data"
    },
    {
     "data": {
      "image/png": "[encoded data removed]",
      "text/plain": [
       "<Figure size 432x288 with 1 Axes>"
      ]
     },
     "metadata": {
      "needs_background": "light"
     },
     "output_type": "display_data"
    },
    {
     "data": {
      "image/png": "[encoded data removed]",
      "text/plain": [
       "<Figure size 432x288 with 1 Axes>"
      ]
     },
     "metadata": {
      "needs_background": "light"
     },
     "output_type": "display_data"
    },
    {
     "data": {
      "image/png": "[encoded data removed]",
      "text/plain": [
       "<Figure size 432x288 with 1 Axes>"
      ]
     },
     "metadata": {
      "needs_background": "light"
     },
     "output_type": "display_data"
    },
    {
     "data": {
      "image/png": "[encoded data removed]",
      "text/plain": [
       "<Figure size 432x288 with 1 Axes>"
      ]
     },
     "metadata": {
      "needs_background": "light"
     },
     "output_type": "display_data"
    },
    {
     "data": {
      "image/png": "[encoded data removed]",
      "text/plain": [
       "<Figure size 432x288 with 1 Axes>"
      ]
     },
     "metadata": {
      "needs_background": "light"
     },
     "output_type": "display_data"
    },
    {
     "data": {
      "image/png": "[encoded data removed]",
      "text/plain": [
       "<Figure size 432x288 with 1 Axes>"
      ]
     },
     "metadata": {
      "needs_background": "light"
     },
     "output_type": "display_data"
    }
   ],
   "source": [
    "for col in df.columns:\n",
    "    if np.issubdtype(df[col].dtype, np.number):\n",
    "        df[col].hist()\n",
    "        plt.title(col)\n",
    "        plt.show()\n",
    "        sns.boxplot(data=df, x=col)\n",
    "        plt.show()"
   ]
  },
  {
   "cell_type": "code",
   "execution_count": null,
   "metadata": {},
   "outputs": [],
   "source": []
  },
  {
   "cell_type": "code",
   "execution_count": null,
   "metadata": {},
   "outputs": [],
   "source": []
  },
  {
   "cell_type": "markdown",
   "metadata": {},
   "source": [
    "**steps to defining IQR/Tukey method:**"
   ]
  },
  {
   "cell_type": "code",
   "execution_count": 18,
   "metadata": {},
   "outputs": [],
   "source": [
    "# get the Q1 and Q3 values\n",
    "q1 = df.Temperature.quantile(0.25)\n",
    "q3 = df.Temperature.quantile(0.75)"
   ]
  },
  {
   "cell_type": "code",
   "execution_count": 19,
   "metadata": {},
   "outputs": [
    {
     "data": {
      "text/plain": [
       "(49.7, 71.7)"
      ]
     },
     "execution_count": 19,
     "metadata": {},
     "output_type": "execute_result"
    }
   ],
   "source": [
    "q1, q3"
   ]
  },
  {
   "cell_type": "code",
   "execution_count": 20,
   "metadata": {},
   "outputs": [
    {
     "data": {
      "text/plain": [
       "22.0"
      ]
     },
     "execution_count": 20,
     "metadata": {},
     "output_type": "execute_result"
    }
   ],
   "source": [
    "iqr = q3 - q1\n",
    "iqr"
   ]
  },
  {
   "cell_type": "code",
   "execution_count": 21,
   "metadata": {},
   "outputs": [],
   "source": [
    "# determine our multiplier\n",
    "multiplier = 1.5"
   ]
  },
  {
   "cell_type": "code",
   "execution_count": 22,
   "metadata": {},
   "outputs": [],
   "source": [
    "# use these qualities to assert abnormalities\n",
    "\n",
    "inner_lower_fence = q1 - (multiplier * iqr)\n",
    "inner_upper_fence = q3 + (multiplier * iqr)"
   ]
  },
  {
   "cell_type": "code",
   "execution_count": 23,
   "metadata": {},
   "outputs": [
    {
     "data": {
      "text/plain": [
       "16.700000000000003"
      ]
     },
     "execution_count": 23,
     "metadata": {},
     "output_type": "execute_result"
    }
   ],
   "source": [
    "inner_lower_fence"
   ]
  },
  {
   "cell_type": "code",
   "execution_count": 24,
   "metadata": {},
   "outputs": [
    {
     "data": {
      "text/plain": [
       "104.7"
      ]
     },
     "execution_count": 24,
     "metadata": {},
     "output_type": "execute_result"
    }
   ],
   "source": [
    "inner_upper_fence\n"
   ]
  },
  {
   "cell_type": "code",
   "execution_count": 25,
   "metadata": {
    "scrolled": true
   },
   "outputs": [
    {
     "data": {
      "text/html": [
       "<div>\n",
       "<style scoped>\n",
       "    .dataframe tbody tr th:only-of-type {\n",
       "        vertical-align: middle;\n",
       "    }\n",
       "\n",
       "    .dataframe tbody tr th {\n",
       "        vertical-align: top;\n",
       "    }\n",
       "\n",
       "    .dataframe thead th {\n",
       "        text-align: right;\n",
       "    }\n",
       "</style>\n",
       "<table border=\"1\" class=\"dataframe\">\n",
       "  <thead>\n",
       "    <tr style=\"text-align: right;\">\n",
       "      <th></th>\n",
       "      <th>Date</th>\n",
       "      <th>Day</th>\n",
       "      <th>Temperature</th>\n",
       "      <th>Rainfall</th>\n",
       "      <th>Flyers</th>\n",
       "      <th>Price</th>\n",
       "      <th>Sales</th>\n",
       "    </tr>\n",
       "  </thead>\n",
       "  <tbody>\n",
       "    <tr>\n",
       "      <th>364</th>\n",
       "      <td>12/31/17</td>\n",
       "      <td>Sunday</td>\n",
       "      <td>15.1</td>\n",
       "      <td>2.5</td>\n",
       "      <td>9</td>\n",
       "      <td>0.5</td>\n",
       "      <td>7</td>\n",
       "    </tr>\n",
       "  </tbody>\n",
       "</table>\n",
       "</div>"
      ],
      "text/plain": [
       "         Date     Day  Temperature  Rainfall  Flyers  Price  Sales\n",
       "364  12/31/17  Sunday         15.1       2.5       9    0.5      7"
      ]
     },
     "execution_count": 25,
     "metadata": {},
     "output_type": "execute_result"
    }
   ],
   "source": [
    "#checking the  lower outliers \n",
    "df[(df['Temperature'] < inner_lower_fence)]"
   ]
  },
  {
   "cell_type": "code",
   "execution_count": 26,
   "metadata": {},
   "outputs": [],
   "source": [
    "def get_lower_and_upper_bounds2(df, k = 1.5):\n",
    "    for col in df.columns:\n",
    "        if np.issubdtype(df[col].dtype, np.number):\n",
    "            # get the Q1 and Q3 values\n",
    "            q1 = df.Temperature.quantile(0.25)\n",
    "            q3 = df.Temperature.quantile(0.75)\n",
    "            # Find the Inner Quartile Range\n",
    "            iqr = q3 - q1\n",
    "            # Find the Upper Bound\n",
    "            q_upper = q3 + (k * iqr)\n",
    "            # Find the Lower Bound\n",
    "            q_lower = q1 - (k * iqr)\n",
    "            outliers_lower = df[(df[col] < q_lower)]\n",
    "            outliers_upper = df[(df[col] > q_upper)]\n",
    "            print ('***', col, '***')\n",
    "            print ('lower quartile value: ', q1)\n",
    "            print ('Upper quartile value: ', q3)\n",
    "            print(' ')\n",
    "            print(f'Lower Outliers in {col}')\n",
    "            print('')\n",
    "            print(outliers_lower)\n",
    "            print('')\n",
    "            print(f'Upper Outliers in {col}')\n",
    "            print('')\n",
    "            print(outliers_upper)\n",
    "            print('')\n",
    "            plt.figure(figsize=(16,4))\n",
    "            plt.subplot(1, 2, 1)\n",
    "            sns.histplot(data = df, x = col, kde=True)\n",
    "            plt.plot([2.8, 2.8], [0, max(df)])\n",
    "            plt.title(col)\n",
    "#             plt.plot([q_lower, q_lower], [0, df[col].median()], color = 'orange')\n",
    "#             plt.plot([q_upper, q_upper], [0, df[col].median()], color = 'orange')\n",
    "            plt.subplot(1, 2, 2)\n",
    "            sns.boxplot(x=col, data=df)\n",
    "            plt.title(col)\n",
    "            plt.show()\n",
    "            print('-------------------------------------------------------------------')\n",
    "            print('')\n",
    " "
   ]
  },
  {
   "cell_type": "code",
   "execution_count": 27,
   "metadata": {
    "scrolled": true
   },
   "outputs": [
    {
     "data": {
      "text/plain": [
       "365"
      ]
     },
     "execution_count": 27,
     "metadata": {},
     "output_type": "execute_result"
    }
   ],
   "source": [
    "df.Temperature.count()"
   ]
  },
  {
   "cell_type": "code",
   "execution_count": 28,
   "metadata": {
    "scrolled": false
   },
   "outputs": [
    {
     "name": "stdout",
     "output_type": "stream",
     "text": [
      "*** Temperature ***\n",
      "lower quartile value:  49.7\n",
      "Upper quartile value:  71.7\n",
      " \n",
      "Lower Outliers in Temperature\n",
      "\n",
      "         Date     Day  Temperature  Rainfall  Flyers  Price  Sales\n",
      "364  12/31/17  Sunday         15.1       2.5       9    0.5      7\n",
      "\n",
      "Upper Outliers in Temperature\n",
      "\n",
      "       Date       Day  Temperature  Rainfall  Flyers  Price  Sales\n",
      "41  2/11/17  Saturday        212.0      0.91      35    0.5     21\n",
      "\n"
     ]
    },
    {
     "data": {
      "image/png": "[encoded data removed]",
      "text/plain": [
       "<Figure size 1152x288 with 2 Axes>"
      ]
     },
     "metadata": {
      "needs_background": "light"
     },
     "output_type": "display_data"
    },
    {
     "name": "stdout",
     "output_type": "stream",
     "text": [
      "-------------------------------------------------------------------\n",
      "\n",
      "*** Rainfall ***\n",
      "lower quartile value:  49.7\n",
      "Upper quartile value:  71.7\n",
      " \n",
      "Lower Outliers in Rainfall\n",
      "\n",
      "         Date        Day  Temperature  Rainfall  Flyers  Price  Sales\n",
      "0      1/1/17     Sunday         27.0      2.00      15    0.5     10\n",
      "1      1/2/17     Monday         28.9      1.33      15    0.5     13\n",
      "2      1/3/17    Tuesday         34.5      1.33      27    0.5     15\n",
      "3      1/4/17  Wednesday         44.1      1.05      28    0.5     17\n",
      "4      1/5/17   Thursday         42.4      1.00      33    0.5     18\n",
      "..        ...        ...          ...       ...     ...    ...    ...\n",
      "360  12/27/17  Wednesday         42.7      1.00      33    0.5     19\n",
      "361  12/28/17   Thursday         37.8      1.25      32    0.5     16\n",
      "362  12/29/17     Friday         39.5      1.25      17    0.5     15\n",
      "363  12/30/17   Saturday         30.9      1.43      22    0.5     13\n",
      "364  12/31/17     Sunday         15.1      2.50       9    0.5      7\n",
      "\n",
      "[365 rows x 7 columns]\n",
      "\n",
      "Upper Outliers in Rainfall\n",
      "\n",
      "Empty DataFrame\n",
      "Columns: [Date, Day, Temperature, Rainfall, Flyers, Price, Sales]\n",
      "Index: []\n",
      "\n"
     ]
    },
    {
     "data": {
      "image/png": "[encoded data removed]",
      "text/plain": [
       "<Figure size 1152x288 with 2 Axes>"
      ]
     },
     "metadata": {
      "needs_background": "light"
     },
     "output_type": "display_data"
    },
    {
     "name": "stdout",
     "output_type": "stream",
     "text": [
      "-------------------------------------------------------------------\n",
      "\n",
      "*** Flyers ***\n",
      "lower quartile value:  49.7\n",
      "Upper quartile value:  71.7\n",
      " \n",
      "Lower Outliers in Flyers\n",
      "\n",
      "         Date       Day  Temperature  Rainfall  Flyers  Price  Sales\n",
      "0      1/1/17    Sunday         27.0      2.00      15    0.5     10\n",
      "1      1/2/17    Monday         28.9      1.33      15    0.5     13\n",
      "11    1/12/17  Thursday         38.2      1.33      16    0.5     14\n",
      "20    1/21/17  Saturday         36.2      1.25      16    0.5     14\n",
      "27    1/28/17  Saturday         34.9      1.33      15    0.5     13\n",
      "324  11/21/17   Tuesday         47.0      0.95     -38    0.5     20\n",
      "337   12/4/17    Monday         34.9      1.54      16    0.5     13\n",
      "338   12/5/17   Tuesday         22.0      1.82      11    0.5     10\n",
      "343  12/10/17    Sunday         31.3      1.82      15    0.5     11\n",
      "350  12/17/17    Sunday         32.2      1.33      16    0.5     14\n",
      "364  12/31/17    Sunday         15.1      2.50       9    0.5      7\n",
      "\n",
      "Upper Outliers in Flyers\n",
      "\n",
      "Empty DataFrame\n",
      "Columns: [Date, Day, Temperature, Rainfall, Flyers, Price, Sales]\n",
      "Index: []\n",
      "\n"
     ]
    },
    {
     "data": {
      "image/png": "[encoded data removed]",
      "text/plain": [
       "<Figure size 1152x288 with 2 Axes>"
      ]
     },
     "metadata": {
      "needs_background": "light"
     },
     "output_type": "display_data"
    },
    {
     "name": "stdout",
     "output_type": "stream",
     "text": [
      "-------------------------------------------------------------------\n",
      "\n",
      "*** Price ***\n",
      "lower quartile value:  49.7\n",
      "Upper quartile value:  71.7\n",
      " \n",
      "Lower Outliers in Price\n",
      "\n",
      "         Date        Day  Temperature  Rainfall  Flyers  Price  Sales\n",
      "0      1/1/17     Sunday         27.0      2.00      15    0.5     10\n",
      "1      1/2/17     Monday         28.9      1.33      15    0.5     13\n",
      "2      1/3/17    Tuesday         34.5      1.33      27    0.5     15\n",
      "3      1/4/17  Wednesday         44.1      1.05      28    0.5     17\n",
      "4      1/5/17   Thursday         42.4      1.00      33    0.5     18\n",
      "..        ...        ...          ...       ...     ...    ...    ...\n",
      "360  12/27/17  Wednesday         42.7      1.00      33    0.5     19\n",
      "361  12/28/17   Thursday         37.8      1.25      32    0.5     16\n",
      "362  12/29/17     Friday         39.5      1.25      17    0.5     15\n",
      "363  12/30/17   Saturday         30.9      1.43      22    0.5     13\n",
      "364  12/31/17     Sunday         15.1      2.50       9    0.5      7\n",
      "\n",
      "[365 rows x 7 columns]\n",
      "\n",
      "Upper Outliers in Price\n",
      "\n",
      "Empty DataFrame\n",
      "Columns: [Date, Day, Temperature, Rainfall, Flyers, Price, Sales]\n",
      "Index: []\n",
      "\n"
     ]
    },
    {
     "data": {
      "image/png": "[encoded data removed]",
      "text/plain": [
       "<Figure size 1152x288 with 2 Axes>"
      ]
     },
     "metadata": {
      "needs_background": "light"
     },
     "output_type": "display_data"
    },
    {
     "name": "stdout",
     "output_type": "stream",
     "text": [
      "-------------------------------------------------------------------\n",
      "\n",
      "*** Sales ***\n",
      "lower quartile value:  49.7\n",
      "Upper quartile value:  71.7\n",
      " \n",
      "Lower Outliers in Sales\n",
      "\n",
      "         Date        Day  Temperature  Rainfall  Flyers  Price  Sales\n",
      "0      1/1/17     Sunday         27.0      2.00      15    0.5     10\n",
      "1      1/2/17     Monday         28.9      1.33      15    0.5     13\n",
      "2      1/3/17    Tuesday         34.5      1.33      27    0.5     15\n",
      "5      1/6/17     Friday         25.3      1.54      23    0.5     11\n",
      "6      1/7/17   Saturday         32.9      1.54      19    0.5     13\n",
      "7      1/8/17     Sunday         37.5      1.18      28    0.5     15\n",
      "10    1/11/17  Wednesday         32.6      1.54      23    0.5     12\n",
      "11    1/12/17   Thursday         38.2      1.33      16    0.5     14\n",
      "12    1/13/17     Friday         37.5      1.33      19    0.5     15\n",
      "15    1/16/17     Monday         30.6      1.67      24    0.5     12\n",
      "16    1/17/17    Tuesday         32.2      1.43      26    0.5     14\n",
      "17    1/18/17  Wednesday         42.8      1.18      33    0.5     16\n",
      "19    1/20/17     Friday         31.6      1.43      20    0.5     12\n",
      "20    1/21/17   Saturday         36.2      1.25      16    0.5     14\n",
      "21    1/22/17     Sunday         40.8      1.11      19    0.5     16\n",
      "23    1/24/17    Tuesday         28.6      1.54      20    0.5     12\n",
      "24    1/25/17  Wednesday         32.2      1.25      24    0.5     14\n",
      "25    1/26/17   Thursday         35.8      1.25      18    0.5     16\n",
      "27    1/28/17   Saturday         34.9      1.33      15    0.5     13\n",
      "28    1/29/17     Sunday         35.2      1.33      27    0.5     14\n",
      "336   12/3/17     Sunday         33.5      1.18      19    0.5     15\n",
      "337   12/4/17     Monday         34.9      1.54      16    0.5     13\n",
      "338   12/5/17    Tuesday         22.0      1.82      11    0.5     10\n",
      "341   12/8/17     Friday         40.5      1.25      30    0.5     15\n",
      "342   12/9/17   Saturday         31.2      1.43      19    0.5     14\n",
      "343  12/10/17     Sunday         31.3      1.82      15    0.5     11\n",
      "345  12/12/17    Tuesday         33.5      1.33      22    0.5     15\n",
      "346  12/13/17  Wednesday         32.2      1.43      26    0.5     14\n",
      "347  12/14/17   Thursday         31.9      1.54      24    0.5     13\n",
      "349  12/16/17   Saturday         35.5      1.25      30    0.5     15\n",
      "350  12/17/17     Sunday         32.2      1.33      16    0.5     14\n",
      "351  12/18/17     Monday         30.9      1.43      27    0.5     13\n",
      "353  12/20/17  Wednesday         36.8      1.25      20    0.5     16\n",
      "354  12/21/17   Thursday         40.5      1.33      23    0.5     15\n",
      "355  12/22/17     Friday         30.9      1.54      17    0.5     13\n",
      "357  12/24/17     Sunday         35.8      1.25      26    0.5     16\n",
      "358  12/25/17     Monday         35.5      1.25      19    0.5     15\n",
      "359  12/26/17    Tuesday         28.9      1.43      23    0.5     13\n",
      "361  12/28/17   Thursday         37.8      1.25      32    0.5     16\n",
      "362  12/29/17     Friday         39.5      1.25      17    0.5     15\n",
      "363  12/30/17   Saturday         30.9      1.43      22    0.5     13\n",
      "364  12/31/17     Sunday         15.1      2.50       9    0.5      7\n",
      "\n",
      "Upper Outliers in Sales\n",
      "\n",
      "       Date       Day  Temperature  Rainfall  Flyers  Price  Sales\n",
      "181  7/1/17  Saturday        102.9      0.47      59    0.5    143\n",
      "182  7/2/17    Sunday         93.4      0.51      68    0.5    158\n",
      "183  7/3/17    Monday         81.5      0.54      68    0.5    235\n",
      "184  7/4/17   Tuesday         84.2      0.59      49    0.5    534\n",
      "\n"
     ]
    },
    {
     "data": {
      "image/png": "[encoded data removed]",
      "text/plain": [
       "<Figure size 1152x288 with 2 Axes>"
      ]
     },
     "metadata": {
      "needs_background": "light"
     },
     "output_type": "display_data"
    },
    {
     "name": "stdout",
     "output_type": "stream",
     "text": [
      "-------------------------------------------------------------------\n",
      "\n"
     ]
    }
   ],
   "source": [
    "get_lower_and_upper_bounds2(df)"
   ]
  },
  {
   "cell_type": "markdown",
   "metadata": {},
   "source": [
    "    - Using the multiplier of 3, IQR Range Rule, and the lower and upper bounds, identify the outliers below the lower bound in each colum of lemonade.csv. Do these lower outliers make sense?Which outliers should be kept?"
   ]
  },
  {
   "cell_type": "markdown",
   "metadata": {},
   "source": [
    "    - Using the multiplier of 3, IQR Range Rule, and the lower and upper bounds, identify the outliers above the upper_bound in each colum of lemonade.csv. Do these upper outliers make sense? Which outliers should be kept?"
   ]
  },
  {
   "cell_type": "code",
   "execution_count": 29,
   "metadata": {
    "scrolled": true
   },
   "outputs": [
    {
     "data": {
      "text/html": [
       "<div>\n",
       "<style scoped>\n",
       "    .dataframe tbody tr th:only-of-type {\n",
       "        vertical-align: middle;\n",
       "    }\n",
       "\n",
       "    .dataframe tbody tr th {\n",
       "        vertical-align: top;\n",
       "    }\n",
       "\n",
       "    .dataframe thead th {\n",
       "        text-align: right;\n",
       "    }\n",
       "</style>\n",
       "<table border=\"1\" class=\"dataframe\">\n",
       "  <thead>\n",
       "    <tr style=\"text-align: right;\">\n",
       "      <th></th>\n",
       "      <th>Date</th>\n",
       "      <th>Day</th>\n",
       "      <th>Temperature</th>\n",
       "      <th>Rainfall</th>\n",
       "      <th>Flyers</th>\n",
       "      <th>Price</th>\n",
       "      <th>Sales</th>\n",
       "    </tr>\n",
       "  </thead>\n",
       "  <tbody>\n",
       "    <tr>\n",
       "      <th>0</th>\n",
       "      <td>1/1/17</td>\n",
       "      <td>Sunday</td>\n",
       "      <td>27.0</td>\n",
       "      <td>2.0</td>\n",
       "      <td>15</td>\n",
       "      <td>0.5</td>\n",
       "      <td>10</td>\n",
       "    </tr>\n",
       "  </tbody>\n",
       "</table>\n",
       "</div>"
      ],
      "text/plain": [
       "     Date     Day  Temperature  Rainfall  Flyers  Price  Sales\n",
       "0  1/1/17  Sunday         27.0       2.0      15    0.5     10"
      ]
     },
     "execution_count": 29,
     "metadata": {},
     "output_type": "execute_result"
    }
   ],
   "source": [
    "df.head(1)"
   ]
  },
  {
   "cell_type": "code",
   "execution_count": 30,
   "metadata": {
    "scrolled": true
   },
   "outputs": [
    {
     "name": "stdout",
     "output_type": "stream",
     "text": [
      "\n",
      "Temperature\n",
      "K: 3\n",
      "Lower Fence: -16.299999999999997\n",
      "Upper Fence: 137.7\n",
      "\n",
      "Lower Outliers in Temperature\n",
      "\n"
     ]
    },
    {
     "data": {
      "text/html": [
       "<div>\n",
       "<style scoped>\n",
       "    .dataframe tbody tr th:only-of-type {\n",
       "        vertical-align: middle;\n",
       "    }\n",
       "\n",
       "    .dataframe tbody tr th {\n",
       "        vertical-align: top;\n",
       "    }\n",
       "\n",
       "    .dataframe thead th {\n",
       "        text-align: right;\n",
       "    }\n",
       "</style>\n",
       "<table border=\"1\" class=\"dataframe\">\n",
       "  <thead>\n",
       "    <tr style=\"text-align: right;\">\n",
       "      <th></th>\n",
       "      <th>Temperature</th>\n",
       "    </tr>\n",
       "  </thead>\n",
       "  <tbody>\n",
       "  </tbody>\n",
       "</table>\n",
       "</div>"
      ],
      "text/plain": [
       "Empty DataFrame\n",
       "Columns: [Temperature]\n",
       "Index: []"
      ]
     },
     "metadata": {},
     "output_type": "display_data"
    },
    {
     "name": "stdout",
     "output_type": "stream",
     "text": [
      "\n",
      "Upper Outliers in Temperature\n",
      "\n"
     ]
    },
    {
     "data": {
      "text/html": [
       "<div>\n",
       "<style scoped>\n",
       "    .dataframe tbody tr th:only-of-type {\n",
       "        vertical-align: middle;\n",
       "    }\n",
       "\n",
       "    .dataframe tbody tr th {\n",
       "        vertical-align: top;\n",
       "    }\n",
       "\n",
       "    .dataframe thead th {\n",
       "        text-align: right;\n",
       "    }\n",
       "</style>\n",
       "<table border=\"1\" class=\"dataframe\">\n",
       "  <thead>\n",
       "    <tr style=\"text-align: right;\">\n",
       "      <th></th>\n",
       "      <th>Temperature</th>\n",
       "    </tr>\n",
       "  </thead>\n",
       "  <tbody>\n",
       "    <tr>\n",
       "      <th>41</th>\n",
       "      <td>212.0</td>\n",
       "    </tr>\n",
       "  </tbody>\n",
       "</table>\n",
       "</div>"
      ],
      "text/plain": [
       "    Temperature\n",
       "41        212.0"
      ]
     },
     "metadata": {},
     "output_type": "display_data"
    },
    {
     "name": "stdout",
     "output_type": "stream",
     "text": [
      "\n"
     ]
    },
    {
     "data": {
      "image/png": "[encoded data removed]",
      "text/plain": [
       "<Figure size 1152x288 with 2 Axes>"
      ]
     },
     "metadata": {
      "needs_background": "light"
     },
     "output_type": "display_data"
    },
    {
     "name": "stdout",
     "output_type": "stream",
     "text": [
      "-------------------------------------------------------------------\n"
     ]
    }
   ],
   "source": [
    "get_low_and_up_bounds_df(df[['Temperature']], k = 3)"
   ]
  },
  {
   "cell_type": "markdown",
   "metadata": {},
   "source": [
    "**Note:  there are not lower outliers, there is one upper outlier but I dont think it is correct value**"
   ]
  },
  {
   "cell_type": "code",
   "execution_count": 31,
   "metadata": {
    "scrolled": false
   },
   "outputs": [
    {
     "name": "stdout",
     "output_type": "stream",
     "text": [
      "\n",
      "Rainfall\n",
      "K: 3\n",
      "Lower Fence: -0.13\n",
      "Upper Fence: 1.69\n",
      "\n",
      "Lower Outliers in Rainfall\n",
      "\n"
     ]
    },
    {
     "data": {
      "text/html": [
       "<div>\n",
       "<style scoped>\n",
       "    .dataframe tbody tr th:only-of-type {\n",
       "        vertical-align: middle;\n",
       "    }\n",
       "\n",
       "    .dataframe tbody tr th {\n",
       "        vertical-align: top;\n",
       "    }\n",
       "\n",
       "    .dataframe thead th {\n",
       "        text-align: right;\n",
       "    }\n",
       "</style>\n",
       "<table border=\"1\" class=\"dataframe\">\n",
       "  <thead>\n",
       "    <tr style=\"text-align: right;\">\n",
       "      <th></th>\n",
       "      <th>Rainfall</th>\n",
       "    </tr>\n",
       "  </thead>\n",
       "  <tbody>\n",
       "  </tbody>\n",
       "</table>\n",
       "</div>"
      ],
      "text/plain": [
       "Empty DataFrame\n",
       "Columns: [Rainfall]\n",
       "Index: []"
      ]
     },
     "metadata": {},
     "output_type": "display_data"
    },
    {
     "name": "stdout",
     "output_type": "stream",
     "text": [
      "\n",
      "Upper Outliers in Rainfall\n",
      "\n"
     ]
    },
    {
     "data": {
      "text/html": [
       "<div>\n",
       "<style scoped>\n",
       "    .dataframe tbody tr th:only-of-type {\n",
       "        vertical-align: middle;\n",
       "    }\n",
       "\n",
       "    .dataframe tbody tr th {\n",
       "        vertical-align: top;\n",
       "    }\n",
       "\n",
       "    .dataframe thead th {\n",
       "        text-align: right;\n",
       "    }\n",
       "</style>\n",
       "<table border=\"1\" class=\"dataframe\">\n",
       "  <thead>\n",
       "    <tr style=\"text-align: right;\">\n",
       "      <th></th>\n",
       "      <th>Rainfall</th>\n",
       "    </tr>\n",
       "  </thead>\n",
       "  <tbody>\n",
       "    <tr>\n",
       "      <th>0</th>\n",
       "      <td>2.00</td>\n",
       "    </tr>\n",
       "    <tr>\n",
       "      <th>338</th>\n",
       "      <td>1.82</td>\n",
       "    </tr>\n",
       "    <tr>\n",
       "      <th>343</th>\n",
       "      <td>1.82</td>\n",
       "    </tr>\n",
       "    <tr>\n",
       "      <th>364</th>\n",
       "      <td>2.50</td>\n",
       "    </tr>\n",
       "  </tbody>\n",
       "</table>\n",
       "</div>"
      ],
      "text/plain": [
       "     Rainfall\n",
       "0        2.00\n",
       "338      1.82\n",
       "343      1.82\n",
       "364      2.50"
      ]
     },
     "metadata": {},
     "output_type": "display_data"
    },
    {
     "name": "stdout",
     "output_type": "stream",
     "text": [
      "\n"
     ]
    },
    {
     "data": {
      "image/png": "[encoded data removed]",
      "text/plain": [
       "<Figure size 1152x288 with 2 Axes>"
      ]
     },
     "metadata": {
      "needs_background": "light"
     },
     "output_type": "display_data"
    },
    {
     "name": "stdout",
     "output_type": "stream",
     "text": [
      "-------------------------------------------------------------------\n"
     ]
    }
   ],
   "source": [
    "get_low_and_up_bounds_df(df[['Rainfall']], k = 3)"
   ]
  },
  {
   "cell_type": "markdown",
   "metadata": {},
   "source": [
    "**note: there is not lower outliers but there are less upper lowers than when we used k=1.5**"
   ]
  },
  {
   "cell_type": "code",
   "execution_count": 32,
   "metadata": {
    "scrolled": false
   },
   "outputs": [
    {
     "name": "stdout",
     "output_type": "stream",
     "text": [
      "\n",
      "Flyers\n",
      "K: 3\n",
      "Lower Fence: -23.0\n",
      "Upper Fence: 103.0\n",
      "\n",
      "Lower Outliers in Flyers\n",
      "\n"
     ]
    },
    {
     "data": {
      "text/html": [
       "<div>\n",
       "<style scoped>\n",
       "    .dataframe tbody tr th:only-of-type {\n",
       "        vertical-align: middle;\n",
       "    }\n",
       "\n",
       "    .dataframe tbody tr th {\n",
       "        vertical-align: top;\n",
       "    }\n",
       "\n",
       "    .dataframe thead th {\n",
       "        text-align: right;\n",
       "    }\n",
       "</style>\n",
       "<table border=\"1\" class=\"dataframe\">\n",
       "  <thead>\n",
       "    <tr style=\"text-align: right;\">\n",
       "      <th></th>\n",
       "      <th>Flyers</th>\n",
       "    </tr>\n",
       "  </thead>\n",
       "  <tbody>\n",
       "    <tr>\n",
       "      <th>324</th>\n",
       "      <td>-38</td>\n",
       "    </tr>\n",
       "  </tbody>\n",
       "</table>\n",
       "</div>"
      ],
      "text/plain": [
       "     Flyers\n",
       "324     -38"
      ]
     },
     "metadata": {},
     "output_type": "display_data"
    },
    {
     "name": "stdout",
     "output_type": "stream",
     "text": [
      "\n",
      "Upper Outliers in Flyers\n",
      "\n"
     ]
    },
    {
     "data": {
      "text/html": [
       "<div>\n",
       "<style scoped>\n",
       "    .dataframe tbody tr th:only-of-type {\n",
       "        vertical-align: middle;\n",
       "    }\n",
       "\n",
       "    .dataframe tbody tr th {\n",
       "        vertical-align: top;\n",
       "    }\n",
       "\n",
       "    .dataframe thead th {\n",
       "        text-align: right;\n",
       "    }\n",
       "</style>\n",
       "<table border=\"1\" class=\"dataframe\">\n",
       "  <thead>\n",
       "    <tr style=\"text-align: right;\">\n",
       "      <th></th>\n",
       "      <th>Flyers</th>\n",
       "    </tr>\n",
       "  </thead>\n",
       "  <tbody>\n",
       "  </tbody>\n",
       "</table>\n",
       "</div>"
      ],
      "text/plain": [
       "Empty DataFrame\n",
       "Columns: [Flyers]\n",
       "Index: []"
      ]
     },
     "metadata": {},
     "output_type": "display_data"
    },
    {
     "name": "stdout",
     "output_type": "stream",
     "text": [
      "\n"
     ]
    },
    {
     "data": {
      "image/png": "[encoded data removed]",
      "text/plain": [
       "<Figure size 1152x288 with 2 Axes>"
      ]
     },
     "metadata": {
      "needs_background": "light"
     },
     "output_type": "display_data"
    },
    {
     "name": "stdout",
     "output_type": "stream",
     "text": [
      "-------------------------------------------------------------------\n"
     ]
    }
   ],
   "source": [
    "get_low_and_up_bounds_df(df[['Flyers']], k = 3)"
   ]
  },
  {
   "cell_type": "markdown",
   "metadata": {},
   "source": [
    "**NOTE:there is not upper outliers. but there is still one lower outlier  -38 which it does not make sense**"
   ]
  },
  {
   "cell_type": "code",
   "execution_count": 33,
   "metadata": {
    "scrolled": false
   },
   "outputs": [
    {
     "name": "stdout",
     "output_type": "stream",
     "text": [
      "\n",
      "Price\n",
      "K: 3\n",
      "Lower Fence: 0.5\n",
      "Upper Fence: 0.5\n",
      "\n",
      "Lower Outliers in Price\n",
      "\n"
     ]
    },
    {
     "data": {
      "text/html": [
       "<div>\n",
       "<style scoped>\n",
       "    .dataframe tbody tr th:only-of-type {\n",
       "        vertical-align: middle;\n",
       "    }\n",
       "\n",
       "    .dataframe tbody tr th {\n",
       "        vertical-align: top;\n",
       "    }\n",
       "\n",
       "    .dataframe thead th {\n",
       "        text-align: right;\n",
       "    }\n",
       "</style>\n",
       "<table border=\"1\" class=\"dataframe\">\n",
       "  <thead>\n",
       "    <tr style=\"text-align: right;\">\n",
       "      <th></th>\n",
       "      <th>Price</th>\n",
       "    </tr>\n",
       "  </thead>\n",
       "  <tbody>\n",
       "  </tbody>\n",
       "</table>\n",
       "</div>"
      ],
      "text/plain": [
       "Empty DataFrame\n",
       "Columns: [Price]\n",
       "Index: []"
      ]
     },
     "metadata": {},
     "output_type": "display_data"
    },
    {
     "name": "stdout",
     "output_type": "stream",
     "text": [
      "\n",
      "Upper Outliers in Price\n",
      "\n"
     ]
    },
    {
     "data": {
      "text/html": [
       "<div>\n",
       "<style scoped>\n",
       "    .dataframe tbody tr th:only-of-type {\n",
       "        vertical-align: middle;\n",
       "    }\n",
       "\n",
       "    .dataframe tbody tr th {\n",
       "        vertical-align: top;\n",
       "    }\n",
       "\n",
       "    .dataframe thead th {\n",
       "        text-align: right;\n",
       "    }\n",
       "</style>\n",
       "<table border=\"1\" class=\"dataframe\">\n",
       "  <thead>\n",
       "    <tr style=\"text-align: right;\">\n",
       "      <th></th>\n",
       "      <th>Price</th>\n",
       "    </tr>\n",
       "  </thead>\n",
       "  <tbody>\n",
       "  </tbody>\n",
       "</table>\n",
       "</div>"
      ],
      "text/plain": [
       "Empty DataFrame\n",
       "Columns: [Price]\n",
       "Index: []"
      ]
     },
     "metadata": {},
     "output_type": "display_data"
    },
    {
     "name": "stdout",
     "output_type": "stream",
     "text": [
      "\n"
     ]
    },
    {
     "data": {
      "image/png": "[encoded data removed]",
      "text/plain": [
       "<Figure size 1152x288 with 2 Axes>"
      ]
     },
     "metadata": {
      "needs_background": "light"
     },
     "output_type": "display_data"
    },
    {
     "name": "stdout",
     "output_type": "stream",
     "text": [
      "-------------------------------------------------------------------\n"
     ]
    }
   ],
   "source": [
    "get_low_and_up_bounds_df(df[['Price']], k = 3)"
   ]
  },
  {
   "cell_type": "markdown",
   "metadata": {},
   "source": [
    "**Note: there are not outliers at all**"
   ]
  },
  {
   "cell_type": "code",
   "execution_count": 34,
   "metadata": {
    "scrolled": true
   },
   "outputs": [
    {
     "name": "stdout",
     "output_type": "stream",
     "text": [
      "\n",
      "Sales\n",
      "K: 3\n",
      "Lower Fence: -10.0\n",
      "Upper Fence: 60.0\n",
      "\n",
      "Lower Outliers in Sales\n",
      "\n"
     ]
    },
    {
     "data": {
      "text/html": [
       "<div>\n",
       "<style scoped>\n",
       "    .dataframe tbody tr th:only-of-type {\n",
       "        vertical-align: middle;\n",
       "    }\n",
       "\n",
       "    .dataframe tbody tr th {\n",
       "        vertical-align: top;\n",
       "    }\n",
       "\n",
       "    .dataframe thead th {\n",
       "        text-align: right;\n",
       "    }\n",
       "</style>\n",
       "<table border=\"1\" class=\"dataframe\">\n",
       "  <thead>\n",
       "    <tr style=\"text-align: right;\">\n",
       "      <th></th>\n",
       "      <th>Sales</th>\n",
       "    </tr>\n",
       "  </thead>\n",
       "  <tbody>\n",
       "  </tbody>\n",
       "</table>\n",
       "</div>"
      ],
      "text/plain": [
       "Empty DataFrame\n",
       "Columns: [Sales]\n",
       "Index: []"
      ]
     },
     "metadata": {},
     "output_type": "display_data"
    },
    {
     "name": "stdout",
     "output_type": "stream",
     "text": [
      "\n",
      "Upper Outliers in Sales\n",
      "\n"
     ]
    },
    {
     "data": {
      "text/html": [
       "<div>\n",
       "<style scoped>\n",
       "    .dataframe tbody tr th:only-of-type {\n",
       "        vertical-align: middle;\n",
       "    }\n",
       "\n",
       "    .dataframe tbody tr th {\n",
       "        vertical-align: top;\n",
       "    }\n",
       "\n",
       "    .dataframe thead th {\n",
       "        text-align: right;\n",
       "    }\n",
       "</style>\n",
       "<table border=\"1\" class=\"dataframe\">\n",
       "  <thead>\n",
       "    <tr style=\"text-align: right;\">\n",
       "      <th></th>\n",
       "      <th>Sales</th>\n",
       "    </tr>\n",
       "  </thead>\n",
       "  <tbody>\n",
       "    <tr>\n",
       "      <th>181</th>\n",
       "      <td>143</td>\n",
       "    </tr>\n",
       "    <tr>\n",
       "      <th>182</th>\n",
       "      <td>158</td>\n",
       "    </tr>\n",
       "    <tr>\n",
       "      <th>183</th>\n",
       "      <td>235</td>\n",
       "    </tr>\n",
       "    <tr>\n",
       "      <th>184</th>\n",
       "      <td>534</td>\n",
       "    </tr>\n",
       "  </tbody>\n",
       "</table>\n",
       "</div>"
      ],
      "text/plain": [
       "     Sales\n",
       "181    143\n",
       "182    158\n",
       "183    235\n",
       "184    534"
      ]
     },
     "metadata": {},
     "output_type": "display_data"
    },
    {
     "name": "stdout",
     "output_type": "stream",
     "text": [
      "\n"
     ]
    },
    {
     "data": {
      "image/png": "[encoded data removed]",
      "text/plain": [
       "<Figure size 1152x288 with 2 Axes>"
      ]
     },
     "metadata": {
      "needs_background": "light"
     },
     "output_type": "display_data"
    },
    {
     "name": "stdout",
     "output_type": "stream",
     "text": [
      "-------------------------------------------------------------------\n"
     ]
    }
   ],
   "source": [
    "get_low_and_up_bounds_df(df[['Sales']], k = 3)"
   ]
  },
  {
   "cell_type": "markdown",
   "metadata": {},
   "source": [
    "**Note: there is not lower outliers but there are upper outliers we can use to see the max sales over all**"
   ]
  },
  {
   "cell_type": "code",
   "execution_count": 35,
   "metadata": {
    "scrolled": false
   },
   "outputs": [
    {
     "name": "stdout",
     "output_type": "stream",
     "text": [
      "\n",
      "Temperature\n",
      "K: 3\n",
      "Lower Fence: -16.299999999999997\n",
      "Upper Fence: 137.7\n",
      "\n",
      "Lower Outliers in Temperature\n",
      "\n"
     ]
    },
    {
     "data": {
      "text/html": [
       "<div>\n",
       "<style scoped>\n",
       "    .dataframe tbody tr th:only-of-type {\n",
       "        vertical-align: middle;\n",
       "    }\n",
       "\n",
       "    .dataframe tbody tr th {\n",
       "        vertical-align: top;\n",
       "    }\n",
       "\n",
       "    .dataframe thead th {\n",
       "        text-align: right;\n",
       "    }\n",
       "</style>\n",
       "<table border=\"1\" class=\"dataframe\">\n",
       "  <thead>\n",
       "    <tr style=\"text-align: right;\">\n",
       "      <th></th>\n",
       "      <th>Date</th>\n",
       "      <th>Day</th>\n",
       "      <th>Temperature</th>\n",
       "      <th>Rainfall</th>\n",
       "      <th>Flyers</th>\n",
       "      <th>Price</th>\n",
       "      <th>Sales</th>\n",
       "    </tr>\n",
       "  </thead>\n",
       "  <tbody>\n",
       "  </tbody>\n",
       "</table>\n",
       "</div>"
      ],
      "text/plain": [
       "Empty DataFrame\n",
       "Columns: [Date, Day, Temperature, Rainfall, Flyers, Price, Sales]\n",
       "Index: []"
      ]
     },
     "metadata": {},
     "output_type": "display_data"
    },
    {
     "name": "stdout",
     "output_type": "stream",
     "text": [
      "\n",
      "Upper Outliers in Temperature\n",
      "\n"
     ]
    },
    {
     "data": {
      "text/html": [
       "<div>\n",
       "<style scoped>\n",
       "    .dataframe tbody tr th:only-of-type {\n",
       "        vertical-align: middle;\n",
       "    }\n",
       "\n",
       "    .dataframe tbody tr th {\n",
       "        vertical-align: top;\n",
       "    }\n",
       "\n",
       "    .dataframe thead th {\n",
       "        text-align: right;\n",
       "    }\n",
       "</style>\n",
       "<table border=\"1\" class=\"dataframe\">\n",
       "  <thead>\n",
       "    <tr style=\"text-align: right;\">\n",
       "      <th></th>\n",
       "      <th>Date</th>\n",
       "      <th>Day</th>\n",
       "      <th>Temperature</th>\n",
       "      <th>Rainfall</th>\n",
       "      <th>Flyers</th>\n",
       "      <th>Price</th>\n",
       "      <th>Sales</th>\n",
       "    </tr>\n",
       "  </thead>\n",
       "  <tbody>\n",
       "    <tr>\n",
       "      <th>41</th>\n",
       "      <td>2/11/17</td>\n",
       "      <td>Saturday</td>\n",
       "      <td>212.0</td>\n",
       "      <td>0.91</td>\n",
       "      <td>35</td>\n",
       "      <td>0.5</td>\n",
       "      <td>21</td>\n",
       "    </tr>\n",
       "  </tbody>\n",
       "</table>\n",
       "</div>"
      ],
      "text/plain": [
       "       Date       Day  Temperature  Rainfall  Flyers  Price  Sales\n",
       "41  2/11/17  Saturday        212.0      0.91      35    0.5     21"
      ]
     },
     "metadata": {},
     "output_type": "display_data"
    },
    {
     "name": "stdout",
     "output_type": "stream",
     "text": [
      "\n"
     ]
    },
    {
     "data": {
      "image/png": "[encoded data removed]",
      "text/plain": [
       "<Figure size 1152x288 with 2 Axes>"
      ]
     },
     "metadata": {
      "needs_background": "light"
     },
     "output_type": "display_data"
    },
    {
     "name": "stdout",
     "output_type": "stream",
     "text": [
      "-------------------------------------------------------------------\n",
      "\n",
      "Rainfall\n",
      "K: 3\n",
      "Lower Fence: -0.13\n",
      "Upper Fence: 1.69\n",
      "\n",
      "Lower Outliers in Rainfall\n",
      "\n"
     ]
    },
    {
     "data": {
      "text/html": [
       "<div>\n",
       "<style scoped>\n",
       "    .dataframe tbody tr th:only-of-type {\n",
       "        vertical-align: middle;\n",
       "    }\n",
       "\n",
       "    .dataframe tbody tr th {\n",
       "        vertical-align: top;\n",
       "    }\n",
       "\n",
       "    .dataframe thead th {\n",
       "        text-align: right;\n",
       "    }\n",
       "</style>\n",
       "<table border=\"1\" class=\"dataframe\">\n",
       "  <thead>\n",
       "    <tr style=\"text-align: right;\">\n",
       "      <th></th>\n",
       "      <th>Date</th>\n",
       "      <th>Day</th>\n",
       "      <th>Temperature</th>\n",
       "      <th>Rainfall</th>\n",
       "      <th>Flyers</th>\n",
       "      <th>Price</th>\n",
       "      <th>Sales</th>\n",
       "    </tr>\n",
       "  </thead>\n",
       "  <tbody>\n",
       "  </tbody>\n",
       "</table>\n",
       "</div>"
      ],
      "text/plain": [
       "Empty DataFrame\n",
       "Columns: [Date, Day, Temperature, Rainfall, Flyers, Price, Sales]\n",
       "Index: []"
      ]
     },
     "metadata": {},
     "output_type": "display_data"
    },
    {
     "name": "stdout",
     "output_type": "stream",
     "text": [
      "\n",
      "Upper Outliers in Rainfall\n",
      "\n"
     ]
    },
    {
     "data": {
      "text/html": [
       "<div>\n",
       "<style scoped>\n",
       "    .dataframe tbody tr th:only-of-type {\n",
       "        vertical-align: middle;\n",
       "    }\n",
       "\n",
       "    .dataframe tbody tr th {\n",
       "        vertical-align: top;\n",
       "    }\n",
       "\n",
       "    .dataframe thead th {\n",
       "        text-align: right;\n",
       "    }\n",
       "</style>\n",
       "<table border=\"1\" class=\"dataframe\">\n",
       "  <thead>\n",
       "    <tr style=\"text-align: right;\">\n",
       "      <th></th>\n",
       "      <th>Date</th>\n",
       "      <th>Day</th>\n",
       "      <th>Temperature</th>\n",
       "      <th>Rainfall</th>\n",
       "      <th>Flyers</th>\n",
       "      <th>Price</th>\n",
       "      <th>Sales</th>\n",
       "    </tr>\n",
       "  </thead>\n",
       "  <tbody>\n",
       "    <tr>\n",
       "      <th>0</th>\n",
       "      <td>1/1/17</td>\n",
       "      <td>Sunday</td>\n",
       "      <td>27.0</td>\n",
       "      <td>2.00</td>\n",
       "      <td>15</td>\n",
       "      <td>0.5</td>\n",
       "      <td>10</td>\n",
       "    </tr>\n",
       "    <tr>\n",
       "      <th>338</th>\n",
       "      <td>12/5/17</td>\n",
       "      <td>Tuesday</td>\n",
       "      <td>22.0</td>\n",
       "      <td>1.82</td>\n",
       "      <td>11</td>\n",
       "      <td>0.5</td>\n",
       "      <td>10</td>\n",
       "    </tr>\n",
       "    <tr>\n",
       "      <th>343</th>\n",
       "      <td>12/10/17</td>\n",
       "      <td>Sunday</td>\n",
       "      <td>31.3</td>\n",
       "      <td>1.82</td>\n",
       "      <td>15</td>\n",
       "      <td>0.5</td>\n",
       "      <td>11</td>\n",
       "    </tr>\n",
       "    <tr>\n",
       "      <th>364</th>\n",
       "      <td>12/31/17</td>\n",
       "      <td>Sunday</td>\n",
       "      <td>15.1</td>\n",
       "      <td>2.50</td>\n",
       "      <td>9</td>\n",
       "      <td>0.5</td>\n",
       "      <td>7</td>\n",
       "    </tr>\n",
       "  </tbody>\n",
       "</table>\n",
       "</div>"
      ],
      "text/plain": [
       "         Date      Day  Temperature  Rainfall  Flyers  Price  Sales\n",
       "0      1/1/17   Sunday         27.0      2.00      15    0.5     10\n",
       "338   12/5/17  Tuesday         22.0      1.82      11    0.5     10\n",
       "343  12/10/17   Sunday         31.3      1.82      15    0.5     11\n",
       "364  12/31/17   Sunday         15.1      2.50       9    0.5      7"
      ]
     },
     "metadata": {},
     "output_type": "display_data"
    },
    {
     "name": "stdout",
     "output_type": "stream",
     "text": [
      "\n"
     ]
    },
    {
     "data": {
      "image/png": "[encoded data removed]",
      "text/plain": [
       "<Figure size 1152x288 with 2 Axes>"
      ]
     },
     "metadata": {
      "needs_background": "light"
     },
     "output_type": "display_data"
    },
    {
     "name": "stdout",
     "output_type": "stream",
     "text": [
      "-------------------------------------------------------------------\n",
      "\n",
      "Flyers\n",
      "K: 3\n",
      "Lower Fence: -23.0\n",
      "Upper Fence: 103.0\n",
      "\n",
      "Lower Outliers in Flyers\n",
      "\n"
     ]
    },
    {
     "data": {
      "text/html": [
       "<div>\n",
       "<style scoped>\n",
       "    .dataframe tbody tr th:only-of-type {\n",
       "        vertical-align: middle;\n",
       "    }\n",
       "\n",
       "    .dataframe tbody tr th {\n",
       "        vertical-align: top;\n",
       "    }\n",
       "\n",
       "    .dataframe thead th {\n",
       "        text-align: right;\n",
       "    }\n",
       "</style>\n",
       "<table border=\"1\" class=\"dataframe\">\n",
       "  <thead>\n",
       "    <tr style=\"text-align: right;\">\n",
       "      <th></th>\n",
       "      <th>Date</th>\n",
       "      <th>Day</th>\n",
       "      <th>Temperature</th>\n",
       "      <th>Rainfall</th>\n",
       "      <th>Flyers</th>\n",
       "      <th>Price</th>\n",
       "      <th>Sales</th>\n",
       "    </tr>\n",
       "  </thead>\n",
       "  <tbody>\n",
       "    <tr>\n",
       "      <th>324</th>\n",
       "      <td>11/21/17</td>\n",
       "      <td>Tuesday</td>\n",
       "      <td>47.0</td>\n",
       "      <td>0.95</td>\n",
       "      <td>-38</td>\n",
       "      <td>0.5</td>\n",
       "      <td>20</td>\n",
       "    </tr>\n",
       "  </tbody>\n",
       "</table>\n",
       "</div>"
      ],
      "text/plain": [
       "         Date      Day  Temperature  Rainfall  Flyers  Price  Sales\n",
       "324  11/21/17  Tuesday         47.0      0.95     -38    0.5     20"
      ]
     },
     "metadata": {},
     "output_type": "display_data"
    },
    {
     "name": "stdout",
     "output_type": "stream",
     "text": [
      "\n",
      "Upper Outliers in Flyers\n",
      "\n"
     ]
    },
    {
     "data": {
      "text/html": [
       "<div>\n",
       "<style scoped>\n",
       "    .dataframe tbody tr th:only-of-type {\n",
       "        vertical-align: middle;\n",
       "    }\n",
       "\n",
       "    .dataframe tbody tr th {\n",
       "        vertical-align: top;\n",
       "    }\n",
       "\n",
       "    .dataframe thead th {\n",
       "        text-align: right;\n",
       "    }\n",
       "</style>\n",
       "<table border=\"1\" class=\"dataframe\">\n",
       "  <thead>\n",
       "    <tr style=\"text-align: right;\">\n",
       "      <th></th>\n",
       "      <th>Date</th>\n",
       "      <th>Day</th>\n",
       "      <th>Temperature</th>\n",
       "      <th>Rainfall</th>\n",
       "      <th>Flyers</th>\n",
       "      <th>Price</th>\n",
       "      <th>Sales</th>\n",
       "    </tr>\n",
       "  </thead>\n",
       "  <tbody>\n",
       "  </tbody>\n",
       "</table>\n",
       "</div>"
      ],
      "text/plain": [
       "Empty DataFrame\n",
       "Columns: [Date, Day, Temperature, Rainfall, Flyers, Price, Sales]\n",
       "Index: []"
      ]
     },
     "metadata": {},
     "output_type": "display_data"
    },
    {
     "name": "stdout",
     "output_type": "stream",
     "text": [
      "\n"
     ]
    },
    {
     "data": {
      "image/png": "[encoded data removed]",
      "text/plain": [
       "<Figure size 1152x288 with 2 Axes>"
      ]
     },
     "metadata": {
      "needs_background": "light"
     },
     "output_type": "display_data"
    },
    {
     "name": "stdout",
     "output_type": "stream",
     "text": [
      "-------------------------------------------------------------------\n",
      "\n",
      "Price\n",
      "K: 3\n",
      "Lower Fence: 0.5\n",
      "Upper Fence: 0.5\n",
      "\n",
      "Lower Outliers in Price\n",
      "\n"
     ]
    },
    {
     "data": {
      "text/html": [
       "<div>\n",
       "<style scoped>\n",
       "    .dataframe tbody tr th:only-of-type {\n",
       "        vertical-align: middle;\n",
       "    }\n",
       "\n",
       "    .dataframe tbody tr th {\n",
       "        vertical-align: top;\n",
       "    }\n",
       "\n",
       "    .dataframe thead th {\n",
       "        text-align: right;\n",
       "    }\n",
       "</style>\n",
       "<table border=\"1\" class=\"dataframe\">\n",
       "  <thead>\n",
       "    <tr style=\"text-align: right;\">\n",
       "      <th></th>\n",
       "      <th>Date</th>\n",
       "      <th>Day</th>\n",
       "      <th>Temperature</th>\n",
       "      <th>Rainfall</th>\n",
       "      <th>Flyers</th>\n",
       "      <th>Price</th>\n",
       "      <th>Sales</th>\n",
       "    </tr>\n",
       "  </thead>\n",
       "  <tbody>\n",
       "  </tbody>\n",
       "</table>\n",
       "</div>"
      ],
      "text/plain": [
       "Empty DataFrame\n",
       "Columns: [Date, Day, Temperature, Rainfall, Flyers, Price, Sales]\n",
       "Index: []"
      ]
     },
     "metadata": {},
     "output_type": "display_data"
    },
    {
     "name": "stdout",
     "output_type": "stream",
     "text": [
      "\n",
      "Upper Outliers in Price\n",
      "\n"
     ]
    },
    {
     "data": {
      "text/html": [
       "<div>\n",
       "<style scoped>\n",
       "    .dataframe tbody tr th:only-of-type {\n",
       "        vertical-align: middle;\n",
       "    }\n",
       "\n",
       "    .dataframe tbody tr th {\n",
       "        vertical-align: top;\n",
       "    }\n",
       "\n",
       "    .dataframe thead th {\n",
       "        text-align: right;\n",
       "    }\n",
       "</style>\n",
       "<table border=\"1\" class=\"dataframe\">\n",
       "  <thead>\n",
       "    <tr style=\"text-align: right;\">\n",
       "      <th></th>\n",
       "      <th>Date</th>\n",
       "      <th>Day</th>\n",
       "      <th>Temperature</th>\n",
       "      <th>Rainfall</th>\n",
       "      <th>Flyers</th>\n",
       "      <th>Price</th>\n",
       "      <th>Sales</th>\n",
       "    </tr>\n",
       "  </thead>\n",
       "  <tbody>\n",
       "  </tbody>\n",
       "</table>\n",
       "</div>"
      ],
      "text/plain": [
       "Empty DataFrame\n",
       "Columns: [Date, Day, Temperature, Rainfall, Flyers, Price, Sales]\n",
       "Index: []"
      ]
     },
     "metadata": {},
     "output_type": "display_data"
    },
    {
     "name": "stdout",
     "output_type": "stream",
     "text": [
      "\n"
     ]
    },
    {
     "data": {
      "image/png": "[encoded data removed]",
      "text/plain": [
       "<Figure size 1152x288 with 2 Axes>"
      ]
     },
     "metadata": {
      "needs_background": "light"
     },
     "output_type": "display_data"
    },
    {
     "name": "stdout",
     "output_type": "stream",
     "text": [
      "-------------------------------------------------------------------\n",
      "\n",
      "Sales\n",
      "K: 3\n",
      "Lower Fence: -10.0\n",
      "Upper Fence: 60.0\n",
      "\n",
      "Lower Outliers in Sales\n",
      "\n"
     ]
    },
    {
     "data": {
      "text/html": [
       "<div>\n",
       "<style scoped>\n",
       "    .dataframe tbody tr th:only-of-type {\n",
       "        vertical-align: middle;\n",
       "    }\n",
       "\n",
       "    .dataframe tbody tr th {\n",
       "        vertical-align: top;\n",
       "    }\n",
       "\n",
       "    .dataframe thead th {\n",
       "        text-align: right;\n",
       "    }\n",
       "</style>\n",
       "<table border=\"1\" class=\"dataframe\">\n",
       "  <thead>\n",
       "    <tr style=\"text-align: right;\">\n",
       "      <th></th>\n",
       "      <th>Date</th>\n",
       "      <th>Day</th>\n",
       "      <th>Temperature</th>\n",
       "      <th>Rainfall</th>\n",
       "      <th>Flyers</th>\n",
       "      <th>Price</th>\n",
       "      <th>Sales</th>\n",
       "    </tr>\n",
       "  </thead>\n",
       "  <tbody>\n",
       "  </tbody>\n",
       "</table>\n",
       "</div>"
      ],
      "text/plain": [
       "Empty DataFrame\n",
       "Columns: [Date, Day, Temperature, Rainfall, Flyers, Price, Sales]\n",
       "Index: []"
      ]
     },
     "metadata": {},
     "output_type": "display_data"
    },
    {
     "name": "stdout",
     "output_type": "stream",
     "text": [
      "\n",
      "Upper Outliers in Sales\n",
      "\n"
     ]
    },
    {
     "data": {
      "text/html": [
       "<div>\n",
       "<style scoped>\n",
       "    .dataframe tbody tr th:only-of-type {\n",
       "        vertical-align: middle;\n",
       "    }\n",
       "\n",
       "    .dataframe tbody tr th {\n",
       "        vertical-align: top;\n",
       "    }\n",
       "\n",
       "    .dataframe thead th {\n",
       "        text-align: right;\n",
       "    }\n",
       "</style>\n",
       "<table border=\"1\" class=\"dataframe\">\n",
       "  <thead>\n",
       "    <tr style=\"text-align: right;\">\n",
       "      <th></th>\n",
       "      <th>Date</th>\n",
       "      <th>Day</th>\n",
       "      <th>Temperature</th>\n",
       "      <th>Rainfall</th>\n",
       "      <th>Flyers</th>\n",
       "      <th>Price</th>\n",
       "      <th>Sales</th>\n",
       "    </tr>\n",
       "  </thead>\n",
       "  <tbody>\n",
       "    <tr>\n",
       "      <th>181</th>\n",
       "      <td>7/1/17</td>\n",
       "      <td>Saturday</td>\n",
       "      <td>102.9</td>\n",
       "      <td>0.47</td>\n",
       "      <td>59</td>\n",
       "      <td>0.5</td>\n",
       "      <td>143</td>\n",
       "    </tr>\n",
       "    <tr>\n",
       "      <th>182</th>\n",
       "      <td>7/2/17</td>\n",
       "      <td>Sunday</td>\n",
       "      <td>93.4</td>\n",
       "      <td>0.51</td>\n",
       "      <td>68</td>\n",
       "      <td>0.5</td>\n",
       "      <td>158</td>\n",
       "    </tr>\n",
       "    <tr>\n",
       "      <th>183</th>\n",
       "      <td>7/3/17</td>\n",
       "      <td>Monday</td>\n",
       "      <td>81.5</td>\n",
       "      <td>0.54</td>\n",
       "      <td>68</td>\n",
       "      <td>0.5</td>\n",
       "      <td>235</td>\n",
       "    </tr>\n",
       "    <tr>\n",
       "      <th>184</th>\n",
       "      <td>7/4/17</td>\n",
       "      <td>Tuesday</td>\n",
       "      <td>84.2</td>\n",
       "      <td>0.59</td>\n",
       "      <td>49</td>\n",
       "      <td>0.5</td>\n",
       "      <td>534</td>\n",
       "    </tr>\n",
       "  </tbody>\n",
       "</table>\n",
       "</div>"
      ],
      "text/plain": [
       "       Date       Day  Temperature  Rainfall  Flyers  Price  Sales\n",
       "181  7/1/17  Saturday        102.9      0.47      59    0.5    143\n",
       "182  7/2/17    Sunday         93.4      0.51      68    0.5    158\n",
       "183  7/3/17    Monday         81.5      0.54      68    0.5    235\n",
       "184  7/4/17   Tuesday         84.2      0.59      49    0.5    534"
      ]
     },
     "metadata": {},
     "output_type": "display_data"
    },
    {
     "name": "stdout",
     "output_type": "stream",
     "text": [
      "\n"
     ]
    },
    {
     "data": {
      "image/png": "[encoded data removed]",
      "text/plain": [
       "<Figure size 1152x288 with 2 Axes>"
      ]
     },
     "metadata": {
      "needs_background": "light"
     },
     "output_type": "display_data"
    },
    {
     "name": "stdout",
     "output_type": "stream",
     "text": [
      "-------------------------------------------------------------------\n"
     ]
    }
   ],
   "source": [
    "get_low_and_up_bounds_df(df, k=3)"
   ]
  },
  {
   "cell_type": "markdown",
   "metadata": {},
   "source": [
    "**takeaways**\n",
    "- July 4 has high sales, \n",
    "- negative flier valuer needs to be fixed. it does not make sense\n"
   ]
  },
  {
   "cell_type": "markdown",
   "metadata": {},
   "source": [
    "**2. Identify if any columns in lemonade.csv are normally distributed. For normally distributed columns:**\n",
    "\n",
    "    - Use a 2 sigma decision rule to isolate the outliers.\n",
    "    - Do these make sense?\n",
    "    - Should certain outliers be kept or removed?"
   ]
  },
  {
   "cell_type": "markdown",
   "metadata": {},
   "source": [
    "There’s a stats.zscore() method btw makes things easier and cleaner"
   ]
  },
  {
   "cell_type": "code",
   "execution_count": 36,
   "metadata": {},
   "outputs": [],
   "source": [
    "def outiers_sigma(df, sigma = 2):\n",
    "    for col in df.columns:\n",
    "        if np.issubdtype(df[col].dtype, np.number):\n",
    "    \n",
    "            z_scores = pd.Series((df[col] - df[col].mean()) / df[col].std())\n",
    "\n",
    "            name = col + '_zs'\n",
    "\n",
    "            df[name] = z_scores\n",
    "\n",
    "            outliers_df = df[df[name].abs() >= sigma]\n",
    "            print(col)\n",
    "            print('')\n",
    "            print('total of bservations: ', outliers_df.shape[0])\n",
    "            display (outliers_df)\n",
    "            print('')\n",
    "            print('_______________________________________________')\n",
    "            print('')"
   ]
  },
  {
   "cell_type": "code",
   "execution_count": 37,
   "metadata": {
    "scrolled": false
   },
   "outputs": [
    {
     "name": "stdout",
     "output_type": "stream",
     "text": [
      "Temperature\n",
      "\n",
      "total of bservations:  10\n"
     ]
    },
    {
     "data": {
      "text/html": [
       "<div>\n",
       "<style scoped>\n",
       "    .dataframe tbody tr th:only-of-type {\n",
       "        vertical-align: middle;\n",
       "    }\n",
       "\n",
       "    .dataframe tbody tr th {\n",
       "        vertical-align: top;\n",
       "    }\n",
       "\n",
       "    .dataframe thead th {\n",
       "        text-align: right;\n",
       "    }\n",
       "</style>\n",
       "<table border=\"1\" class=\"dataframe\">\n",
       "  <thead>\n",
       "    <tr style=\"text-align: right;\">\n",
       "      <th></th>\n",
       "      <th>Date</th>\n",
       "      <th>Day</th>\n",
       "      <th>Temperature</th>\n",
       "      <th>Rainfall</th>\n",
       "      <th>Flyers</th>\n",
       "      <th>Price</th>\n",
       "      <th>Sales</th>\n",
       "      <th>Temperature_zs</th>\n",
       "    </tr>\n",
       "  </thead>\n",
       "  <tbody>\n",
       "    <tr>\n",
       "      <th>41</th>\n",
       "      <td>2/11/17</td>\n",
       "      <td>Saturday</td>\n",
       "      <td>212.0</td>\n",
       "      <td>0.91</td>\n",
       "      <td>35</td>\n",
       "      <td>0.5</td>\n",
       "      <td>21</td>\n",
       "      <td>8.336627</td>\n",
       "    </tr>\n",
       "    <tr>\n",
       "      <th>166</th>\n",
       "      <td>6/16/17</td>\n",
       "      <td>Friday</td>\n",
       "      <td>99.3</td>\n",
       "      <td>0.47</td>\n",
       "      <td>77</td>\n",
       "      <td>0.5</td>\n",
       "      <td>41</td>\n",
       "      <td>2.105251</td>\n",
       "    </tr>\n",
       "    <tr>\n",
       "      <th>176</th>\n",
       "      <td>6/26/17</td>\n",
       "      <td>Monday</td>\n",
       "      <td>102.6</td>\n",
       "      <td>0.47</td>\n",
       "      <td>60</td>\n",
       "      <td>0.5</td>\n",
       "      <td>42</td>\n",
       "      <td>2.287714</td>\n",
       "    </tr>\n",
       "    <tr>\n",
       "      <th>181</th>\n",
       "      <td>7/1/17</td>\n",
       "      <td>Saturday</td>\n",
       "      <td>102.9</td>\n",
       "      <td>0.47</td>\n",
       "      <td>59</td>\n",
       "      <td>0.5</td>\n",
       "      <td>143</td>\n",
       "      <td>2.304301</td>\n",
       "    </tr>\n",
       "    <tr>\n",
       "      <th>190</th>\n",
       "      <td>7/10/17</td>\n",
       "      <td>Monday</td>\n",
       "      <td>98.0</td>\n",
       "      <td>0.49</td>\n",
       "      <td>66</td>\n",
       "      <td>0.5</td>\n",
       "      <td>40</td>\n",
       "      <td>2.033372</td>\n",
       "    </tr>\n",
       "    <tr>\n",
       "      <th>198</th>\n",
       "      <td>7/18/17</td>\n",
       "      <td>Tuesday</td>\n",
       "      <td>99.3</td>\n",
       "      <td>0.47</td>\n",
       "      <td>76</td>\n",
       "      <td>0.5</td>\n",
       "      <td>41</td>\n",
       "      <td>2.105251</td>\n",
       "    </tr>\n",
       "    <tr>\n",
       "      <th>202</th>\n",
       "      <td>7/22/17</td>\n",
       "      <td>Saturday</td>\n",
       "      <td>99.6</td>\n",
       "      <td>0.47</td>\n",
       "      <td>49</td>\n",
       "      <td>0.5</td>\n",
       "      <td>42</td>\n",
       "      <td>2.121838</td>\n",
       "    </tr>\n",
       "    <tr>\n",
       "      <th>207</th>\n",
       "      <td>7/27/17</td>\n",
       "      <td>Thursday</td>\n",
       "      <td>97.9</td>\n",
       "      <td>0.47</td>\n",
       "      <td>74</td>\n",
       "      <td>0.5</td>\n",
       "      <td>43</td>\n",
       "      <td>2.027843</td>\n",
       "    </tr>\n",
       "    <tr>\n",
       "      <th>338</th>\n",
       "      <td>12/5/17</td>\n",
       "      <td>Tuesday</td>\n",
       "      <td>22.0</td>\n",
       "      <td>1.82</td>\n",
       "      <td>11</td>\n",
       "      <td>0.5</td>\n",
       "      <td>10</td>\n",
       "      <td>-2.168799</td>\n",
       "    </tr>\n",
       "    <tr>\n",
       "      <th>364</th>\n",
       "      <td>12/31/17</td>\n",
       "      <td>Sunday</td>\n",
       "      <td>15.1</td>\n",
       "      <td>2.50</td>\n",
       "      <td>9</td>\n",
       "      <td>0.5</td>\n",
       "      <td>7</td>\n",
       "      <td>-2.550311</td>\n",
       "    </tr>\n",
       "  </tbody>\n",
       "</table>\n",
       "</div>"
      ],
      "text/plain": [
       "         Date       Day  Temperature  Rainfall  Flyers  Price  Sales  \\\n",
       "41    2/11/17  Saturday        212.0      0.91      35    0.5     21   \n",
       "166   6/16/17    Friday         99.3      0.47      77    0.5     41   \n",
       "176   6/26/17    Monday        102.6      0.47      60    0.5     42   \n",
       "181    7/1/17  Saturday        102.9      0.47      59    0.5    143   \n",
       "190   7/10/17    Monday         98.0      0.49      66    0.5     40   \n",
       "198   7/18/17   Tuesday         99.3      0.47      76    0.5     41   \n",
       "202   7/22/17  Saturday         99.6      0.47      49    0.5     42   \n",
       "207   7/27/17  Thursday         97.9      0.47      74    0.5     43   \n",
       "338   12/5/17   Tuesday         22.0      1.82      11    0.5     10   \n",
       "364  12/31/17    Sunday         15.1      2.50       9    0.5      7   \n",
       "\n",
       "     Temperature_zs  \n",
       "41         8.336627  \n",
       "166        2.105251  \n",
       "176        2.287714  \n",
       "181        2.304301  \n",
       "190        2.033372  \n",
       "198        2.105251  \n",
       "202        2.121838  \n",
       "207        2.027843  \n",
       "338       -2.168799  \n",
       "364       -2.550311  "
      ]
     },
     "metadata": {},
     "output_type": "display_data"
    },
    {
     "name": "stdout",
     "output_type": "stream",
     "text": [
      "\n",
      "_______________________________________________\n",
      "\n",
      "Rainfall\n",
      "\n",
      "total of bservations:  19\n"
     ]
    },
    {
     "data": {
      "text/html": [
       "<div>\n",
       "<style scoped>\n",
       "    .dataframe tbody tr th:only-of-type {\n",
       "        vertical-align: middle;\n",
       "    }\n",
       "\n",
       "    .dataframe tbody tr th {\n",
       "        vertical-align: top;\n",
       "    }\n",
       "\n",
       "    .dataframe thead th {\n",
       "        text-align: right;\n",
       "    }\n",
       "</style>\n",
       "<table border=\"1\" class=\"dataframe\">\n",
       "  <thead>\n",
       "    <tr style=\"text-align: right;\">\n",
       "      <th></th>\n",
       "      <th>Date</th>\n",
       "      <th>Day</th>\n",
       "      <th>Temperature</th>\n",
       "      <th>Rainfall</th>\n",
       "      <th>Flyers</th>\n",
       "      <th>Price</th>\n",
       "      <th>Sales</th>\n",
       "      <th>Temperature_zs</th>\n",
       "      <th>Rainfall_zs</th>\n",
       "    </tr>\n",
       "  </thead>\n",
       "  <tbody>\n",
       "    <tr>\n",
       "      <th>0</th>\n",
       "      <td>1/1/17</td>\n",
       "      <td>Sunday</td>\n",
       "      <td>27.0</td>\n",
       "      <td>2.00</td>\n",
       "      <td>15</td>\n",
       "      <td>0.5</td>\n",
       "      <td>10</td>\n",
       "      <td>-1.892340</td>\n",
       "      <td>4.286488</td>\n",
       "    </tr>\n",
       "    <tr>\n",
       "      <th>5</th>\n",
       "      <td>1/6/17</td>\n",
       "      <td>Friday</td>\n",
       "      <td>25.3</td>\n",
       "      <td>1.54</td>\n",
       "      <td>23</td>\n",
       "      <td>0.5</td>\n",
       "      <td>11</td>\n",
       "      <td>-1.986336</td>\n",
       "      <td>2.606983</td>\n",
       "    </tr>\n",
       "    <tr>\n",
       "      <th>6</th>\n",
       "      <td>1/7/17</td>\n",
       "      <td>Saturday</td>\n",
       "      <td>32.9</td>\n",
       "      <td>1.54</td>\n",
       "      <td>19</td>\n",
       "      <td>0.5</td>\n",
       "      <td>13</td>\n",
       "      <td>-1.566119</td>\n",
       "      <td>2.606983</td>\n",
       "    </tr>\n",
       "    <tr>\n",
       "      <th>10</th>\n",
       "      <td>1/11/17</td>\n",
       "      <td>Wednesday</td>\n",
       "      <td>32.6</td>\n",
       "      <td>1.54</td>\n",
       "      <td>23</td>\n",
       "      <td>0.5</td>\n",
       "      <td>12</td>\n",
       "      <td>-1.582706</td>\n",
       "      <td>2.606983</td>\n",
       "    </tr>\n",
       "    <tr>\n",
       "      <th>15</th>\n",
       "      <td>1/16/17</td>\n",
       "      <td>Monday</td>\n",
       "      <td>30.6</td>\n",
       "      <td>1.67</td>\n",
       "      <td>24</td>\n",
       "      <td>0.5</td>\n",
       "      <td>12</td>\n",
       "      <td>-1.693290</td>\n",
       "      <td>3.081626</td>\n",
       "    </tr>\n",
       "    <tr>\n",
       "      <th>16</th>\n",
       "      <td>1/17/17</td>\n",
       "      <td>Tuesday</td>\n",
       "      <td>32.2</td>\n",
       "      <td>1.43</td>\n",
       "      <td>26</td>\n",
       "      <td>0.5</td>\n",
       "      <td>14</td>\n",
       "      <td>-1.604823</td>\n",
       "      <td>2.205363</td>\n",
       "    </tr>\n",
       "    <tr>\n",
       "      <th>19</th>\n",
       "      <td>1/20/17</td>\n",
       "      <td>Friday</td>\n",
       "      <td>31.6</td>\n",
       "      <td>1.43</td>\n",
       "      <td>20</td>\n",
       "      <td>0.5</td>\n",
       "      <td>12</td>\n",
       "      <td>-1.637998</td>\n",
       "      <td>2.205363</td>\n",
       "    </tr>\n",
       "    <tr>\n",
       "      <th>23</th>\n",
       "      <td>1/24/17</td>\n",
       "      <td>Tuesday</td>\n",
       "      <td>28.6</td>\n",
       "      <td>1.54</td>\n",
       "      <td>20</td>\n",
       "      <td>0.5</td>\n",
       "      <td>12</td>\n",
       "      <td>-1.803873</td>\n",
       "      <td>2.606983</td>\n",
       "    </tr>\n",
       "    <tr>\n",
       "      <th>337</th>\n",
       "      <td>12/4/17</td>\n",
       "      <td>Monday</td>\n",
       "      <td>34.9</td>\n",
       "      <td>1.54</td>\n",
       "      <td>16</td>\n",
       "      <td>0.5</td>\n",
       "      <td>13</td>\n",
       "      <td>-1.455535</td>\n",
       "      <td>2.606983</td>\n",
       "    </tr>\n",
       "    <tr>\n",
       "      <th>338</th>\n",
       "      <td>12/5/17</td>\n",
       "      <td>Tuesday</td>\n",
       "      <td>22.0</td>\n",
       "      <td>1.82</td>\n",
       "      <td>11</td>\n",
       "      <td>0.5</td>\n",
       "      <td>10</td>\n",
       "      <td>-2.168799</td>\n",
       "      <td>3.629291</td>\n",
       "    </tr>\n",
       "    <tr>\n",
       "      <th>342</th>\n",
       "      <td>12/9/17</td>\n",
       "      <td>Saturday</td>\n",
       "      <td>31.2</td>\n",
       "      <td>1.43</td>\n",
       "      <td>19</td>\n",
       "      <td>0.5</td>\n",
       "      <td>14</td>\n",
       "      <td>-1.660115</td>\n",
       "      <td>2.205363</td>\n",
       "    </tr>\n",
       "    <tr>\n",
       "      <th>343</th>\n",
       "      <td>12/10/17</td>\n",
       "      <td>Sunday</td>\n",
       "      <td>31.3</td>\n",
       "      <td>1.82</td>\n",
       "      <td>15</td>\n",
       "      <td>0.5</td>\n",
       "      <td>11</td>\n",
       "      <td>-1.654586</td>\n",
       "      <td>3.629291</td>\n",
       "    </tr>\n",
       "    <tr>\n",
       "      <th>346</th>\n",
       "      <td>12/13/17</td>\n",
       "      <td>Wednesday</td>\n",
       "      <td>32.2</td>\n",
       "      <td>1.43</td>\n",
       "      <td>26</td>\n",
       "      <td>0.5</td>\n",
       "      <td>14</td>\n",
       "      <td>-1.604823</td>\n",
       "      <td>2.205363</td>\n",
       "    </tr>\n",
       "    <tr>\n",
       "      <th>347</th>\n",
       "      <td>12/14/17</td>\n",
       "      <td>Thursday</td>\n",
       "      <td>31.9</td>\n",
       "      <td>1.54</td>\n",
       "      <td>24</td>\n",
       "      <td>0.5</td>\n",
       "      <td>13</td>\n",
       "      <td>-1.621411</td>\n",
       "      <td>2.606983</td>\n",
       "    </tr>\n",
       "    <tr>\n",
       "      <th>351</th>\n",
       "      <td>12/18/17</td>\n",
       "      <td>Monday</td>\n",
       "      <td>30.9</td>\n",
       "      <td>1.43</td>\n",
       "      <td>27</td>\n",
       "      <td>0.5</td>\n",
       "      <td>13</td>\n",
       "      <td>-1.676702</td>\n",
       "      <td>2.205363</td>\n",
       "    </tr>\n",
       "    <tr>\n",
       "      <th>355</th>\n",
       "      <td>12/22/17</td>\n",
       "      <td>Friday</td>\n",
       "      <td>30.9</td>\n",
       "      <td>1.54</td>\n",
       "      <td>17</td>\n",
       "      <td>0.5</td>\n",
       "      <td>13</td>\n",
       "      <td>-1.676702</td>\n",
       "      <td>2.606983</td>\n",
       "    </tr>\n",
       "    <tr>\n",
       "      <th>359</th>\n",
       "      <td>12/26/17</td>\n",
       "      <td>Tuesday</td>\n",
       "      <td>28.9</td>\n",
       "      <td>1.43</td>\n",
       "      <td>23</td>\n",
       "      <td>0.5</td>\n",
       "      <td>13</td>\n",
       "      <td>-1.787286</td>\n",
       "      <td>2.205363</td>\n",
       "    </tr>\n",
       "    <tr>\n",
       "      <th>363</th>\n",
       "      <td>12/30/17</td>\n",
       "      <td>Saturday</td>\n",
       "      <td>30.9</td>\n",
       "      <td>1.43</td>\n",
       "      <td>22</td>\n",
       "      <td>0.5</td>\n",
       "      <td>13</td>\n",
       "      <td>-1.676702</td>\n",
       "      <td>2.205363</td>\n",
       "    </tr>\n",
       "    <tr>\n",
       "      <th>364</th>\n",
       "      <td>12/31/17</td>\n",
       "      <td>Sunday</td>\n",
       "      <td>15.1</td>\n",
       "      <td>2.50</td>\n",
       "      <td>9</td>\n",
       "      <td>0.5</td>\n",
       "      <td>7</td>\n",
       "      <td>-2.550311</td>\n",
       "      <td>6.112037</td>\n",
       "    </tr>\n",
       "  </tbody>\n",
       "</table>\n",
       "</div>"
      ],
      "text/plain": [
       "         Date        Day  Temperature  Rainfall  Flyers  Price  Sales  \\\n",
       "0      1/1/17     Sunday         27.0      2.00      15    0.5     10   \n",
       "5      1/6/17     Friday         25.3      1.54      23    0.5     11   \n",
       "6      1/7/17   Saturday         32.9      1.54      19    0.5     13   \n",
       "10    1/11/17  Wednesday         32.6      1.54      23    0.5     12   \n",
       "15    1/16/17     Monday         30.6      1.67      24    0.5     12   \n",
       "16    1/17/17    Tuesday         32.2      1.43      26    0.5     14   \n",
       "19    1/20/17     Friday         31.6      1.43      20    0.5     12   \n",
       "23    1/24/17    Tuesday         28.6      1.54      20    0.5     12   \n",
       "337   12/4/17     Monday         34.9      1.54      16    0.5     13   \n",
       "338   12/5/17    Tuesday         22.0      1.82      11    0.5     10   \n",
       "342   12/9/17   Saturday         31.2      1.43      19    0.5     14   \n",
       "343  12/10/17     Sunday         31.3      1.82      15    0.5     11   \n",
       "346  12/13/17  Wednesday         32.2      1.43      26    0.5     14   \n",
       "347  12/14/17   Thursday         31.9      1.54      24    0.5     13   \n",
       "351  12/18/17     Monday         30.9      1.43      27    0.5     13   \n",
       "355  12/22/17     Friday         30.9      1.54      17    0.5     13   \n",
       "359  12/26/17    Tuesday         28.9      1.43      23    0.5     13   \n",
       "363  12/30/17   Saturday         30.9      1.43      22    0.5     13   \n",
       "364  12/31/17     Sunday         15.1      2.50       9    0.5      7   \n",
       "\n",
       "     Temperature_zs  Rainfall_zs  \n",
       "0         -1.892340     4.286488  \n",
       "5         -1.986336     2.606983  \n",
       "6         -1.566119     2.606983  \n",
       "10        -1.582706     2.606983  \n",
       "15        -1.693290     3.081626  \n",
       "16        -1.604823     2.205363  \n",
       "19        -1.637998     2.205363  \n",
       "23        -1.803873     2.606983  \n",
       "337       -1.455535     2.606983  \n",
       "338       -2.168799     3.629291  \n",
       "342       -1.660115     2.205363  \n",
       "343       -1.654586     3.629291  \n",
       "346       -1.604823     2.205363  \n",
       "347       -1.621411     2.606983  \n",
       "351       -1.676702     2.205363  \n",
       "355       -1.676702     2.606983  \n",
       "359       -1.787286     2.205363  \n",
       "363       -1.676702     2.205363  \n",
       "364       -2.550311     6.112037  "
      ]
     },
     "metadata": {},
     "output_type": "display_data"
    },
    {
     "name": "stdout",
     "output_type": "stream",
     "text": [
      "\n",
      "_______________________________________________\n",
      "\n",
      "Flyers\n",
      "\n",
      "total of bservations:  13\n"
     ]
    },
    {
     "data": {
      "text/html": [
       "<div>\n",
       "<style scoped>\n",
       "    .dataframe tbody tr th:only-of-type {\n",
       "        vertical-align: middle;\n",
       "    }\n",
       "\n",
       "    .dataframe tbody tr th {\n",
       "        vertical-align: top;\n",
       "    }\n",
       "\n",
       "    .dataframe thead th {\n",
       "        text-align: right;\n",
       "    }\n",
       "</style>\n",
       "<table border=\"1\" class=\"dataframe\">\n",
       "  <thead>\n",
       "    <tr style=\"text-align: right;\">\n",
       "      <th></th>\n",
       "      <th>Date</th>\n",
       "      <th>Day</th>\n",
       "      <th>Temperature</th>\n",
       "      <th>Rainfall</th>\n",
       "      <th>Flyers</th>\n",
       "      <th>Price</th>\n",
       "      <th>Sales</th>\n",
       "      <th>Temperature_zs</th>\n",
       "      <th>Rainfall_zs</th>\n",
       "      <th>Flyers_zs</th>\n",
       "    </tr>\n",
       "  </thead>\n",
       "  <tbody>\n",
       "    <tr>\n",
       "      <th>166</th>\n",
       "      <td>6/16/17</td>\n",
       "      <td>Friday</td>\n",
       "      <td>99.3</td>\n",
       "      <td>0.47</td>\n",
       "      <td>77</td>\n",
       "      <td>0.5</td>\n",
       "      <td>41</td>\n",
       "      <td>2.105251</td>\n",
       "      <td>-1.299691</td>\n",
       "      <td>2.676244</td>\n",
       "    </tr>\n",
       "    <tr>\n",
       "      <th>170</th>\n",
       "      <td>6/20/17</td>\n",
       "      <td>Tuesday</td>\n",
       "      <td>85.1</td>\n",
       "      <td>0.54</td>\n",
       "      <td>70</td>\n",
       "      <td>0.5</td>\n",
       "      <td>37</td>\n",
       "      <td>1.320109</td>\n",
       "      <td>-1.044114</td>\n",
       "      <td>2.168499</td>\n",
       "    </tr>\n",
       "    <tr>\n",
       "      <th>171</th>\n",
       "      <td>6/21/17</td>\n",
       "      <td>Wednesday</td>\n",
       "      <td>94.3</td>\n",
       "      <td>0.47</td>\n",
       "      <td>76</td>\n",
       "      <td>0.5</td>\n",
       "      <td>41</td>\n",
       "      <td>1.828792</td>\n",
       "      <td>-1.299691</td>\n",
       "      <td>2.603709</td>\n",
       "    </tr>\n",
       "    <tr>\n",
       "      <th>182</th>\n",
       "      <td>7/2/17</td>\n",
       "      <td>Sunday</td>\n",
       "      <td>93.4</td>\n",
       "      <td>0.51</td>\n",
       "      <td>68</td>\n",
       "      <td>0.5</td>\n",
       "      <td>158</td>\n",
       "      <td>1.779030</td>\n",
       "      <td>-1.153647</td>\n",
       "      <td>2.023429</td>\n",
       "    </tr>\n",
       "    <tr>\n",
       "      <th>183</th>\n",
       "      <td>7/3/17</td>\n",
       "      <td>Monday</td>\n",
       "      <td>81.5</td>\n",
       "      <td>0.54</td>\n",
       "      <td>68</td>\n",
       "      <td>0.5</td>\n",
       "      <td>235</td>\n",
       "      <td>1.121058</td>\n",
       "      <td>-1.044114</td>\n",
       "      <td>2.023429</td>\n",
       "    </tr>\n",
       "    <tr>\n",
       "      <th>194</th>\n",
       "      <td>7/14/17</td>\n",
       "      <td>Friday</td>\n",
       "      <td>92.0</td>\n",
       "      <td>0.50</td>\n",
       "      <td>80</td>\n",
       "      <td>0.5</td>\n",
       "      <td>40</td>\n",
       "      <td>1.701621</td>\n",
       "      <td>-1.190158</td>\n",
       "      <td>2.893849</td>\n",
       "    </tr>\n",
       "    <tr>\n",
       "      <th>198</th>\n",
       "      <td>7/18/17</td>\n",
       "      <td>Tuesday</td>\n",
       "      <td>99.3</td>\n",
       "      <td>0.47</td>\n",
       "      <td>76</td>\n",
       "      <td>0.5</td>\n",
       "      <td>41</td>\n",
       "      <td>2.105251</td>\n",
       "      <td>-1.299691</td>\n",
       "      <td>2.603709</td>\n",
       "    </tr>\n",
       "    <tr>\n",
       "      <th>203</th>\n",
       "      <td>7/23/17</td>\n",
       "      <td>Sunday</td>\n",
       "      <td>89.1</td>\n",
       "      <td>0.51</td>\n",
       "      <td>72</td>\n",
       "      <td>0.5</td>\n",
       "      <td>37</td>\n",
       "      <td>1.541275</td>\n",
       "      <td>-1.153647</td>\n",
       "      <td>2.313569</td>\n",
       "    </tr>\n",
       "    <tr>\n",
       "      <th>204</th>\n",
       "      <td>7/24/17</td>\n",
       "      <td>Monday</td>\n",
       "      <td>83.5</td>\n",
       "      <td>0.57</td>\n",
       "      <td>69</td>\n",
       "      <td>0.5</td>\n",
       "      <td>35</td>\n",
       "      <td>1.231642</td>\n",
       "      <td>-0.934581</td>\n",
       "      <td>2.095964</td>\n",
       "    </tr>\n",
       "    <tr>\n",
       "      <th>207</th>\n",
       "      <td>7/27/17</td>\n",
       "      <td>Thursday</td>\n",
       "      <td>97.9</td>\n",
       "      <td>0.47</td>\n",
       "      <td>74</td>\n",
       "      <td>0.5</td>\n",
       "      <td>43</td>\n",
       "      <td>2.027843</td>\n",
       "      <td>-1.299691</td>\n",
       "      <td>2.458639</td>\n",
       "    </tr>\n",
       "    <tr>\n",
       "      <th>324</th>\n",
       "      <td>11/21/17</td>\n",
       "      <td>Tuesday</td>\n",
       "      <td>47.0</td>\n",
       "      <td>0.95</td>\n",
       "      <td>-38</td>\n",
       "      <td>0.5</td>\n",
       "      <td>20</td>\n",
       "      <td>-0.786506</td>\n",
       "      <td>0.452836</td>\n",
       "      <td>-5.665283</td>\n",
       "    </tr>\n",
       "    <tr>\n",
       "      <th>338</th>\n",
       "      <td>12/5/17</td>\n",
       "      <td>Tuesday</td>\n",
       "      <td>22.0</td>\n",
       "      <td>1.82</td>\n",
       "      <td>11</td>\n",
       "      <td>0.5</td>\n",
       "      <td>10</td>\n",
       "      <td>-2.168799</td>\n",
       "      <td>3.629291</td>\n",
       "      <td>-2.111067</td>\n",
       "    </tr>\n",
       "    <tr>\n",
       "      <th>364</th>\n",
       "      <td>12/31/17</td>\n",
       "      <td>Sunday</td>\n",
       "      <td>15.1</td>\n",
       "      <td>2.50</td>\n",
       "      <td>9</td>\n",
       "      <td>0.5</td>\n",
       "      <td>7</td>\n",
       "      <td>-2.550311</td>\n",
       "      <td>6.112037</td>\n",
       "      <td>-2.256137</td>\n",
       "    </tr>\n",
       "  </tbody>\n",
       "</table>\n",
       "</div>"
      ],
      "text/plain": [
       "         Date        Day  Temperature  Rainfall  Flyers  Price  Sales  \\\n",
       "166   6/16/17     Friday         99.3      0.47      77    0.5     41   \n",
       "170   6/20/17    Tuesday         85.1      0.54      70    0.5     37   \n",
       "171   6/21/17  Wednesday         94.3      0.47      76    0.5     41   \n",
       "182    7/2/17     Sunday         93.4      0.51      68    0.5    158   \n",
       "183    7/3/17     Monday         81.5      0.54      68    0.5    235   \n",
       "194   7/14/17     Friday         92.0      0.50      80    0.5     40   \n",
       "198   7/18/17    Tuesday         99.3      0.47      76    0.5     41   \n",
       "203   7/23/17     Sunday         89.1      0.51      72    0.5     37   \n",
       "204   7/24/17     Monday         83.5      0.57      69    0.5     35   \n",
       "207   7/27/17   Thursday         97.9      0.47      74    0.5     43   \n",
       "324  11/21/17    Tuesday         47.0      0.95     -38    0.5     20   \n",
       "338   12/5/17    Tuesday         22.0      1.82      11    0.5     10   \n",
       "364  12/31/17     Sunday         15.1      2.50       9    0.5      7   \n",
       "\n",
       "     Temperature_zs  Rainfall_zs  Flyers_zs  \n",
       "166        2.105251    -1.299691   2.676244  \n",
       "170        1.320109    -1.044114   2.168499  \n",
       "171        1.828792    -1.299691   2.603709  \n",
       "182        1.779030    -1.153647   2.023429  \n",
       "183        1.121058    -1.044114   2.023429  \n",
       "194        1.701621    -1.190158   2.893849  \n",
       "198        2.105251    -1.299691   2.603709  \n",
       "203        1.541275    -1.153647   2.313569  \n",
       "204        1.231642    -0.934581   2.095964  \n",
       "207        2.027843    -1.299691   2.458639  \n",
       "324       -0.786506     0.452836  -5.665283  \n",
       "338       -2.168799     3.629291  -2.111067  \n",
       "364       -2.550311     6.112037  -2.256137  "
      ]
     },
     "metadata": {},
     "output_type": "display_data"
    },
    {
     "name": "stdout",
     "output_type": "stream",
     "text": [
      "\n",
      "_______________________________________________\n",
      "\n",
      "Price\n",
      "\n",
      "total of bservations:  0\n"
     ]
    },
    {
     "data": {
      "text/html": [
       "<div>\n",
       "<style scoped>\n",
       "    .dataframe tbody tr th:only-of-type {\n",
       "        vertical-align: middle;\n",
       "    }\n",
       "\n",
       "    .dataframe tbody tr th {\n",
       "        vertical-align: top;\n",
       "    }\n",
       "\n",
       "    .dataframe thead th {\n",
       "        text-align: right;\n",
       "    }\n",
       "</style>\n",
       "<table border=\"1\" class=\"dataframe\">\n",
       "  <thead>\n",
       "    <tr style=\"text-align: right;\">\n",
       "      <th></th>\n",
       "      <th>Date</th>\n",
       "      <th>Day</th>\n",
       "      <th>Temperature</th>\n",
       "      <th>Rainfall</th>\n",
       "      <th>Flyers</th>\n",
       "      <th>Price</th>\n",
       "      <th>Sales</th>\n",
       "      <th>Temperature_zs</th>\n",
       "      <th>Rainfall_zs</th>\n",
       "      <th>Flyers_zs</th>\n",
       "      <th>Price_zs</th>\n",
       "    </tr>\n",
       "  </thead>\n",
       "  <tbody>\n",
       "  </tbody>\n",
       "</table>\n",
       "</div>"
      ],
      "text/plain": [
       "Empty DataFrame\n",
       "Columns: [Date, Day, Temperature, Rainfall, Flyers, Price, Sales, Temperature_zs, Rainfall_zs, Flyers_zs, Price_zs]\n",
       "Index: []"
      ]
     },
     "metadata": {},
     "output_type": "display_data"
    },
    {
     "name": "stdout",
     "output_type": "stream",
     "text": [
      "\n",
      "_______________________________________________\n",
      "\n",
      "Sales\n",
      "\n",
      "total of bservations:  4\n"
     ]
    },
    {
     "data": {
      "text/html": [
       "<div>\n",
       "<style scoped>\n",
       "    .dataframe tbody tr th:only-of-type {\n",
       "        vertical-align: middle;\n",
       "    }\n",
       "\n",
       "    .dataframe tbody tr th {\n",
       "        vertical-align: top;\n",
       "    }\n",
       "\n",
       "    .dataframe thead th {\n",
       "        text-align: right;\n",
       "    }\n",
       "</style>\n",
       "<table border=\"1\" class=\"dataframe\">\n",
       "  <thead>\n",
       "    <tr style=\"text-align: right;\">\n",
       "      <th></th>\n",
       "      <th>Date</th>\n",
       "      <th>Day</th>\n",
       "      <th>Temperature</th>\n",
       "      <th>Rainfall</th>\n",
       "      <th>Flyers</th>\n",
       "      <th>Price</th>\n",
       "      <th>Sales</th>\n",
       "      <th>Temperature_zs</th>\n",
       "      <th>Rainfall_zs</th>\n",
       "      <th>Flyers_zs</th>\n",
       "      <th>Price_zs</th>\n",
       "      <th>Sales_zs</th>\n",
       "    </tr>\n",
       "  </thead>\n",
       "  <tbody>\n",
       "    <tr>\n",
       "      <th>181</th>\n",
       "      <td>7/1/17</td>\n",
       "      <td>Saturday</td>\n",
       "      <td>102.9</td>\n",
       "      <td>0.47</td>\n",
       "      <td>59</td>\n",
       "      <td>0.5</td>\n",
       "      <td>143</td>\n",
       "      <td>2.304301</td>\n",
       "      <td>-1.299691</td>\n",
       "      <td>1.370614</td>\n",
       "      <td>NaN</td>\n",
       "      <td>3.720233</td>\n",
       "    </tr>\n",
       "    <tr>\n",
       "      <th>182</th>\n",
       "      <td>7/2/17</td>\n",
       "      <td>Sunday</td>\n",
       "      <td>93.4</td>\n",
       "      <td>0.51</td>\n",
       "      <td>68</td>\n",
       "      <td>0.5</td>\n",
       "      <td>158</td>\n",
       "      <td>1.779030</td>\n",
       "      <td>-1.153647</td>\n",
       "      <td>2.023429</td>\n",
       "      <td>NaN</td>\n",
       "      <td>4.204914</td>\n",
       "    </tr>\n",
       "    <tr>\n",
       "      <th>183</th>\n",
       "      <td>7/3/17</td>\n",
       "      <td>Monday</td>\n",
       "      <td>81.5</td>\n",
       "      <td>0.54</td>\n",
       "      <td>68</td>\n",
       "      <td>0.5</td>\n",
       "      <td>235</td>\n",
       "      <td>1.121058</td>\n",
       "      <td>-1.044114</td>\n",
       "      <td>2.023429</td>\n",
       "      <td>NaN</td>\n",
       "      <td>6.692948</td>\n",
       "    </tr>\n",
       "    <tr>\n",
       "      <th>184</th>\n",
       "      <td>7/4/17</td>\n",
       "      <td>Tuesday</td>\n",
       "      <td>84.2</td>\n",
       "      <td>0.59</td>\n",
       "      <td>49</td>\n",
       "      <td>0.5</td>\n",
       "      <td>534</td>\n",
       "      <td>1.270346</td>\n",
       "      <td>-0.861559</td>\n",
       "      <td>0.645264</td>\n",
       "      <td>NaN</td>\n",
       "      <td>16.354275</td>\n",
       "    </tr>\n",
       "  </tbody>\n",
       "</table>\n",
       "</div>"
      ],
      "text/plain": [
       "       Date       Day  Temperature  Rainfall  Flyers  Price  Sales  \\\n",
       "181  7/1/17  Saturday        102.9      0.47      59    0.5    143   \n",
       "182  7/2/17    Sunday         93.4      0.51      68    0.5    158   \n",
       "183  7/3/17    Monday         81.5      0.54      68    0.5    235   \n",
       "184  7/4/17   Tuesday         84.2      0.59      49    0.5    534   \n",
       "\n",
       "     Temperature_zs  Rainfall_zs  Flyers_zs  Price_zs   Sales_zs  \n",
       "181        2.304301    -1.299691   1.370614       NaN   3.720233  \n",
       "182        1.779030    -1.153647   2.023429       NaN   4.204914  \n",
       "183        1.121058    -1.044114   2.023429       NaN   6.692948  \n",
       "184        1.270346    -0.861559   0.645264       NaN  16.354275  "
      ]
     },
     "metadata": {},
     "output_type": "display_data"
    },
    {
     "name": "stdout",
     "output_type": "stream",
     "text": [
      "\n",
      "_______________________________________________\n",
      "\n"
     ]
    }
   ],
   "source": [
    "outiers_sigma(df)"
   ]
  },
  {
   "cell_type": "code",
   "execution_count": 38,
   "metadata": {},
   "outputs": [],
   "source": [
    "norcols = [ 'Temperature', 'Rainfall', 'Flyers']"
   ]
  },
  {
   "cell_type": "code",
   "execution_count": 39,
   "metadata": {},
   "outputs": [],
   "source": [
    "# for col in norcols:\n",
    "#     df['Z_score_'+col] = pd.Series((df[col] - df[col].mean()) / df[col].std())\n",
    "#     print (df[df['z_score_'+col].abs()>2])\n",
    "\n",
    "#     print('---------\\n')\n",
    "    "
   ]
  },
  {
   "cell_type": "markdown",
   "metadata": {},
   "source": [
    "**3. Now use a 3 sigma decision rule to isolate the outliers in the normally distributed columns from lemonade.csv**"
   ]
  },
  {
   "cell_type": "code",
   "execution_count": 40,
   "metadata": {
    "scrolled": false
   },
   "outputs": [
    {
     "name": "stdout",
     "output_type": "stream",
     "text": [
      "Temperature\n",
      "\n",
      "total of bservations:  1\n"
     ]
    },
    {
     "data": {
      "text/html": [
       "<div>\n",
       "<style scoped>\n",
       "    .dataframe tbody tr th:only-of-type {\n",
       "        vertical-align: middle;\n",
       "    }\n",
       "\n",
       "    .dataframe tbody tr th {\n",
       "        vertical-align: top;\n",
       "    }\n",
       "\n",
       "    .dataframe thead th {\n",
       "        text-align: right;\n",
       "    }\n",
       "</style>\n",
       "<table border=\"1\" class=\"dataframe\">\n",
       "  <thead>\n",
       "    <tr style=\"text-align: right;\">\n",
       "      <th></th>\n",
       "      <th>Date</th>\n",
       "      <th>Day</th>\n",
       "      <th>Temperature</th>\n",
       "      <th>Rainfall</th>\n",
       "      <th>Flyers</th>\n",
       "      <th>Price</th>\n",
       "      <th>Sales</th>\n",
       "      <th>Temperature_zs</th>\n",
       "      <th>Rainfall_zs</th>\n",
       "      <th>Flyers_zs</th>\n",
       "      <th>Price_zs</th>\n",
       "      <th>Sales_zs</th>\n",
       "    </tr>\n",
       "  </thead>\n",
       "  <tbody>\n",
       "    <tr>\n",
       "      <th>41</th>\n",
       "      <td>2/11/17</td>\n",
       "      <td>Saturday</td>\n",
       "      <td>212.0</td>\n",
       "      <td>0.91</td>\n",
       "      <td>35</td>\n",
       "      <td>0.5</td>\n",
       "      <td>21</td>\n",
       "      <td>8.336627</td>\n",
       "      <td>0.306792</td>\n",
       "      <td>-0.370227</td>\n",
       "      <td>NaN</td>\n",
       "      <td>-0.221847</td>\n",
       "    </tr>\n",
       "  </tbody>\n",
       "</table>\n",
       "</div>"
      ],
      "text/plain": [
       "       Date       Day  Temperature  Rainfall  Flyers  Price  Sales  \\\n",
       "41  2/11/17  Saturday        212.0      0.91      35    0.5     21   \n",
       "\n",
       "    Temperature_zs  Rainfall_zs  Flyers_zs  Price_zs  Sales_zs  \n",
       "41        8.336627     0.306792  -0.370227       NaN -0.221847  "
      ]
     },
     "metadata": {},
     "output_type": "display_data"
    },
    {
     "name": "stdout",
     "output_type": "stream",
     "text": [
      "\n",
      "_______________________________________________\n",
      "\n",
      "Rainfall\n",
      "\n",
      "total of bservations:  5\n"
     ]
    },
    {
     "data": {
      "text/html": [
       "<div>\n",
       "<style scoped>\n",
       "    .dataframe tbody tr th:only-of-type {\n",
       "        vertical-align: middle;\n",
       "    }\n",
       "\n",
       "    .dataframe tbody tr th {\n",
       "        vertical-align: top;\n",
       "    }\n",
       "\n",
       "    .dataframe thead th {\n",
       "        text-align: right;\n",
       "    }\n",
       "</style>\n",
       "<table border=\"1\" class=\"dataframe\">\n",
       "  <thead>\n",
       "    <tr style=\"text-align: right;\">\n",
       "      <th></th>\n",
       "      <th>Date</th>\n",
       "      <th>Day</th>\n",
       "      <th>Temperature</th>\n",
       "      <th>Rainfall</th>\n",
       "      <th>Flyers</th>\n",
       "      <th>Price</th>\n",
       "      <th>Sales</th>\n",
       "      <th>Temperature_zs</th>\n",
       "      <th>Rainfall_zs</th>\n",
       "      <th>Flyers_zs</th>\n",
       "      <th>Price_zs</th>\n",
       "      <th>Sales_zs</th>\n",
       "    </tr>\n",
       "  </thead>\n",
       "  <tbody>\n",
       "    <tr>\n",
       "      <th>0</th>\n",
       "      <td>1/1/17</td>\n",
       "      <td>Sunday</td>\n",
       "      <td>27.0</td>\n",
       "      <td>2.00</td>\n",
       "      <td>15</td>\n",
       "      <td>0.5</td>\n",
       "      <td>10</td>\n",
       "      <td>-1.892340</td>\n",
       "      <td>4.286488</td>\n",
       "      <td>-1.820927</td>\n",
       "      <td>NaN</td>\n",
       "      <td>-0.577281</td>\n",
       "    </tr>\n",
       "    <tr>\n",
       "      <th>15</th>\n",
       "      <td>1/16/17</td>\n",
       "      <td>Monday</td>\n",
       "      <td>30.6</td>\n",
       "      <td>1.67</td>\n",
       "      <td>24</td>\n",
       "      <td>0.5</td>\n",
       "      <td>12</td>\n",
       "      <td>-1.693290</td>\n",
       "      <td>3.081626</td>\n",
       "      <td>-1.168112</td>\n",
       "      <td>NaN</td>\n",
       "      <td>-0.512656</td>\n",
       "    </tr>\n",
       "    <tr>\n",
       "      <th>338</th>\n",
       "      <td>12/5/17</td>\n",
       "      <td>Tuesday</td>\n",
       "      <td>22.0</td>\n",
       "      <td>1.82</td>\n",
       "      <td>11</td>\n",
       "      <td>0.5</td>\n",
       "      <td>10</td>\n",
       "      <td>-2.168799</td>\n",
       "      <td>3.629291</td>\n",
       "      <td>-2.111067</td>\n",
       "      <td>NaN</td>\n",
       "      <td>-0.577281</td>\n",
       "    </tr>\n",
       "    <tr>\n",
       "      <th>343</th>\n",
       "      <td>12/10/17</td>\n",
       "      <td>Sunday</td>\n",
       "      <td>31.3</td>\n",
       "      <td>1.82</td>\n",
       "      <td>15</td>\n",
       "      <td>0.5</td>\n",
       "      <td>11</td>\n",
       "      <td>-1.654586</td>\n",
       "      <td>3.629291</td>\n",
       "      <td>-1.820927</td>\n",
       "      <td>NaN</td>\n",
       "      <td>-0.544968</td>\n",
       "    </tr>\n",
       "    <tr>\n",
       "      <th>364</th>\n",
       "      <td>12/31/17</td>\n",
       "      <td>Sunday</td>\n",
       "      <td>15.1</td>\n",
       "      <td>2.50</td>\n",
       "      <td>9</td>\n",
       "      <td>0.5</td>\n",
       "      <td>7</td>\n",
       "      <td>-2.550311</td>\n",
       "      <td>6.112037</td>\n",
       "      <td>-2.256137</td>\n",
       "      <td>NaN</td>\n",
       "      <td>-0.674217</td>\n",
       "    </tr>\n",
       "  </tbody>\n",
       "</table>\n",
       "</div>"
      ],
      "text/plain": [
       "         Date      Day  Temperature  Rainfall  Flyers  Price  Sales  \\\n",
       "0      1/1/17   Sunday         27.0      2.00      15    0.5     10   \n",
       "15    1/16/17   Monday         30.6      1.67      24    0.5     12   \n",
       "338   12/5/17  Tuesday         22.0      1.82      11    0.5     10   \n",
       "343  12/10/17   Sunday         31.3      1.82      15    0.5     11   \n",
       "364  12/31/17   Sunday         15.1      2.50       9    0.5      7   \n",
       "\n",
       "     Temperature_zs  Rainfall_zs  Flyers_zs  Price_zs  Sales_zs  \n",
       "0         -1.892340     4.286488  -1.820927       NaN -0.577281  \n",
       "15        -1.693290     3.081626  -1.168112       NaN -0.512656  \n",
       "338       -2.168799     3.629291  -2.111067       NaN -0.577281  \n",
       "343       -1.654586     3.629291  -1.820927       NaN -0.544968  \n",
       "364       -2.550311     6.112037  -2.256137       NaN -0.674217  "
      ]
     },
     "metadata": {},
     "output_type": "display_data"
    },
    {
     "name": "stdout",
     "output_type": "stream",
     "text": [
      "\n",
      "_______________________________________________\n",
      "\n",
      "Flyers\n",
      "\n",
      "total of bservations:  1\n"
     ]
    },
    {
     "data": {
      "text/html": [
       "<div>\n",
       "<style scoped>\n",
       "    .dataframe tbody tr th:only-of-type {\n",
       "        vertical-align: middle;\n",
       "    }\n",
       "\n",
       "    .dataframe tbody tr th {\n",
       "        vertical-align: top;\n",
       "    }\n",
       "\n",
       "    .dataframe thead th {\n",
       "        text-align: right;\n",
       "    }\n",
       "</style>\n",
       "<table border=\"1\" class=\"dataframe\">\n",
       "  <thead>\n",
       "    <tr style=\"text-align: right;\">\n",
       "      <th></th>\n",
       "      <th>Date</th>\n",
       "      <th>Day</th>\n",
       "      <th>Temperature</th>\n",
       "      <th>Rainfall</th>\n",
       "      <th>Flyers</th>\n",
       "      <th>Price</th>\n",
       "      <th>Sales</th>\n",
       "      <th>Temperature_zs</th>\n",
       "      <th>Rainfall_zs</th>\n",
       "      <th>Flyers_zs</th>\n",
       "      <th>Price_zs</th>\n",
       "      <th>Sales_zs</th>\n",
       "    </tr>\n",
       "  </thead>\n",
       "  <tbody>\n",
       "    <tr>\n",
       "      <th>324</th>\n",
       "      <td>11/21/17</td>\n",
       "      <td>Tuesday</td>\n",
       "      <td>47.0</td>\n",
       "      <td>0.95</td>\n",
       "      <td>-38</td>\n",
       "      <td>0.5</td>\n",
       "      <td>20</td>\n",
       "      <td>-0.786506</td>\n",
       "      <td>0.452836</td>\n",
       "      <td>-5.665283</td>\n",
       "      <td>NaN</td>\n",
       "      <td>-0.254159</td>\n",
       "    </tr>\n",
       "  </tbody>\n",
       "</table>\n",
       "</div>"
      ],
      "text/plain": [
       "         Date      Day  Temperature  Rainfall  Flyers  Price  Sales  \\\n",
       "324  11/21/17  Tuesday         47.0      0.95     -38    0.5     20   \n",
       "\n",
       "     Temperature_zs  Rainfall_zs  Flyers_zs  Price_zs  Sales_zs  \n",
       "324       -0.786506     0.452836  -5.665283       NaN -0.254159  "
      ]
     },
     "metadata": {},
     "output_type": "display_data"
    },
    {
     "name": "stdout",
     "output_type": "stream",
     "text": [
      "\n",
      "_______________________________________________\n",
      "\n",
      "Price\n",
      "\n",
      "total of bservations:  0\n"
     ]
    },
    {
     "data": {
      "text/html": [
       "<div>\n",
       "<style scoped>\n",
       "    .dataframe tbody tr th:only-of-type {\n",
       "        vertical-align: middle;\n",
       "    }\n",
       "\n",
       "    .dataframe tbody tr th {\n",
       "        vertical-align: top;\n",
       "    }\n",
       "\n",
       "    .dataframe thead th {\n",
       "        text-align: right;\n",
       "    }\n",
       "</style>\n",
       "<table border=\"1\" class=\"dataframe\">\n",
       "  <thead>\n",
       "    <tr style=\"text-align: right;\">\n",
       "      <th></th>\n",
       "      <th>Date</th>\n",
       "      <th>Day</th>\n",
       "      <th>Temperature</th>\n",
       "      <th>Rainfall</th>\n",
       "      <th>Flyers</th>\n",
       "      <th>Price</th>\n",
       "      <th>Sales</th>\n",
       "      <th>Temperature_zs</th>\n",
       "      <th>Rainfall_zs</th>\n",
       "      <th>Flyers_zs</th>\n",
       "      <th>Price_zs</th>\n",
       "      <th>Sales_zs</th>\n",
       "    </tr>\n",
       "  </thead>\n",
       "  <tbody>\n",
       "  </tbody>\n",
       "</table>\n",
       "</div>"
      ],
      "text/plain": [
       "Empty DataFrame\n",
       "Columns: [Date, Day, Temperature, Rainfall, Flyers, Price, Sales, Temperature_zs, Rainfall_zs, Flyers_zs, Price_zs, Sales_zs]\n",
       "Index: []"
      ]
     },
     "metadata": {},
     "output_type": "display_data"
    },
    {
     "name": "stdout",
     "output_type": "stream",
     "text": [
      "\n",
      "_______________________________________________\n",
      "\n",
      "Sales\n",
      "\n",
      "total of bservations:  4\n"
     ]
    },
    {
     "data": {
      "text/html": [
       "<div>\n",
       "<style scoped>\n",
       "    .dataframe tbody tr th:only-of-type {\n",
       "        vertical-align: middle;\n",
       "    }\n",
       "\n",
       "    .dataframe tbody tr th {\n",
       "        vertical-align: top;\n",
       "    }\n",
       "\n",
       "    .dataframe thead th {\n",
       "        text-align: right;\n",
       "    }\n",
       "</style>\n",
       "<table border=\"1\" class=\"dataframe\">\n",
       "  <thead>\n",
       "    <tr style=\"text-align: right;\">\n",
       "      <th></th>\n",
       "      <th>Date</th>\n",
       "      <th>Day</th>\n",
       "      <th>Temperature</th>\n",
       "      <th>Rainfall</th>\n",
       "      <th>Flyers</th>\n",
       "      <th>Price</th>\n",
       "      <th>Sales</th>\n",
       "      <th>Temperature_zs</th>\n",
       "      <th>Rainfall_zs</th>\n",
       "      <th>Flyers_zs</th>\n",
       "      <th>Price_zs</th>\n",
       "      <th>Sales_zs</th>\n",
       "    </tr>\n",
       "  </thead>\n",
       "  <tbody>\n",
       "    <tr>\n",
       "      <th>181</th>\n",
       "      <td>7/1/17</td>\n",
       "      <td>Saturday</td>\n",
       "      <td>102.9</td>\n",
       "      <td>0.47</td>\n",
       "      <td>59</td>\n",
       "      <td>0.5</td>\n",
       "      <td>143</td>\n",
       "      <td>2.304301</td>\n",
       "      <td>-1.299691</td>\n",
       "      <td>1.370614</td>\n",
       "      <td>NaN</td>\n",
       "      <td>3.720233</td>\n",
       "    </tr>\n",
       "    <tr>\n",
       "      <th>182</th>\n",
       "      <td>7/2/17</td>\n",
       "      <td>Sunday</td>\n",
       "      <td>93.4</td>\n",
       "      <td>0.51</td>\n",
       "      <td>68</td>\n",
       "      <td>0.5</td>\n",
       "      <td>158</td>\n",
       "      <td>1.779030</td>\n",
       "      <td>-1.153647</td>\n",
       "      <td>2.023429</td>\n",
       "      <td>NaN</td>\n",
       "      <td>4.204914</td>\n",
       "    </tr>\n",
       "    <tr>\n",
       "      <th>183</th>\n",
       "      <td>7/3/17</td>\n",
       "      <td>Monday</td>\n",
       "      <td>81.5</td>\n",
       "      <td>0.54</td>\n",
       "      <td>68</td>\n",
       "      <td>0.5</td>\n",
       "      <td>235</td>\n",
       "      <td>1.121058</td>\n",
       "      <td>-1.044114</td>\n",
       "      <td>2.023429</td>\n",
       "      <td>NaN</td>\n",
       "      <td>6.692948</td>\n",
       "    </tr>\n",
       "    <tr>\n",
       "      <th>184</th>\n",
       "      <td>7/4/17</td>\n",
       "      <td>Tuesday</td>\n",
       "      <td>84.2</td>\n",
       "      <td>0.59</td>\n",
       "      <td>49</td>\n",
       "      <td>0.5</td>\n",
       "      <td>534</td>\n",
       "      <td>1.270346</td>\n",
       "      <td>-0.861559</td>\n",
       "      <td>0.645264</td>\n",
       "      <td>NaN</td>\n",
       "      <td>16.354275</td>\n",
       "    </tr>\n",
       "  </tbody>\n",
       "</table>\n",
       "</div>"
      ],
      "text/plain": [
       "       Date       Day  Temperature  Rainfall  Flyers  Price  Sales  \\\n",
       "181  7/1/17  Saturday        102.9      0.47      59    0.5    143   \n",
       "182  7/2/17    Sunday         93.4      0.51      68    0.5    158   \n",
       "183  7/3/17    Monday         81.5      0.54      68    0.5    235   \n",
       "184  7/4/17   Tuesday         84.2      0.59      49    0.5    534   \n",
       "\n",
       "     Temperature_zs  Rainfall_zs  Flyers_zs  Price_zs   Sales_zs  \n",
       "181        2.304301    -1.299691   1.370614       NaN   3.720233  \n",
       "182        1.779030    -1.153647   2.023429       NaN   4.204914  \n",
       "183        1.121058    -1.044114   2.023429       NaN   6.692948  \n",
       "184        1.270346    -0.861559   0.645264       NaN  16.354275  "
      ]
     },
     "metadata": {},
     "output_type": "display_data"
    },
    {
     "name": "stdout",
     "output_type": "stream",
     "text": [
      "\n",
      "_______________________________________________\n",
      "\n",
      "Temperature_zs\n",
      "\n",
      "total of bservations:  1\n"
     ]
    },
    {
     "data": {
      "text/html": [
       "<div>\n",
       "<style scoped>\n",
       "    .dataframe tbody tr th:only-of-type {\n",
       "        vertical-align: middle;\n",
       "    }\n",
       "\n",
       "    .dataframe tbody tr th {\n",
       "        vertical-align: top;\n",
       "    }\n",
       "\n",
       "    .dataframe thead th {\n",
       "        text-align: right;\n",
       "    }\n",
       "</style>\n",
       "<table border=\"1\" class=\"dataframe\">\n",
       "  <thead>\n",
       "    <tr style=\"text-align: right;\">\n",
       "      <th></th>\n",
       "      <th>Date</th>\n",
       "      <th>Day</th>\n",
       "      <th>Temperature</th>\n",
       "      <th>Rainfall</th>\n",
       "      <th>Flyers</th>\n",
       "      <th>Price</th>\n",
       "      <th>Sales</th>\n",
       "      <th>Temperature_zs</th>\n",
       "      <th>Rainfall_zs</th>\n",
       "      <th>Flyers_zs</th>\n",
       "      <th>Price_zs</th>\n",
       "      <th>Sales_zs</th>\n",
       "      <th>Temperature_zs_zs</th>\n",
       "    </tr>\n",
       "  </thead>\n",
       "  <tbody>\n",
       "    <tr>\n",
       "      <th>41</th>\n",
       "      <td>2/11/17</td>\n",
       "      <td>Saturday</td>\n",
       "      <td>212.0</td>\n",
       "      <td>0.91</td>\n",
       "      <td>35</td>\n",
       "      <td>0.5</td>\n",
       "      <td>21</td>\n",
       "      <td>8.336627</td>\n",
       "      <td>0.306792</td>\n",
       "      <td>-0.370227</td>\n",
       "      <td>NaN</td>\n",
       "      <td>-0.221847</td>\n",
       "      <td>8.336627</td>\n",
       "    </tr>\n",
       "  </tbody>\n",
       "</table>\n",
       "</div>"
      ],
      "text/plain": [
       "       Date       Day  Temperature  Rainfall  Flyers  Price  Sales  \\\n",
       "41  2/11/17  Saturday        212.0      0.91      35    0.5     21   \n",
       "\n",
       "    Temperature_zs  Rainfall_zs  Flyers_zs  Price_zs  Sales_zs  \\\n",
       "41        8.336627     0.306792  -0.370227       NaN -0.221847   \n",
       "\n",
       "    Temperature_zs_zs  \n",
       "41           8.336627  "
      ]
     },
     "metadata": {},
     "output_type": "display_data"
    },
    {
     "name": "stdout",
     "output_type": "stream",
     "text": [
      "\n",
      "_______________________________________________\n",
      "\n",
      "Rainfall_zs\n",
      "\n",
      "total of bservations:  5\n"
     ]
    },
    {
     "data": {
      "text/html": [
       "<div>\n",
       "<style scoped>\n",
       "    .dataframe tbody tr th:only-of-type {\n",
       "        vertical-align: middle;\n",
       "    }\n",
       "\n",
       "    .dataframe tbody tr th {\n",
       "        vertical-align: top;\n",
       "    }\n",
       "\n",
       "    .dataframe thead th {\n",
       "        text-align: right;\n",
       "    }\n",
       "</style>\n",
       "<table border=\"1\" class=\"dataframe\">\n",
       "  <thead>\n",
       "    <tr style=\"text-align: right;\">\n",
       "      <th></th>\n",
       "      <th>Date</th>\n",
       "      <th>Day</th>\n",
       "      <th>Temperature</th>\n",
       "      <th>Rainfall</th>\n",
       "      <th>Flyers</th>\n",
       "      <th>Price</th>\n",
       "      <th>Sales</th>\n",
       "      <th>Temperature_zs</th>\n",
       "      <th>Rainfall_zs</th>\n",
       "      <th>Flyers_zs</th>\n",
       "      <th>Price_zs</th>\n",
       "      <th>Sales_zs</th>\n",
       "      <th>Temperature_zs_zs</th>\n",
       "      <th>Rainfall_zs_zs</th>\n",
       "    </tr>\n",
       "  </thead>\n",
       "  <tbody>\n",
       "    <tr>\n",
       "      <th>0</th>\n",
       "      <td>1/1/17</td>\n",
       "      <td>Sunday</td>\n",
       "      <td>27.0</td>\n",
       "      <td>2.00</td>\n",
       "      <td>15</td>\n",
       "      <td>0.5</td>\n",
       "      <td>10</td>\n",
       "      <td>-1.892340</td>\n",
       "      <td>4.286488</td>\n",
       "      <td>-1.820927</td>\n",
       "      <td>NaN</td>\n",
       "      <td>-0.577281</td>\n",
       "      <td>-1.892340</td>\n",
       "      <td>4.286488</td>\n",
       "    </tr>\n",
       "    <tr>\n",
       "      <th>15</th>\n",
       "      <td>1/16/17</td>\n",
       "      <td>Monday</td>\n",
       "      <td>30.6</td>\n",
       "      <td>1.67</td>\n",
       "      <td>24</td>\n",
       "      <td>0.5</td>\n",
       "      <td>12</td>\n",
       "      <td>-1.693290</td>\n",
       "      <td>3.081626</td>\n",
       "      <td>-1.168112</td>\n",
       "      <td>NaN</td>\n",
       "      <td>-0.512656</td>\n",
       "      <td>-1.693290</td>\n",
       "      <td>3.081626</td>\n",
       "    </tr>\n",
       "    <tr>\n",
       "      <th>338</th>\n",
       "      <td>12/5/17</td>\n",
       "      <td>Tuesday</td>\n",
       "      <td>22.0</td>\n",
       "      <td>1.82</td>\n",
       "      <td>11</td>\n",
       "      <td>0.5</td>\n",
       "      <td>10</td>\n",
       "      <td>-2.168799</td>\n",
       "      <td>3.629291</td>\n",
       "      <td>-2.111067</td>\n",
       "      <td>NaN</td>\n",
       "      <td>-0.577281</td>\n",
       "      <td>-2.168799</td>\n",
       "      <td>3.629291</td>\n",
       "    </tr>\n",
       "    <tr>\n",
       "      <th>343</th>\n",
       "      <td>12/10/17</td>\n",
       "      <td>Sunday</td>\n",
       "      <td>31.3</td>\n",
       "      <td>1.82</td>\n",
       "      <td>15</td>\n",
       "      <td>0.5</td>\n",
       "      <td>11</td>\n",
       "      <td>-1.654586</td>\n",
       "      <td>3.629291</td>\n",
       "      <td>-1.820927</td>\n",
       "      <td>NaN</td>\n",
       "      <td>-0.544968</td>\n",
       "      <td>-1.654586</td>\n",
       "      <td>3.629291</td>\n",
       "    </tr>\n",
       "    <tr>\n",
       "      <th>364</th>\n",
       "      <td>12/31/17</td>\n",
       "      <td>Sunday</td>\n",
       "      <td>15.1</td>\n",
       "      <td>2.50</td>\n",
       "      <td>9</td>\n",
       "      <td>0.5</td>\n",
       "      <td>7</td>\n",
       "      <td>-2.550311</td>\n",
       "      <td>6.112037</td>\n",
       "      <td>-2.256137</td>\n",
       "      <td>NaN</td>\n",
       "      <td>-0.674217</td>\n",
       "      <td>-2.550311</td>\n",
       "      <td>6.112037</td>\n",
       "    </tr>\n",
       "  </tbody>\n",
       "</table>\n",
       "</div>"
      ],
      "text/plain": [
       "         Date      Day  Temperature  Rainfall  Flyers  Price  Sales  \\\n",
       "0      1/1/17   Sunday         27.0      2.00      15    0.5     10   \n",
       "15    1/16/17   Monday         30.6      1.67      24    0.5     12   \n",
       "338   12/5/17  Tuesday         22.0      1.82      11    0.5     10   \n",
       "343  12/10/17   Sunday         31.3      1.82      15    0.5     11   \n",
       "364  12/31/17   Sunday         15.1      2.50       9    0.5      7   \n",
       "\n",
       "     Temperature_zs  Rainfall_zs  Flyers_zs  Price_zs  Sales_zs  \\\n",
       "0         -1.892340     4.286488  -1.820927       NaN -0.577281   \n",
       "15        -1.693290     3.081626  -1.168112       NaN -0.512656   \n",
       "338       -2.168799     3.629291  -2.111067       NaN -0.577281   \n",
       "343       -1.654586     3.629291  -1.820927       NaN -0.544968   \n",
       "364       -2.550311     6.112037  -2.256137       NaN -0.674217   \n",
       "\n",
       "     Temperature_zs_zs  Rainfall_zs_zs  \n",
       "0            -1.892340        4.286488  \n",
       "15           -1.693290        3.081626  \n",
       "338          -2.168799        3.629291  \n",
       "343          -1.654586        3.629291  \n",
       "364          -2.550311        6.112037  "
      ]
     },
     "metadata": {},
     "output_type": "display_data"
    },
    {
     "name": "stdout",
     "output_type": "stream",
     "text": [
      "\n",
      "_______________________________________________\n",
      "\n",
      "Flyers_zs\n",
      "\n",
      "total of bservations:  1\n"
     ]
    },
    {
     "data": {
      "text/html": [
       "<div>\n",
       "<style scoped>\n",
       "    .dataframe tbody tr th:only-of-type {\n",
       "        vertical-align: middle;\n",
       "    }\n",
       "\n",
       "    .dataframe tbody tr th {\n",
       "        vertical-align: top;\n",
       "    }\n",
       "\n",
       "    .dataframe thead th {\n",
       "        text-align: right;\n",
       "    }\n",
       "</style>\n",
       "<table border=\"1\" class=\"dataframe\">\n",
       "  <thead>\n",
       "    <tr style=\"text-align: right;\">\n",
       "      <th></th>\n",
       "      <th>Date</th>\n",
       "      <th>Day</th>\n",
       "      <th>Temperature</th>\n",
       "      <th>Rainfall</th>\n",
       "      <th>Flyers</th>\n",
       "      <th>Price</th>\n",
       "      <th>Sales</th>\n",
       "      <th>Temperature_zs</th>\n",
       "      <th>Rainfall_zs</th>\n",
       "      <th>Flyers_zs</th>\n",
       "      <th>Price_zs</th>\n",
       "      <th>Sales_zs</th>\n",
       "      <th>Temperature_zs_zs</th>\n",
       "      <th>Rainfall_zs_zs</th>\n",
       "      <th>Flyers_zs_zs</th>\n",
       "    </tr>\n",
       "  </thead>\n",
       "  <tbody>\n",
       "    <tr>\n",
       "      <th>324</th>\n",
       "      <td>11/21/17</td>\n",
       "      <td>Tuesday</td>\n",
       "      <td>47.0</td>\n",
       "      <td>0.95</td>\n",
       "      <td>-38</td>\n",
       "      <td>0.5</td>\n",
       "      <td>20</td>\n",
       "      <td>-0.786506</td>\n",
       "      <td>0.452836</td>\n",
       "      <td>-5.665283</td>\n",
       "      <td>NaN</td>\n",
       "      <td>-0.254159</td>\n",
       "      <td>-0.786506</td>\n",
       "      <td>0.452836</td>\n",
       "      <td>-5.665283</td>\n",
       "    </tr>\n",
       "  </tbody>\n",
       "</table>\n",
       "</div>"
      ],
      "text/plain": [
       "         Date      Day  Temperature  Rainfall  Flyers  Price  Sales  \\\n",
       "324  11/21/17  Tuesday         47.0      0.95     -38    0.5     20   \n",
       "\n",
       "     Temperature_zs  Rainfall_zs  Flyers_zs  Price_zs  Sales_zs  \\\n",
       "324       -0.786506     0.452836  -5.665283       NaN -0.254159   \n",
       "\n",
       "     Temperature_zs_zs  Rainfall_zs_zs  Flyers_zs_zs  \n",
       "324          -0.786506        0.452836     -5.665283  "
      ]
     },
     "metadata": {},
     "output_type": "display_data"
    },
    {
     "name": "stdout",
     "output_type": "stream",
     "text": [
      "\n",
      "_______________________________________________\n",
      "\n",
      "Price_zs\n",
      "\n",
      "total of bservations:  0\n"
     ]
    },
    {
     "data": {
      "text/html": [
       "<div>\n",
       "<style scoped>\n",
       "    .dataframe tbody tr th:only-of-type {\n",
       "        vertical-align: middle;\n",
       "    }\n",
       "\n",
       "    .dataframe tbody tr th {\n",
       "        vertical-align: top;\n",
       "    }\n",
       "\n",
       "    .dataframe thead th {\n",
       "        text-align: right;\n",
       "    }\n",
       "</style>\n",
       "<table border=\"1\" class=\"dataframe\">\n",
       "  <thead>\n",
       "    <tr style=\"text-align: right;\">\n",
       "      <th></th>\n",
       "      <th>Date</th>\n",
       "      <th>Day</th>\n",
       "      <th>Temperature</th>\n",
       "      <th>Rainfall</th>\n",
       "      <th>Flyers</th>\n",
       "      <th>Price</th>\n",
       "      <th>Sales</th>\n",
       "      <th>Temperature_zs</th>\n",
       "      <th>Rainfall_zs</th>\n",
       "      <th>Flyers_zs</th>\n",
       "      <th>Price_zs</th>\n",
       "      <th>Sales_zs</th>\n",
       "      <th>Temperature_zs_zs</th>\n",
       "      <th>Rainfall_zs_zs</th>\n",
       "      <th>Flyers_zs_zs</th>\n",
       "      <th>Price_zs_zs</th>\n",
       "    </tr>\n",
       "  </thead>\n",
       "  <tbody>\n",
       "  </tbody>\n",
       "</table>\n",
       "</div>"
      ],
      "text/plain": [
       "Empty DataFrame\n",
       "Columns: [Date, Day, Temperature, Rainfall, Flyers, Price, Sales, Temperature_zs, Rainfall_zs, Flyers_zs, Price_zs, Sales_zs, Temperature_zs_zs, Rainfall_zs_zs, Flyers_zs_zs, Price_zs_zs]\n",
       "Index: []"
      ]
     },
     "metadata": {},
     "output_type": "display_data"
    },
    {
     "name": "stdout",
     "output_type": "stream",
     "text": [
      "\n",
      "_______________________________________________\n",
      "\n",
      "Sales_zs\n",
      "\n",
      "total of bservations:  4\n"
     ]
    },
    {
     "data": {
      "text/html": [
       "<div>\n",
       "<style scoped>\n",
       "    .dataframe tbody tr th:only-of-type {\n",
       "        vertical-align: middle;\n",
       "    }\n",
       "\n",
       "    .dataframe tbody tr th {\n",
       "        vertical-align: top;\n",
       "    }\n",
       "\n",
       "    .dataframe thead th {\n",
       "        text-align: right;\n",
       "    }\n",
       "</style>\n",
       "<table border=\"1\" class=\"dataframe\">\n",
       "  <thead>\n",
       "    <tr style=\"text-align: right;\">\n",
       "      <th></th>\n",
       "      <th>Date</th>\n",
       "      <th>Day</th>\n",
       "      <th>Temperature</th>\n",
       "      <th>Rainfall</th>\n",
       "      <th>Flyers</th>\n",
       "      <th>Price</th>\n",
       "      <th>Sales</th>\n",
       "      <th>Temperature_zs</th>\n",
       "      <th>Rainfall_zs</th>\n",
       "      <th>Flyers_zs</th>\n",
       "      <th>Price_zs</th>\n",
       "      <th>Sales_zs</th>\n",
       "      <th>Temperature_zs_zs</th>\n",
       "      <th>Rainfall_zs_zs</th>\n",
       "      <th>Flyers_zs_zs</th>\n",
       "      <th>Price_zs_zs</th>\n",
       "      <th>Sales_zs_zs</th>\n",
       "    </tr>\n",
       "  </thead>\n",
       "  <tbody>\n",
       "    <tr>\n",
       "      <th>181</th>\n",
       "      <td>7/1/17</td>\n",
       "      <td>Saturday</td>\n",
       "      <td>102.9</td>\n",
       "      <td>0.47</td>\n",
       "      <td>59</td>\n",
       "      <td>0.5</td>\n",
       "      <td>143</td>\n",
       "      <td>2.304301</td>\n",
       "      <td>-1.299691</td>\n",
       "      <td>1.370614</td>\n",
       "      <td>NaN</td>\n",
       "      <td>3.720233</td>\n",
       "      <td>2.304301</td>\n",
       "      <td>-1.299691</td>\n",
       "      <td>1.370614</td>\n",
       "      <td>NaN</td>\n",
       "      <td>3.720233</td>\n",
       "    </tr>\n",
       "    <tr>\n",
       "      <th>182</th>\n",
       "      <td>7/2/17</td>\n",
       "      <td>Sunday</td>\n",
       "      <td>93.4</td>\n",
       "      <td>0.51</td>\n",
       "      <td>68</td>\n",
       "      <td>0.5</td>\n",
       "      <td>158</td>\n",
       "      <td>1.779030</td>\n",
       "      <td>-1.153647</td>\n",
       "      <td>2.023429</td>\n",
       "      <td>NaN</td>\n",
       "      <td>4.204914</td>\n",
       "      <td>1.779030</td>\n",
       "      <td>-1.153647</td>\n",
       "      <td>2.023429</td>\n",
       "      <td>NaN</td>\n",
       "      <td>4.204914</td>\n",
       "    </tr>\n",
       "    <tr>\n",
       "      <th>183</th>\n",
       "      <td>7/3/17</td>\n",
       "      <td>Monday</td>\n",
       "      <td>81.5</td>\n",
       "      <td>0.54</td>\n",
       "      <td>68</td>\n",
       "      <td>0.5</td>\n",
       "      <td>235</td>\n",
       "      <td>1.121058</td>\n",
       "      <td>-1.044114</td>\n",
       "      <td>2.023429</td>\n",
       "      <td>NaN</td>\n",
       "      <td>6.692948</td>\n",
       "      <td>1.121058</td>\n",
       "      <td>-1.044114</td>\n",
       "      <td>2.023429</td>\n",
       "      <td>NaN</td>\n",
       "      <td>6.692948</td>\n",
       "    </tr>\n",
       "    <tr>\n",
       "      <th>184</th>\n",
       "      <td>7/4/17</td>\n",
       "      <td>Tuesday</td>\n",
       "      <td>84.2</td>\n",
       "      <td>0.59</td>\n",
       "      <td>49</td>\n",
       "      <td>0.5</td>\n",
       "      <td>534</td>\n",
       "      <td>1.270346</td>\n",
       "      <td>-0.861559</td>\n",
       "      <td>0.645264</td>\n",
       "      <td>NaN</td>\n",
       "      <td>16.354275</td>\n",
       "      <td>1.270346</td>\n",
       "      <td>-0.861559</td>\n",
       "      <td>0.645264</td>\n",
       "      <td>NaN</td>\n",
       "      <td>16.354275</td>\n",
       "    </tr>\n",
       "  </tbody>\n",
       "</table>\n",
       "</div>"
      ],
      "text/plain": [
       "       Date       Day  Temperature  Rainfall  Flyers  Price  Sales  \\\n",
       "181  7/1/17  Saturday        102.9      0.47      59    0.5    143   \n",
       "182  7/2/17    Sunday         93.4      0.51      68    0.5    158   \n",
       "183  7/3/17    Monday         81.5      0.54      68    0.5    235   \n",
       "184  7/4/17   Tuesday         84.2      0.59      49    0.5    534   \n",
       "\n",
       "     Temperature_zs  Rainfall_zs  Flyers_zs  Price_zs   Sales_zs  \\\n",
       "181        2.304301    -1.299691   1.370614       NaN   3.720233   \n",
       "182        1.779030    -1.153647   2.023429       NaN   4.204914   \n",
       "183        1.121058    -1.044114   2.023429       NaN   6.692948   \n",
       "184        1.270346    -0.861559   0.645264       NaN  16.354275   \n",
       "\n",
       "     Temperature_zs_zs  Rainfall_zs_zs  Flyers_zs_zs  Price_zs_zs  Sales_zs_zs  \n",
       "181           2.304301       -1.299691      1.370614          NaN     3.720233  \n",
       "182           1.779030       -1.153647      2.023429          NaN     4.204914  \n",
       "183           1.121058       -1.044114      2.023429          NaN     6.692948  \n",
       "184           1.270346       -0.861559      0.645264          NaN    16.354275  "
      ]
     },
     "metadata": {},
     "output_type": "display_data"
    },
    {
     "name": "stdout",
     "output_type": "stream",
     "text": [
      "\n",
      "_______________________________________________\n",
      "\n"
     ]
    }
   ],
   "source": [
    "outiers_sigma(df, sigma = 3)"
   ]
  },
  {
   "cell_type": "code",
   "execution_count": null,
   "metadata": {},
   "outputs": [],
   "source": []
  }
 ],
 "metadata": {
  "kernelspec": {
   "display_name": "Python 3",
   "language": "python",
   "name": "python3"
  },
  "language_info": {
   "codemirror_mode": {
    "name": "ipython",
    "version": 3
   },
   "file_extension": ".py",
   "mimetype": "text/x-python",
   "name": "python",
   "nbconvert_exporter": "python",
   "pygments_lexer": "ipython3",
   "version": "3.8.5"
  }
 },
 "nbformat": 4,
 "nbformat_minor": 4
}
